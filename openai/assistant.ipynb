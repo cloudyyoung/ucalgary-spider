{
 "cells": [
  {
   "cell_type": "code",
   "execution_count": 336,
   "metadata": {},
   "outputs": [],
   "source": [
    "import os\n",
    "import json\n",
    "import jsonlines\n",
    "from time import sleep\n",
    "from openai import Client\n",
    "from dotenv import load_dotenv"
   ]
  },
  {
   "cell_type": "code",
   "execution_count": 337,
   "metadata": {},
   "outputs": [],
   "source": [
    "load_dotenv()\n",
    "\n",
    "OPENAI_API_KEY = os.environ[\"OPENAI_API_KEY\"] = os.getenv(\"OPENAI_API_KEY\")\n",
    "OPENAI_ASSISTANT_ID = os.environ[\"OPENAI_ASSISTANT_ID\"] = os.getenv(\"OPENAI_ASSISTANT_ID\")"
   ]
  },
  {
   "cell_type": "code",
   "execution_count": 338,
   "metadata": {},
   "outputs": [],
   "source": [
    "with open('instructions-2.txt', 'r') as f:\n",
    "    instructions = f.read()"
   ]
  },
  {
   "cell_type": "code",
   "execution_count": 339,
   "metadata": {},
   "outputs": [],
   "source": [
    "client = Client(api_key=OPENAI_API_KEY)"
   ]
  },
  {
   "cell_type": "code",
   "execution_count": 340,
   "metadata": {},
   "outputs": [],
   "source": [
    "# Prepare assistant files\n",
    "programs_file = client.files.create(\n",
    "    file=open(\"data/program.json\", \"rb\"),\n",
    "    purpose=\"assistants\",\n",
    ")"
   ]
  },
  {
   "cell_type": "code",
   "execution_count": 341,
   "metadata": {},
   "outputs": [
    {
     "data": {
      "text/plain": [
       "Assistant(id='asst_FPCQ6UhNeRHdKcptjZjW6t4V', created_at=1702528907, description=None, file_ids=['file-wGmXP1lQiSSCa54LtU5EVzrK'], instructions='You are given a piece of json for an arbitrary course, you need to understand the course context, \\nand then convert \"prereq\", \"antireq\" and \"coreq\" fields (which are pure text) into jsonlogic expressions.\\n\\nYou are allow to use the following custom JsonLogic operators:\\n1. `courses`: a list of all courses that the student has taken\\n2. `course`: a course object, given `code` and `number` fields, eg. course \"CPSC 251\" is converted to`{ \"course\": [\"CPSC\", \"251] }`.\\n3. `units`: a total number of units taken in a list of courses, given as a list of course objects, eg. `{ \"units\": [...] }`.\\n4. `consent`: a boolean value, given a consenter; always return `True`, \\n4.1 Example: When a course offered by department of CPSC, and the requisite describes \"Consent of the department\", it is convert to `{ \"consent\": \"CPSC\" }`.\\n\\nYou are allow and encouraged to follow the following rules:\\n1. You are allow to use any builtin JsonLogic operators. \\n2. Operators `some` and `all` are more preferable than `or` and `and`.\\n3. You are encouraged to use `program.json` file to refer any program information.\\n4. You are encouraged to use the custom JsonLogic operators listed above.\\n5. When parsing antirequisite, you can use \"not\" or \"none\" operator to negate the logic. \"none\" is more preferable than \"not some\".\\n\\nHere are the requirements for your response, you must follow all of them:\\n1. Your response must not contain any non-json content\\n2. Your response must be a valid jsonlines file, with each line being a json object\\n3. Your response must not be wrapped in ```{}``` or ```[]``` or any markdown\\n4. For each course in your response, there must be four fields: `cid`, `prereq`, `antireq`, `coreq`\\n\\n\\nSample input:\\n\"CPSC 351; or 3 units from CPSC 219, 233 or 235 and 3 units from MATH 271, 273, 315 and 3 units from STAT 205, 213, 321\"\\n\\nSample output:\\n```json\\n{\\n    \"some\": [\\n        {\"course\": [\"CPSC\", \"351\"]},\\n        {\\n            \"all\": [\\n                {\\n                    \">=\": [\\n                        {\\n                            \"units\": [\\n                                {\"course\": [\"CPSC\", \"219\"]},\\n                                {\"course\": [\"CPSC\", \"233\"]},\\n                                {\"course\": [\"CPSC\", \"235\"]},\\n                            ]\\n                        },\\n                        3,\\n                    ]\\n                },\\n                {\\n                    \">=\": [\\n                        {\\n                            \"units\": [\\n                                {\"course\": [\"MATH\", \"271\"]},\\n                                {\"course\": [\"MATH\", \"273\"]},\\n                                {\"course\": [\"MATH\", \"315\"]},\\n                            ]\\n                        },\\n                        3,\\n                    ]\\n                },\\n                {\\n                    \">=\": [\\n                        {\\n                            \"units\": [\\n                                {\"course\": [\"STAT\", \"205\"]},\\n                                {\"course\": [\"STAT\", \"213\"]},\\n                                {\"course\": [\"STAT\", \"321\"]},\\n                            ]\\n                        },\\n                        3,\\n                    ]\\n                },\\n            ]\\n        },\\n    ]\\n}\\n```\\nAnd this rule applied to the given data will return `true`.', metadata={}, model='gpt-4', name='Nero', object='assistant', tools=[])"
      ]
     },
     "execution_count": 341,
     "metadata": {},
     "output_type": "execute_result"
    }
   ],
   "source": [
    "assistant = client.beta.assistants.retrieve(assistant_id=OPENAI_ASSISTANT_ID)\n",
    "assistant.instructions = instructions\n",
    "assistant.file_ids = [\n",
    "    programs_file.id,\n",
    "]\n",
    "\n",
    "assistant"
   ]
  },
  {
   "cell_type": "markdown",
   "metadata": {},
   "source": [
    "## Conversion"
   ]
  },
  {
   "cell_type": "code",
   "execution_count": 342,
   "metadata": {},
   "outputs": [],
   "source": [
    "with jsonlines.open(\"data/course.jsonl\") as reader:\n",
    "    course_info = list(reader)\n"
   ]
  },
  {
   "cell_type": "code",
   "execution_count": 343,
   "metadata": {},
   "outputs": [
    {
     "data": {
      "text/plain": [
       "Thread(id='thread_ghb2m0ZrYVEjYvu9Erjta1wf', created_at=1704149094, metadata={}, object='thread')"
      ]
     },
     "execution_count": 343,
     "metadata": {},
     "output_type": "execute_result"
    }
   ],
   "source": [
    "thread = client.beta.threads.create()\n",
    "thread"
   ]
  },
  {
   "cell_type": "code",
   "execution_count": 344,
   "metadata": {},
   "outputs": [
    {
     "name": "stdout",
     "output_type": "stream",
     "text": [
      "{\"cid\": \"107154\", \"code\": \"CPSC\", \"number\": \"203\", \"faculty\": \"SC\", \"departments\": [\"CPSC\"], \"units\": 3.0, \"prereq\": null, \"antireq\": \"Not open for registration to Computer Science majors.\", \"coreq\": null}\n",
      "{\"cid\": \"160416\", \"code\": \"CPSC\", \"number\": \"217\", \"faculty\": \"SC\", \"departments\": [\"CPSC\"], \"units\": 3.0, \"prereq\": null, \"antireq\": \"Credit for CPSC 217 and any of 215, 231, 235, DATA 211, ENCM 339, ENGG 233 or ENDG 233 will not be allowed.\", \"coreq\": null}\n",
      "{\"cid\": \"160417\", \"code\": \"CPSC\", \"number\": \"219\", \"faculty\": \"SC\", \"departments\": [\"CPSC\"], \"units\": 3.0, \"prereq\": \"CPSC 217 or DATA 211.\", \"antireq\": \"Credit for CPSC 219 and any of 233, 235, ENEL 497 or ENCM 493 will not be allowed.\", \"coreq\": null}\n",
      "{\"cid\": \"107164\", \"code\": \"CPSC\", \"number\": \"231\", \"faculty\": \"SC\", \"departments\": [\"CPSC\"], \"units\": 3.0, \"prereq\": \"Admission to Computer Science, Bioinformatics, or Natural Science with a primary concentration in Computer Science.\", \"antireq\": \"Credit for CPSC 231 and any of CPSC 215, 217, 235, DATA 211, ENCM 339, ENGG 233, or ENDG 233 will not be allowed.\", \"coreq\": null}\n",
      "{\"cid\": \"107165\", \"code\": \"CPSC\", \"number\": \"233\", \"faculty\": \"SC\", \"departments\": [\"CPSC\"], \"units\": 3.0, \"prereq\": \"CPSC 231 and admission to Computer Science, Bioinformatics, or Natural Science with a primary concentration in Computer Science.\", \"antireq\": \"Credit for CPSC 233 and any of 219, 235, ENEL 497 or ENCM 493 will not be allowed.\", \"coreq\": null}\n"
     ]
    }
   ],
   "source": [
    "# Prepare content\n",
    "\n",
    "courses_list = []\n",
    "courses_list = filter(lambda x: x[\"code\"] == \"CPSC\", course_info)\n",
    "courses_list = list(map(lambda x: json.dumps(x), courses_list))\n",
    "courses_list = courses_list[:5]\n",
    "\n",
    "content = \"\\n\".join(map(lambda x: str(x), courses_list))\n",
    "print(content)"
   ]
  },
  {
   "cell_type": "code",
   "execution_count": 345,
   "metadata": {},
   "outputs": [
    {
     "data": {
      "text/plain": [
       "ThreadMessage(id='msg_ANNuT7hF4QjStirdcVlFa8UB', assistant_id=None, content=[MessageContentText(text=Text(annotations=[], value='{\"cid\": \"107154\", \"code\": \"CPSC\", \"number\": \"203\", \"faculty\": \"SC\", \"departments\": [\"CPSC\"], \"units\": 3.0, \"prereq\": null, \"antireq\": \"Not open for registration to Computer Science majors.\", \"coreq\": null}\\n{\"cid\": \"160416\", \"code\": \"CPSC\", \"number\": \"217\", \"faculty\": \"SC\", \"departments\": [\"CPSC\"], \"units\": 3.0, \"prereq\": null, \"antireq\": \"Credit for CPSC 217 and any of 215, 231, 235, DATA 211, ENCM 339, ENGG 233 or ENDG 233 will not be allowed.\", \"coreq\": null}\\n{\"cid\": \"160417\", \"code\": \"CPSC\", \"number\": \"219\", \"faculty\": \"SC\", \"departments\": [\"CPSC\"], \"units\": 3.0, \"prereq\": \"CPSC 217 or DATA 211.\", \"antireq\": \"Credit for CPSC 219 and any of 233, 235, ENEL 497 or ENCM 493 will not be allowed.\", \"coreq\": null}\\n{\"cid\": \"107164\", \"code\": \"CPSC\", \"number\": \"231\", \"faculty\": \"SC\", \"departments\": [\"CPSC\"], \"units\": 3.0, \"prereq\": \"Admission to Computer Science, Bioinformatics, or Natural Science with a primary concentration in Computer Science.\", \"antireq\": \"Credit for CPSC 231 and any of CPSC 215, 217, 235, DATA 211, ENCM 339, ENGG 233, or ENDG 233 will not be allowed.\", \"coreq\": null}\\n{\"cid\": \"107165\", \"code\": \"CPSC\", \"number\": \"233\", \"faculty\": \"SC\", \"departments\": [\"CPSC\"], \"units\": 3.0, \"prereq\": \"CPSC 231 and admission to Computer Science, Bioinformatics, or Natural Science with a primary concentration in Computer Science.\", \"antireq\": \"Credit for CPSC 233 and any of 219, 235, ENEL 497 or ENCM 493 will not be allowed.\", \"coreq\": null}'), type='text')], created_at=1704149095, file_ids=[], metadata={}, object='thread.message', role='user', run_id=None, thread_id='thread_ghb2m0ZrYVEjYvu9Erjta1wf')"
      ]
     },
     "execution_count": 345,
     "metadata": {},
     "output_type": "execute_result"
    }
   ],
   "source": [
    "message = client.beta.threads.messages.create(\n",
    "    thread_id=thread.id,\n",
    "    role=\"user\",\n",
    "    content=content,\n",
    ")\n",
    "\n",
    "message"
   ]
  },
  {
   "cell_type": "code",
   "execution_count": 346,
   "metadata": {},
   "outputs": [
    {
     "data": {
      "text/plain": [
       "Run(id='run_k9pVShMJpHJlmt9cDaxTjaf9', assistant_id='asst_FPCQ6UhNeRHdKcptjZjW6t4V', cancelled_at=None, completed_at=None, created_at=1704149095, expires_at=1704149695, failed_at=None, file_ids=[], instructions='You are given a piece of json for an arbitrary course, you need to understand the course context, \\nand then convert \"prereq\", \"antireq\" and \"coreq\" fields (which are pure text) into jsonlogic expressions.\\n\\nYou are allow to use the following custom JsonLogic operators:\\n1. `courses`: a list of all courses that the student has taken\\n2. `course`: a course object, given `code` and `number` fields, eg. course \"CPSC 251\" is converted to`{ \"course\": [\"CPSC\", \"251] }`.\\n3. `units`: a total number of units taken in a list of courses, given as a list of course objects, eg. `{ \"units\": [...] }`.\\n4. `consent`: a boolean value, given a consenter; always return `True`, \\n4.1 Example: When a course offered by department of CPSC, and the requisite describes \"Consent of the department\", it is convert to `{ \"consent\": \"CPSC\" }`.\\n\\nYou are allow and encouraged to follow the following rules:\\n1. You are allow to use any builtin JsonLogic operators. \\n2. Operators `some` and `all` are more preferable than `or` and `and`.\\n3. You are encouraged to use `program.json` file to refer any program information.\\n4. You are encouraged to use the custom JsonLogic operators listed above.\\n5. When parsing antirequisite, you can use \"not\" or \"none\" operator to negate the logic. \"none\" is more preferable than \"not some\".\\n\\nHere are the requirements for your response, you must follow all of them:\\n1. Your response must not contain any non-json content\\n2. Your response must be a valid jsonlines file, with each line being a json object\\n3. Your response must not be wrapped in ```{}``` or ```[]``` or any markdown\\n4. For each course in your response, there must be four fields: `cid`, `prereq`, `antireq`, `coreq`\\n\\n\\nSample input:\\n\"CPSC 351; or 3 units from CPSC 219, 233 or 235 and 3 units from MATH 271, 273, 315 and 3 units from STAT 205, 213, 321\"\\n\\nSample output:\\n```json\\n{\\n    \"some\": [\\n        {\"course\": [\"CPSC\", \"351\"]},\\n        {\\n            \"all\": [\\n                {\\n                    \">=\": [\\n                        {\\n                            \"units\": [\\n                                {\"course\": [\"CPSC\", \"219\"]},\\n                                {\"course\": [\"CPSC\", \"233\"]},\\n                                {\"course\": [\"CPSC\", \"235\"]},\\n                            ]\\n                        },\\n                        3,\\n                    ]\\n                },\\n                {\\n                    \">=\": [\\n                        {\\n                            \"units\": [\\n                                {\"course\": [\"MATH\", \"271\"]},\\n                                {\"course\": [\"MATH\", \"273\"]},\\n                                {\"course\": [\"MATH\", \"315\"]},\\n                            ]\\n                        },\\n                        3,\\n                    ]\\n                },\\n                {\\n                    \">=\": [\\n                        {\\n                            \"units\": [\\n                                {\"course\": [\"STAT\", \"205\"]},\\n                                {\"course\": [\"STAT\", \"213\"]},\\n                                {\"course\": [\"STAT\", \"321\"]},\\n                            ]\\n                        },\\n                        3,\\n                    ]\\n                },\\n            ]\\n        },\\n    ]\\n}\\n```\\nAnd this rule applied to the given data will return `true`.', last_error=None, metadata={}, model='gpt-4-1106-preview', object='thread.run', required_action=None, started_at=None, status='queued', thread_id='thread_ghb2m0ZrYVEjYvu9Erjta1wf', tools=[ToolAssistantToolsCode(type='code_interpreter'), ToolAssistantToolsRetrieval(type='retrieval')])"
      ]
     },
     "execution_count": 346,
     "metadata": {},
     "output_type": "execute_result"
    }
   ],
   "source": [
    "run = client.beta.threads.runs.create(\n",
    "    thread_id=thread.id,\n",
    "    assistant_id=assistant.id,\n",
    "    model=\"gpt-4-1106-preview\",\n",
    "    instructions=instructions,\n",
    "    tools=[{\"type\": \"code_interpreter\"}, {\"type\": \"retrieval\"}],\n",
    ")\n",
    "\n",
    "run"
   ]
  },
  {
   "cell_type": "markdown",
   "metadata": {},
   "source": [
    "### Result"
   ]
  },
  {
   "cell_type": "code",
   "execution_count": 347,
   "metadata": {},
   "outputs": [
    {
     "name": "stdout",
     "output_type": "stream",
     "text": [
      "Waiting for completion...\n",
      "Waiting for completion...\n",
      "Waiting for completion...\n"
     ]
    },
    {
     "data": {
      "text/plain": [
       "Run(id='run_k9pVShMJpHJlmt9cDaxTjaf9', assistant_id='asst_FPCQ6UhNeRHdKcptjZjW6t4V', cancelled_at=None, completed_at=1704149119, created_at=1704149095, expires_at=None, failed_at=None, file_ids=[], instructions='You are given a piece of json for an arbitrary course, you need to understand the course context, \\nand then convert \"prereq\", \"antireq\" and \"coreq\" fields (which are pure text) into jsonlogic expressions.\\n\\nYou are allow to use the following custom JsonLogic operators:\\n1. `courses`: a list of all courses that the student has taken\\n2. `course`: a course object, given `code` and `number` fields, eg. course \"CPSC 251\" is converted to`{ \"course\": [\"CPSC\", \"251] }`.\\n3. `units`: a total number of units taken in a list of courses, given as a list of course objects, eg. `{ \"units\": [...] }`.\\n4. `consent`: a boolean value, given a consenter; always return `True`, \\n4.1 Example: When a course offered by department of CPSC, and the requisite describes \"Consent of the department\", it is convert to `{ \"consent\": \"CPSC\" }`.\\n\\nYou are allow and encouraged to follow the following rules:\\n1. You are allow to use any builtin JsonLogic operators. \\n2. Operators `some` and `all` are more preferable than `or` and `and`.\\n3. You are encouraged to use `program.json` file to refer any program information.\\n4. You are encouraged to use the custom JsonLogic operators listed above.\\n5. When parsing antirequisite, you can use \"not\" or \"none\" operator to negate the logic. \"none\" is more preferable than \"not some\".\\n\\nHere are the requirements for your response, you must follow all of them:\\n1. Your response must not contain any non-json content\\n2. Your response must be a valid jsonlines file, with each line being a json object\\n3. Your response must not be wrapped in ```{}``` or ```[]``` or any markdown\\n4. For each course in your response, there must be four fields: `cid`, `prereq`, `antireq`, `coreq`\\n\\n\\nSample input:\\n\"CPSC 351; or 3 units from CPSC 219, 233 or 235 and 3 units from MATH 271, 273, 315 and 3 units from STAT 205, 213, 321\"\\n\\nSample output:\\n```json\\n{\\n    \"some\": [\\n        {\"course\": [\"CPSC\", \"351\"]},\\n        {\\n            \"all\": [\\n                {\\n                    \">=\": [\\n                        {\\n                            \"units\": [\\n                                {\"course\": [\"CPSC\", \"219\"]},\\n                                {\"course\": [\"CPSC\", \"233\"]},\\n                                {\"course\": [\"CPSC\", \"235\"]},\\n                            ]\\n                        },\\n                        3,\\n                    ]\\n                },\\n                {\\n                    \">=\": [\\n                        {\\n                            \"units\": [\\n                                {\"course\": [\"MATH\", \"271\"]},\\n                                {\"course\": [\"MATH\", \"273\"]},\\n                                {\"course\": [\"MATH\", \"315\"]},\\n                            ]\\n                        },\\n                        3,\\n                    ]\\n                },\\n                {\\n                    \">=\": [\\n                        {\\n                            \"units\": [\\n                                {\"course\": [\"STAT\", \"205\"]},\\n                                {\"course\": [\"STAT\", \"213\"]},\\n                                {\"course\": [\"STAT\", \"321\"]},\\n                            ]\\n                        },\\n                        3,\\n                    ]\\n                },\\n            ]\\n        },\\n    ]\\n}\\n```\\nAnd this rule applied to the given data will return `true`.', last_error=None, metadata={}, model='gpt-4-1106-preview', object='thread.run', required_action=None, started_at=1704149095, status='completed', thread_id='thread_ghb2m0ZrYVEjYvu9Erjta1wf', tools=[ToolAssistantToolsCode(type='code_interpreter'), ToolAssistantToolsRetrieval(type='retrieval')])"
      ]
     },
     "execution_count": 347,
     "metadata": {},
     "output_type": "execute_result"
    }
   ],
   "source": [
    "is_complete = False\n",
    "\n",
    "# Wait until complete\n",
    "while not is_complete:\n",
    "    run = client.beta.threads.runs.retrieve(\n",
    "        thread_id=thread.id,\n",
    "        run_id=run.id,\n",
    "    )\n",
    "\n",
    "    is_complete = run.status == \"completed\"\n",
    "\n",
    "    if not is_complete:\n",
    "        print(\"Waiting for completion...\")\n",
    "        sleep(10)\n",
    "\n",
    "run"
   ]
  },
  {
   "cell_type": "code",
   "execution_count": 348,
   "metadata": {},
   "outputs": [
    {
     "data": {
      "text/plain": [
       "SyncCursorPage[ThreadMessage](data=[ThreadMessage(id='msg_0MzgMMtdl07pDANyI9p8TvC9', assistant_id='asst_FPCQ6UhNeRHdKcptjZjW6t4V', content=[MessageContentText(text=Text(annotations=[], value='{\"cid\": \"107154\", \"prereq\": null, \"antireq\": {\"none\": [{\"courses\": [{\"course\": [\"CPSC\", \"Major\"]}]}]}, \"coreq\": null}\\n{\"cid\": \"160416\", \"prereq\": null, \"antireq\": {\"none\": [{\"courses\": [{\"course\": [\"CPSC\", \"215\"]}, {\"course\": [\"CPSC\", \"231\"]}, {\"course\": [\"CPSC\", \"235\"]}, {\"course\": [\"DATA\", \"211\"]}, {\"course\": [\"ENCM\", \"339\"]}, {\"course\": [\"ENGG\", \"233\"]}, {\"course\": [\"ENDG\", \"233\"]}]}]}, \"coreq\": null}\\n{\"cid\": \"160417\", \"prereq\": {\"some\": [{\"course\": [\"CPSC\", \"217\"]}, {\"course\": [\"DATA\", \"211\"]}]}, \"antireq\": {\"none\": [{\"courses\": [{\"course\": [\"CPSC\", \"233\"]}, {\"course\": [\"CPSC\", \"235\"]}, {\"course\": [\"ENEL\", \"497\"]}, {\"course\": [\"ENCM\", \"493\"]}]}]}, \"coreq\": null}\\n{\"cid\": \"107164\", \"prereq\": {\"consent\": \"CPSC\"}, \"antireq\": {\"none\": [{\"courses\": [{\"course\": [\"CPSC\", \"215\"]}, {\"course\": [\"CPSC\", \"217\"]}, {\"course\": [\"CPSC\", \"235\"]}, {\"course\": [\"DATA\", \"211\"]}, {\"course\": [\"ENCM\", \"339\"]}, {\"course\": [\"ENGG\", \"233\"]}, {\"course\": [\"ENDG\", \"233\"]}]}]}, \"coreq\": null}\\n{\"cid\": \"107165\", \"prereq\": {\"all\": [{\"course\": [\"CPSC\", \"231\"]}, {\"consent\": \"CPSC\"}]}, \"antireq\": {\"none\": [{\"courses\": [{\"course\": [\"CPSC\", \"219\"]}, {\"course\": [\"CPSC\", \"235\"]}, {\"course\": [\"ENEL\", \"497\"]}, {\"course\": [\"ENCM\", \"493\"]}]}]}, \"coreq\": null}'), type='text')], created_at=1704149096, file_ids=[], metadata={}, object='thread.message', role='assistant', run_id='run_k9pVShMJpHJlmt9cDaxTjaf9', thread_id='thread_ghb2m0ZrYVEjYvu9Erjta1wf'), ThreadMessage(id='msg_ANNuT7hF4QjStirdcVlFa8UB', assistant_id=None, content=[MessageContentText(text=Text(annotations=[], value='{\"cid\": \"107154\", \"code\": \"CPSC\", \"number\": \"203\", \"faculty\": \"SC\", \"departments\": [\"CPSC\"], \"units\": 3.0, \"prereq\": null, \"antireq\": \"Not open for registration to Computer Science majors.\", \"coreq\": null}\\n{\"cid\": \"160416\", \"code\": \"CPSC\", \"number\": \"217\", \"faculty\": \"SC\", \"departments\": [\"CPSC\"], \"units\": 3.0, \"prereq\": null, \"antireq\": \"Credit for CPSC 217 and any of 215, 231, 235, DATA 211, ENCM 339, ENGG 233 or ENDG 233 will not be allowed.\", \"coreq\": null}\\n{\"cid\": \"160417\", \"code\": \"CPSC\", \"number\": \"219\", \"faculty\": \"SC\", \"departments\": [\"CPSC\"], \"units\": 3.0, \"prereq\": \"CPSC 217 or DATA 211.\", \"antireq\": \"Credit for CPSC 219 and any of 233, 235, ENEL 497 or ENCM 493 will not be allowed.\", \"coreq\": null}\\n{\"cid\": \"107164\", \"code\": \"CPSC\", \"number\": \"231\", \"faculty\": \"SC\", \"departments\": [\"CPSC\"], \"units\": 3.0, \"prereq\": \"Admission to Computer Science, Bioinformatics, or Natural Science with a primary concentration in Computer Science.\", \"antireq\": \"Credit for CPSC 231 and any of CPSC 215, 217, 235, DATA 211, ENCM 339, ENGG 233, or ENDG 233 will not be allowed.\", \"coreq\": null}\\n{\"cid\": \"107165\", \"code\": \"CPSC\", \"number\": \"233\", \"faculty\": \"SC\", \"departments\": [\"CPSC\"], \"units\": 3.0, \"prereq\": \"CPSC 231 and admission to Computer Science, Bioinformatics, or Natural Science with a primary concentration in Computer Science.\", \"antireq\": \"Credit for CPSC 233 and any of 219, 235, ENEL 497 or ENCM 493 will not be allowed.\", \"coreq\": null}'), type='text')], created_at=1704149095, file_ids=[], metadata={}, object='thread.message', role='user', run_id=None, thread_id='thread_ghb2m0ZrYVEjYvu9Erjta1wf')], object='list', first_id='msg_0MzgMMtdl07pDANyI9p8TvC9', last_id='msg_ANNuT7hF4QjStirdcVlFa8UB', has_more=False)"
      ]
     },
     "execution_count": 348,
     "metadata": {},
     "output_type": "execute_result"
    }
   ],
   "source": [
    "messages = client.beta.threads.messages.list(\n",
    "    thread_id=thread.id,\n",
    ")\n",
    "\n",
    "messages"
   ]
  },
  {
   "cell_type": "code",
   "execution_count": 349,
   "metadata": {},
   "outputs": [
    {
     "data": {
      "text/plain": [
       "[ThreadMessage(id='msg_0MzgMMtdl07pDANyI9p8TvC9', assistant_id='asst_FPCQ6UhNeRHdKcptjZjW6t4V', content=[MessageContentText(text=Text(annotations=[], value='{\"cid\": \"107154\", \"prereq\": null, \"antireq\": {\"none\": [{\"courses\": [{\"course\": [\"CPSC\", \"Major\"]}]}]}, \"coreq\": null}\\n{\"cid\": \"160416\", \"prereq\": null, \"antireq\": {\"none\": [{\"courses\": [{\"course\": [\"CPSC\", \"215\"]}, {\"course\": [\"CPSC\", \"231\"]}, {\"course\": [\"CPSC\", \"235\"]}, {\"course\": [\"DATA\", \"211\"]}, {\"course\": [\"ENCM\", \"339\"]}, {\"course\": [\"ENGG\", \"233\"]}, {\"course\": [\"ENDG\", \"233\"]}]}]}, \"coreq\": null}\\n{\"cid\": \"160417\", \"prereq\": {\"some\": [{\"course\": [\"CPSC\", \"217\"]}, {\"course\": [\"DATA\", \"211\"]}]}, \"antireq\": {\"none\": [{\"courses\": [{\"course\": [\"CPSC\", \"233\"]}, {\"course\": [\"CPSC\", \"235\"]}, {\"course\": [\"ENEL\", \"497\"]}, {\"course\": [\"ENCM\", \"493\"]}]}]}, \"coreq\": null}\\n{\"cid\": \"107164\", \"prereq\": {\"consent\": \"CPSC\"}, \"antireq\": {\"none\": [{\"courses\": [{\"course\": [\"CPSC\", \"215\"]}, {\"course\": [\"CPSC\", \"217\"]}, {\"course\": [\"CPSC\", \"235\"]}, {\"course\": [\"DATA\", \"211\"]}, {\"course\": [\"ENCM\", \"339\"]}, {\"course\": [\"ENGG\", \"233\"]}, {\"course\": [\"ENDG\", \"233\"]}]}]}, \"coreq\": null}\\n{\"cid\": \"107165\", \"prereq\": {\"all\": [{\"course\": [\"CPSC\", \"231\"]}, {\"consent\": \"CPSC\"}]}, \"antireq\": {\"none\": [{\"courses\": [{\"course\": [\"CPSC\", \"219\"]}, {\"course\": [\"CPSC\", \"235\"]}, {\"course\": [\"ENEL\", \"497\"]}, {\"course\": [\"ENCM\", \"493\"]}]}]}, \"coreq\": null}'), type='text')], created_at=1704149096, file_ids=[], metadata={}, object='thread.message', role='assistant', run_id='run_k9pVShMJpHJlmt9cDaxTjaf9', thread_id='thread_ghb2m0ZrYVEjYvu9Erjta1wf'),\n",
       " ThreadMessage(id='msg_ANNuT7hF4QjStirdcVlFa8UB', assistant_id=None, content=[MessageContentText(text=Text(annotations=[], value='{\"cid\": \"107154\", \"code\": \"CPSC\", \"number\": \"203\", \"faculty\": \"SC\", \"departments\": [\"CPSC\"], \"units\": 3.0, \"prereq\": null, \"antireq\": \"Not open for registration to Computer Science majors.\", \"coreq\": null}\\n{\"cid\": \"160416\", \"code\": \"CPSC\", \"number\": \"217\", \"faculty\": \"SC\", \"departments\": [\"CPSC\"], \"units\": 3.0, \"prereq\": null, \"antireq\": \"Credit for CPSC 217 and any of 215, 231, 235, DATA 211, ENCM 339, ENGG 233 or ENDG 233 will not be allowed.\", \"coreq\": null}\\n{\"cid\": \"160417\", \"code\": \"CPSC\", \"number\": \"219\", \"faculty\": \"SC\", \"departments\": [\"CPSC\"], \"units\": 3.0, \"prereq\": \"CPSC 217 or DATA 211.\", \"antireq\": \"Credit for CPSC 219 and any of 233, 235, ENEL 497 or ENCM 493 will not be allowed.\", \"coreq\": null}\\n{\"cid\": \"107164\", \"code\": \"CPSC\", \"number\": \"231\", \"faculty\": \"SC\", \"departments\": [\"CPSC\"], \"units\": 3.0, \"prereq\": \"Admission to Computer Science, Bioinformatics, or Natural Science with a primary concentration in Computer Science.\", \"antireq\": \"Credit for CPSC 231 and any of CPSC 215, 217, 235, DATA 211, ENCM 339, ENGG 233, or ENDG 233 will not be allowed.\", \"coreq\": null}\\n{\"cid\": \"107165\", \"code\": \"CPSC\", \"number\": \"233\", \"faculty\": \"SC\", \"departments\": [\"CPSC\"], \"units\": 3.0, \"prereq\": \"CPSC 231 and admission to Computer Science, Bioinformatics, or Natural Science with a primary concentration in Computer Science.\", \"antireq\": \"Credit for CPSC 233 and any of 219, 235, ENEL 497 or ENCM 493 will not be allowed.\", \"coreq\": null}'), type='text')], created_at=1704149095, file_ids=[], metadata={}, object='thread.message', role='user', run_id=None, thread_id='thread_ghb2m0ZrYVEjYvu9Erjta1wf')]"
      ]
     },
     "execution_count": 349,
     "metadata": {},
     "output_type": "execute_result"
    }
   ],
   "source": [
    "messages.data"
   ]
  },
  {
   "cell_type": "code",
   "execution_count": 350,
   "metadata": {},
   "outputs": [
    {
     "name": "stdout",
     "output_type": "stream",
     "text": [
      "{\"cid\": \"107154\", \"prereq\": null, \"antireq\": {\"none\": [{\"courses\": [{\"course\": [\"CPSC\", \"Major\"]}]}]}, \"coreq\": null}\n",
      "{\"cid\": \"160416\", \"prereq\": null, \"antireq\": {\"none\": [{\"courses\": [{\"course\": [\"CPSC\", \"215\"]}, {\"course\": [\"CPSC\", \"231\"]}, {\"course\": [\"CPSC\", \"235\"]}, {\"course\": [\"DATA\", \"211\"]}, {\"course\": [\"ENCM\", \"339\"]}, {\"course\": [\"ENGG\", \"233\"]}, {\"course\": [\"ENDG\", \"233\"]}]}]}, \"coreq\": null}\n",
      "{\"cid\": \"160417\", \"prereq\": {\"some\": [{\"course\": [\"CPSC\", \"217\"]}, {\"course\": [\"DATA\", \"211\"]}]}, \"antireq\": {\"none\": [{\"courses\": [{\"course\": [\"CPSC\", \"233\"]}, {\"course\": [\"CPSC\", \"235\"]}, {\"course\": [\"ENEL\", \"497\"]}, {\"course\": [\"ENCM\", \"493\"]}]}]}, \"coreq\": null}\n",
      "{\"cid\": \"107164\", \"prereq\": {\"consent\": \"CPSC\"}, \"antireq\": {\"none\": [{\"courses\": [{\"course\": [\"CPSC\", \"215\"]}, {\"course\": [\"CPSC\", \"217\"]}, {\"course\": [\"CPSC\", \"235\"]}, {\"course\": [\"DATA\", \"211\"]}, {\"course\": [\"ENCM\", \"339\"]}, {\"course\": [\"ENGG\", \"233\"]}, {\"course\": [\"ENDG\", \"233\"]}]}]}, \"coreq\": null}\n",
      "{\"cid\": \"107165\", \"prereq\": {\"all\": [{\"course\": [\"CPSC\", \"231\"]}, {\"consent\": \"CPSC\"}]}, \"antireq\": {\"none\": [{\"courses\": [{\"course\": [\"CPSC\", \"219\"]}, {\"course\": [\"CPSC\", \"235\"]}, {\"course\": [\"ENEL\", \"497\"]}, {\"course\": [\"ENCM\", \"493\"]}]}]}, \"coreq\": null}\n"
     ]
    }
   ],
   "source": [
    "response_text = messages.data[0].content[0].text.value\n",
    "print(response_text)"
   ]
  },
  {
   "cell_type": "code",
   "execution_count": 351,
   "metadata": {},
   "outputs": [
    {
     "data": {
      "text/plain": [
       "[{'cid': '107154',\n",
       "  'prereq': None,\n",
       "  'antireq': {'none': [{'courses': [{'course': ['CPSC', 'Major']}]}]},\n",
       "  'coreq': None},\n",
       " {'cid': '160416',\n",
       "  'prereq': None,\n",
       "  'antireq': {'none': [{'courses': [{'course': ['CPSC', '215']},\n",
       "      {'course': ['CPSC', '231']},\n",
       "      {'course': ['CPSC', '235']},\n",
       "      {'course': ['DATA', '211']},\n",
       "      {'course': ['ENCM', '339']},\n",
       "      {'course': ['ENGG', '233']},\n",
       "      {'course': ['ENDG', '233']}]}]},\n",
       "  'coreq': None},\n",
       " {'cid': '160417',\n",
       "  'prereq': {'some': [{'course': ['CPSC', '217']},\n",
       "    {'course': ['DATA', '211']}]},\n",
       "  'antireq': {'none': [{'courses': [{'course': ['CPSC', '233']},\n",
       "      {'course': ['CPSC', '235']},\n",
       "      {'course': ['ENEL', '497']},\n",
       "      {'course': ['ENCM', '493']}]}]},\n",
       "  'coreq': None},\n",
       " {'cid': '107164',\n",
       "  'prereq': {'consent': 'CPSC'},\n",
       "  'antireq': {'none': [{'courses': [{'course': ['CPSC', '215']},\n",
       "      {'course': ['CPSC', '217']},\n",
       "      {'course': ['CPSC', '235']},\n",
       "      {'course': ['DATA', '211']},\n",
       "      {'course': ['ENCM', '339']},\n",
       "      {'course': ['ENGG', '233']},\n",
       "      {'course': ['ENDG', '233']}]}]},\n",
       "  'coreq': None},\n",
       " {'cid': '107165',\n",
       "  'prereq': {'all': [{'course': ['CPSC', '231']}, {'consent': 'CPSC'}]},\n",
       "  'antireq': {'none': [{'courses': [{'course': ['CPSC', '219']},\n",
       "      {'course': ['CPSC', '235']},\n",
       "      {'course': ['ENEL', '497']},\n",
       "      {'course': ['ENCM', '493']}]}]},\n",
       "  'coreq': None}]"
      ]
     },
     "execution_count": 351,
     "metadata": {},
     "output_type": "execute_result"
    }
   ],
   "source": [
    "# Split into list of dicts\n",
    "response_dicts = response_text.split(\"\\n\")\n",
    "\n",
    "# Convert to list of dicts\n",
    "response_dicts = list(map(lambda x: json.loads(x), response_dicts))\n",
    "\n",
    "response_dicts"
   ]
  }
 ],
 "metadata": {
  "kernelspec": {
   "display_name": "Python 3",
   "language": "python",
   "name": "python3"
  },
  "language_info": {
   "codemirror_mode": {
    "name": "ipython",
    "version": 3
   },
   "file_extension": ".py",
   "mimetype": "text/x-python",
   "name": "python",
   "nbconvert_exporter": "python",
   "pygments_lexer": "ipython3",
   "version": "3.11.5"
  }
 },
 "nbformat": 4,
 "nbformat_minor": 2
}
