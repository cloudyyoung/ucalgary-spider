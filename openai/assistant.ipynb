{
 "cells": [
  {
   "cell_type": "code",
   "execution_count": 75,
   "metadata": {},
   "outputs": [],
   "source": [
    "import os\n",
    "import json\n",
    "import jsonlines\n",
    "from time import sleep\n",
    "from openai import Client\n",
    "from dotenv import load_dotenv"
   ]
  },
  {
   "cell_type": "code",
   "execution_count": 76,
   "metadata": {},
   "outputs": [],
   "source": [
    "load_dotenv()\n",
    "\n",
    "OPENAI_API_KEY = os.environ[\"OPENAI_API_KEY\"] = os.getenv(\"OPENAI_API_KEY\")\n",
    "OPENAI_ASSISTANT_ID = os.environ[\"OPENAI_ASSISTANT_ID\"] = os.getenv(\"OPENAI_ASSISTANT_ID\")"
   ]
  },
  {
   "cell_type": "code",
   "execution_count": 77,
   "metadata": {},
   "outputs": [],
   "source": [
    "with open('instructions.txt', 'r') as f:\n",
    "    instructions = f.read()"
   ]
  },
  {
   "cell_type": "code",
   "execution_count": 78,
   "metadata": {},
   "outputs": [],
   "source": [
    "client = Client(api_key=OPENAI_API_KEY)"
   ]
  },
  {
   "cell_type": "code",
   "execution_count": 79,
   "metadata": {},
   "outputs": [
    {
     "data": {
      "text/plain": [
       "Assistant(id='asst_FPCQ6UhNeRHdKcptjZjW6t4V', created_at=1702528907, description=None, file_ids=[], instructions='You are given a piece of json for an arbitrary course, you need to understand the course context, \\nand then convert \"prereq\", \"antireq\" and \"coreq\" fields (which are pure text) into json.\\n\\nIf you are given multiple lines of input jsons, you need to output multiple lines of jsons, respectively.\\n\\nYour response must be in only one or more json, with no markdown and can be fully parsed with Python `json.loads` method.\\n\\nYou only need to include \"cid\", \"prereq\", \"antireq\" and \"coreq\" fields in your output json. Presrve \"null\" values.\\n\\nCourse title and course code might be used interchangeably in the given text. Course code is always in the format of \"ABCD\".\\n\\nYou can use logical expressions \"and\" and \"or\" to help. For example:\\n```json\\n{\\n    \"type\": \"and\",\\n    \"conditions\": [\\n        \"Law 400\",\\n        {\\n            \"type\": \"or\",\\n            \"conditions\": [\\n                \"Engineering 233\",\\n                \"Digital Engineering 233\",\\n                \"Digital Engineering 440\"\\n            ]\\n        }\\n    ]\\n}\\n``` \\n\\nOnly course can be expressed as pure string in conditions.\\n```json\\n{\\n    \"type\": \"and\",\\n    \"conditions\": [\\n        \"Law 400\",\\n        {\\n            \"type\": \"or\",\\n            \"conditions\": [\\n                \"Engineering 233\",\\n                \"Digital Engineering 233\",\\n                \"Digital Engineering 440\"\\n            ]\\n        }\\n    ]\\n}\\n```\\n\\n# Prereq\\nWhen you encounter required units, simply include \"units_required\" field and \"courses\" array.\\n```json\\n{\\n    \"type\": \"units_required\",\\n    \"units_required\": 21,\\n    \"courses\": [\\n        \"Engineering 233\",\\n        \"Digital Engineering 233\",\\n        \"Digital Engineering 440\"\\n    ]\\n}\\n```\\n\\nWhen you encounter \"Consent of the Department\", simply do:\\n```json\\n{\\n    \"type\": \"consent\",\\n    \"consent\": \"Consent of the Department\"\\n}\\n```\\n\\nWhen you encounter \"excluding <course>\", simply do:\\n```json\\n{\\n    \"type\": \"exclude_courses\",\\n    \"courses\": [\\n        \"Chinese 317\",\\n        \"Chinese 355\"\\n    ]\\n}\\n```\\n\\nWhen you encounter expression about certain course code, or certain level of a course code, simply do:\\n```json\\n{\\n    \"type\": \"units_required\",\\n    \"units_required\": 3,\\n    \"courses\": [\\n        {\\n            \"type\": \"subject\",\\n            \"code\": \"PHIL\",\\n            \"level\": 400,\\n            \"include_higher\": true\\n        }\\n    ]\\n},\\n```\\n\\nWhen you encountered expression about student year stading, simply do:\\n```json\\n{\\n    \"type\": \"degree\",\\n    \"degree\": \"BHSc Honours\",\\n    \"year_standing\": 4\\n}\\n```\\n\\nWhen you encountered admission, simply do:\\n```json\\n{\\n    \"type\": \"admission\",\\n    \"conditions\": {\\n        \"type\": \"or\",\\n        \"conditions\": [\\n            {\\n                \"type\": \"degree\",\\n                \"degree\": \"BA in Philosophy\",\\n            },\\n            {\\n                \"type\": \"degree\",\\n                \"degree\": \"BA Honours in Philosophy\",\\n            }\\n        ]\\n    }\\n}\\n```\\n\\nWhen you encountered consent, simply do:\\n```json\\n{\\n    \"type\": \"consent\",\\n    \"consent\": \"Consent of the Department\"\\n}\\n```\\n\\n# Antireq\\n\\nFor \"antireq\", the logic is the opposite of \"prereq\" and \"coreq\". Instead of presenting what will not satisfy the requirement, you need to present what will satisfy the requirement. \\n\\nWhen it says \"Credit for ENCI 300 and 337 will not be allowed.\", your \"antireq\" field should be:\\n```json\\n{\\n    \"antireq\": {\\n        \"type\": \"or\",\\n        \"conditions\": [\\n            \"Engineering 300\",\\n            \"Engineering 337\"\\n        ]\\n    }\\n}\\n```\\nThis means that when you have either \"Engineering 300\" or \"Engineering 337\", you will satisfy the antireq.\\n\\n\\nWhen it says \"Credit for both CPSC 471 and MGIS 331 will not be allowed.\", your \"antireq\" field should be:\\n```json\\n{\\n    \"antireq\": {\\n        \"type\": \"and\",\\n        \"conditions\": [\\n            \"Computer Science 471\",\\n            \"Management Information Systems 331\"\\n        ]\\n    }\\n}\\n```\\nThis means that when you have both \"Computer Science 471\" and \"Management Information Systems 331\", you will satisfy the antireq.\\n\\n\\nWhen it says \"Credit for CPSC 217 and any of 215, 231, 235, DATA 211, ENCM 339, ENGG 233 or ENDG 233 will not be allowed.\", your \"antireq\" field should be:\\n```json\\n{\\n    \"antireq\": {\\n        \"type\": \"or\",\\n        \"conditions\": [\\n            \"Computer Science 217\",\\n            {\\n                \"type\": \"and\",\\n                \"conditions\": [\\n                    \"Computer Science 215\",\\n                    \"Computer Science 231\",\\n                    \"Computer Science 235\",\\n                    \"Data Science 211\",\\n                    \"Engineering 233\",\\n                    \"Digital Engineering 233\"\\n                ]\\n            }\\n        ]\\n    }\\n}\\n```\\nThis means that when you have either \"Computer Science 217\" or all of \"Computer Science 215\", \"Computer Science 231\", \"Computer Science 235\", \"Data Science 211\", \"Engineering 233\", \"Digital Engineering 233\", you will satisfy the antireq.\\n\\n\\n# Example\\nExample json: \\n```json\\n{\\n    \"prereq\": {\\n        \"type\": \"and\",\\n        \"conditions\": [\\n            \"Law 400\",\\n            {\\n                \"type\": \"units_required\",\\n                \"units_required\": 21,\\n                \"conditions\": [\\n                    \"Engineering 233\",\\n                    \"Digital Engineering 233\",\\n                    \"Digital Engineering 440\",\\n                    {\\n                        \"type\": \"subject\",\\n                        \"subject\": \"Philosophy\",\\n                        \"level\": 400,\\n                        \"include_higher\": true\\n                    },\\n                    {\\n                        \"type\": \"subject\",\\n                        \"subject\": \"Urban Studies\"\\n                    }\\n                ]\\n            },\\n            {\\n                \"type\": \"or\",\\n                \"conditions\": [\\n                    \"Engineering 233\",\\n                    \"Digital Engineering 233\",\\n                    \"Digital Engineering 440\"\\n                ]\\n            },\\n            {\\n                \"type\": \"consent\",\\n                \"consent\": \"Consent of the Department\"\\n            },\\n            {\\n                \"type\": \"units_required\",\\n                \"units_required\": 3,\\n                \"conditions\": [\\n                    {\\n                        \"type\": \"subject\",\\n                        \"subject\": \"Philosophy\",\\n                        \"level\": 400,\\n                        \"include_higher\": true\\n                    }\\n                ]\\n            },\\n            {\\n                \"type\": \"exclude_courses\",\\n                \"conditions\": [\\n                    \"Chinese 317\",\\n                    \"Chinese 355\"\\n                ]\\n            }\\n        ]\\n    },\\n    \"antireq\": {\\n        \"type\": \"or\",\\n        \"conditions\": [\\n            \"Engineering 300\",\\n            \"Engineering 337\"\\n        ]\\n    }\\n}\\n```\\n\\nYou may not use any types not specified in these examples. Output error when you exvountered anything you have not seen.\\n\\n', metadata={}, model='gpt-4', name='Nero', object='assistant', tools=[])"
      ]
     },
     "execution_count": 79,
     "metadata": {},
     "output_type": "execute_result"
    }
   ],
   "source": [
    "assistant = client.beta.assistants.retrieve(\n",
    "    assistant_id=OPENAI_ASSISTANT_ID\n",
    ")\n",
    "assistant.instructions = instructions\n",
    "\n",
    "assistant"
   ]
  },
  {
   "cell_type": "markdown",
   "metadata": {},
   "source": [
    "## Conversion"
   ]
  },
  {
   "cell_type": "code",
   "execution_count": 80,
   "metadata": {},
   "outputs": [],
   "source": [
    "with jsonlines.open(\"data/course-info.jsonl\") as reader:\n",
    "    course_info = list(reader)\n"
   ]
  },
  {
   "cell_type": "code",
   "execution_count": 81,
   "metadata": {},
   "outputs": [
    {
     "data": {
      "text/plain": [
       "Thread(id='thread_co21KFdFHdELvZmK8kNkQHws', created_at=1704002596, metadata={}, object='thread')"
      ]
     },
     "execution_count": 81,
     "metadata": {},
     "output_type": "execute_result"
    }
   ],
   "source": [
    "thread = client.beta.threads.create()\n",
    "thread"
   ]
  },
  {
   "cell_type": "code",
   "execution_count": 82,
   "metadata": {},
   "outputs": [
    {
     "name": "stdout",
     "output_type": "stream",
     "text": [
      "{\"cid\": \"107154\", \"prereq\": null, \"antireq\": \"Not open for registration to Computer Science majors.\", \"coreq\": null}\n",
      "{\"cid\": \"160416\", \"prereq\": null, \"antireq\": \"Credit for CPSC 217 and any of 215, 231, 235, DATA 211, ENCM 339, ENGG 233 or ENDG 233 will not be allowed.\", \"coreq\": null}\n",
      "{\"cid\": \"160417\", \"prereq\": \"CPSC 217 or DATA 211.\", \"antireq\": \"Credit for CPSC 219 and any of 233, 235, ENEL 497 or ENCM 493 will not be allowed.\", \"coreq\": null}\n",
      "{\"cid\": \"107164\", \"prereq\": \"Admission to Computer Science, Bioinformatics, or Natural Science with a primary concentration in Computer Science.\", \"antireq\": \"Credit for CPSC 231 and any of CPSC 215, 217, 235, DATA 211, ENCM 339, ENGG 233, or ENDG 233 will not be allowed.\", \"coreq\": null}\n",
      "{\"cid\": \"107165\", \"prereq\": \"CPSC 231 and admission to Computer Science, Bioinformatics, or Natural Science with a primary concentration in Computer Science.\", \"antireq\": \"Credit for CPSC 233 and any of 219, 235, ENEL 497 or ENCM 493 will not be allowed.\", \"coreq\": null}\n",
      "{\"cid\": \"107166\", \"prereq\": \"Consent of the Department.\", \"antireq\": \"Credit for CPSC 235 and any of 215, 217, 219, 231, 233, ENCM 339, 493 or DATA 211 will not be allowed.\", \"coreq\": null}\n",
      "{\"cid\": \"164537\", \"prereq\": \"CPSC 219 or 231.\", \"antireq\": \"Students may not register in, or have credit for, CPSC 251 if they have previous credit for one of MATH 271 or 273 or are concurrently enrolled in MATH 271 or 273.\", \"coreq\": null}\n",
      "{\"cid\": \"150073\", \"prereq\": null, \"antireq\": null, \"coreq\": null}\n",
      "{\"cid\": \"165062\", \"prereq\": null, \"antireq\": \"Not open for registration to Majors in Computer Science, Bioinformatics, Electrical Engineering, Software Engineering, Computer Engineering, Natural Sciences with a primary concentration in Computer Science or any student with at least 3 units of courses numbered 300 or above and labelled Computer Science, Software Engineering or Software Engineering for Engineers.\", \"coreq\": null}\n",
      "{\"cid\": \"107194\", \"prereq\": \"MATH 271 or 273; and PHIL 279 or 377; and 3 units from CPSC 219, 233 or 235.\", \"antireq\": \"Credit for CPSC 313 and CPSC 351 will not be allowed.\", \"coreq\": null}\n"
     ]
    }
   ],
   "source": [
    "# Prepare content\n",
    "\n",
    "courses_list = []\n",
    "courses_list = filter(lambda x: x[\"code\"] == \"CPSC\", course_info)\n",
    "courses_list = map(lambda x: {\n",
    "    \"cid\": x[\"cid\"],\n",
    "    \"prereq\": x[\"prereq\"],\n",
    "    \"antireq\": x[\"antireq\"],\n",
    "    \"coreq\": x[\"coreq\"],\n",
    "}, courses_list)\n",
    "courses_list = list(map(lambda x: json.dumps(x), courses_list))\n",
    "courses_list = courses_list[:10]\n",
    "\n",
    "content = \"\\n\".join(map(lambda x: str(x), courses_list))\n",
    "print(content)"
   ]
  },
  {
   "cell_type": "code",
   "execution_count": 83,
   "metadata": {},
   "outputs": [
    {
     "data": {
      "text/plain": [
       "ThreadMessage(id='msg_KWVyCixKV9QOT6vsFQrGpXDp', assistant_id=None, content=[MessageContentText(text=Text(annotations=[], value='{\"cid\": \"107154\", \"prereq\": null, \"antireq\": \"Not open for registration to Computer Science majors.\", \"coreq\": null}\\n{\"cid\": \"160416\", \"prereq\": null, \"antireq\": \"Credit for CPSC 217 and any of 215, 231, 235, DATA 211, ENCM 339, ENGG 233 or ENDG 233 will not be allowed.\", \"coreq\": null}\\n{\"cid\": \"160417\", \"prereq\": \"CPSC 217 or DATA 211.\", \"antireq\": \"Credit for CPSC 219 and any of 233, 235, ENEL 497 or ENCM 493 will not be allowed.\", \"coreq\": null}\\n{\"cid\": \"107164\", \"prereq\": \"Admission to Computer Science, Bioinformatics, or Natural Science with a primary concentration in Computer Science.\", \"antireq\": \"Credit for CPSC 231 and any of CPSC 215, 217, 235, DATA 211, ENCM 339, ENGG 233, or ENDG 233 will not be allowed.\", \"coreq\": null}\\n{\"cid\": \"107165\", \"prereq\": \"CPSC 231 and admission to Computer Science, Bioinformatics, or Natural Science with a primary concentration in Computer Science.\", \"antireq\": \"Credit for CPSC 233 and any of 219, 235, ENEL 497 or ENCM 493 will not be allowed.\", \"coreq\": null}\\n{\"cid\": \"107166\", \"prereq\": \"Consent of the Department.\", \"antireq\": \"Credit for CPSC 235 and any of 215, 217, 219, 231, 233, ENCM 339, 493 or DATA 211 will not be allowed.\", \"coreq\": null}\\n{\"cid\": \"164537\", \"prereq\": \"CPSC 219 or 231.\", \"antireq\": \"Students may not register in, or have credit for, CPSC 251 if they have previous credit for one of MATH 271 or 273 or are concurrently enrolled in MATH 271 or 273.\", \"coreq\": null}\\n{\"cid\": \"150073\", \"prereq\": null, \"antireq\": null, \"coreq\": null}\\n{\"cid\": \"165062\", \"prereq\": null, \"antireq\": \"Not open for registration to Majors in Computer Science, Bioinformatics, Electrical Engineering, Software Engineering, Computer Engineering, Natural Sciences with a primary concentration in Computer Science or any student with at least 3 units of courses numbered 300 or above and labelled Computer Science, Software Engineering or Software Engineering for Engineers.\", \"coreq\": null}\\n{\"cid\": \"107194\", \"prereq\": \"MATH 271 or 273; and PHIL 279 or 377; and 3 units from CPSC 219, 233 or 235.\", \"antireq\": \"Credit for CPSC 313 and CPSC 351 will not be allowed.\", \"coreq\": null}'), type='text')], created_at=1704002596, file_ids=[], metadata={}, object='thread.message', role='user', run_id=None, thread_id='thread_co21KFdFHdELvZmK8kNkQHws')"
      ]
     },
     "execution_count": 83,
     "metadata": {},
     "output_type": "execute_result"
    }
   ],
   "source": [
    "message = client.beta.threads.messages.create(\n",
    "    thread_id=thread.id,\n",
    "    role=\"user\",\n",
    "    content=content,\n",
    ")\n",
    "\n",
    "message"
   ]
  },
  {
   "cell_type": "code",
   "execution_count": 84,
   "metadata": {},
   "outputs": [
    {
     "data": {
      "text/plain": [
       "Run(id='run_ySKWHqRSY2eRWatGJUvupAdz', assistant_id='asst_FPCQ6UhNeRHdKcptjZjW6t4V', cancelled_at=None, completed_at=None, created_at=1704002597, expires_at=1704003197, failed_at=None, file_ids=[], instructions='You are given a piece of json for an arbitrary course, you need to understand the course context, \\nand then convert \"prereq\", \"antireq\" and \"coreq\" fields (which are pure text) into json.\\n\\nIf you are given multiple lines of input jsons, you need to output multiple lines of jsons, respectively.\\n\\nYour response must be in only one or more json, with no markdown and can be fully parsed with Python `json.loads` method.\\n\\nYou only need to include \"cid\", \"prereq\", \"antireq\" and \"coreq\" fields in your output json. Presrve \"null\" values.\\n\\nCourse title and course code might be used interchangeably in the given text. Course code is always in the format of \"ABCD\".\\n\\nYou can use logical expressions \"and\" and \"or\" to help. For example:\\n```json\\n{\\n    \"type\": \"and\",\\n    \"conditions\": [\\n        \"Law 400\",\\n        {\\n            \"type\": \"or\",\\n            \"conditions\": [\\n                \"Engineering 233\",\\n                \"Digital Engineering 233\",\\n                \"Digital Engineering 440\"\\n            ]\\n        }\\n    ]\\n}\\n``` \\n\\nOnly course can be expressed as pure string in conditions.\\n```json\\n{\\n    \"type\": \"and\",\\n    \"conditions\": [\\n        \"Law 400\",\\n        {\\n            \"type\": \"or\",\\n            \"conditions\": [\\n                \"Engineering 233\",\\n                \"Digital Engineering 233\",\\n                \"Digital Engineering 440\"\\n            ]\\n        }\\n    ]\\n}\\n```\\n\\n# Prereq\\nWhen you encounter required units, simply include \"units_required\" field and \"courses\" array.\\n```json\\n{\\n    \"type\": \"units_required\",\\n    \"units_required\": 21,\\n    \"courses\": [\\n        \"Engineering 233\",\\n        \"Digital Engineering 233\",\\n        \"Digital Engineering 440\"\\n    ]\\n}\\n```\\n\\nWhen you encounter \"Consent of the Department\", simply do:\\n```json\\n{\\n    \"type\": \"consent\",\\n    \"consent\": \"Consent of the Department\"\\n}\\n```\\n\\nWhen you encounter \"excluding <course>\", simply do:\\n```json\\n{\\n    \"type\": \"exclude_courses\",\\n    \"courses\": [\\n        \"Chinese 317\",\\n        \"Chinese 355\"\\n    ]\\n}\\n```\\n\\nWhen you encounter expression about certain course code, or certain level of a course code, simply do:\\n```json\\n{\\n    \"type\": \"units_required\",\\n    \"units_required\": 3,\\n    \"courses\": [\\n        {\\n            \"type\": \"subject\",\\n            \"code\": \"PHIL\",\\n            \"level\": 400,\\n            \"include_higher\": true\\n        }\\n    ]\\n},\\n```\\n\\nWhen you encountered expression about student year stading, simply do:\\n```json\\n{\\n    \"type\": \"degree\",\\n    \"degree\": \"BHSc Honours\",\\n    \"year_standing\": 4\\n}\\n```\\n\\nWhen you encountered admission, simply do:\\n```json\\n{\\n    \"type\": \"admission\",\\n    \"conditions\": {\\n        \"type\": \"or\",\\n        \"conditions\": [\\n            {\\n                \"type\": \"degree\",\\n                \"degree\": \"BA in Philosophy\",\\n            },\\n            {\\n                \"type\": \"degree\",\\n                \"degree\": \"BA Honours in Philosophy\",\\n            }\\n        ]\\n    }\\n}\\n```\\n\\nWhen you encountered consent, simply do:\\n```json\\n{\\n    \"type\": \"consent\",\\n    \"consent\": \"Consent of the Department\"\\n}\\n```\\n\\n# Antireq\\n\\nFor \"antireq\", the logic is the opposite of \"prereq\" and \"coreq\". Instead of presenting what will not satisfy the requirement, you need to present what will satisfy the requirement. \\n\\nWhen it says \"Credit for ENCI 300 and 337 will not be allowed.\", your \"antireq\" field should be:\\n```json\\n{\\n    \"antireq\": {\\n        \"type\": \"or\",\\n        \"conditions\": [\\n            \"Engineering 300\",\\n            \"Engineering 337\"\\n        ]\\n    }\\n}\\n```\\nThis means that when you have either \"Engineering 300\" or \"Engineering 337\", you will satisfy the antireq.\\n\\n\\nWhen it says \"Credit for both CPSC 471 and MGIS 331 will not be allowed.\", your \"antireq\" field should be:\\n```json\\n{\\n    \"antireq\": {\\n        \"type\": \"and\",\\n        \"conditions\": [\\n            \"Computer Science 471\",\\n            \"Management Information Systems 331\"\\n        ]\\n    }\\n}\\n```\\nThis means that when you have both \"Computer Science 471\" and \"Management Information Systems 331\", you will satisfy the antireq.\\n\\n\\nWhen it says \"Credit for CPSC 217 and any of 215, 231, 235, DATA 211, ENCM 339, ENGG 233 or ENDG 233 will not be allowed.\", your \"antireq\" field should be:\\n```json\\n{\\n    \"antireq\": {\\n        \"type\": \"or\",\\n        \"conditions\": [\\n            \"Computer Science 217\",\\n            {\\n                \"type\": \"and\",\\n                \"conditions\": [\\n                    \"Computer Science 215\",\\n                    \"Computer Science 231\",\\n                    \"Computer Science 235\",\\n                    \"Data Science 211\",\\n                    \"Engineering 233\",\\n                    \"Digital Engineering 233\"\\n                ]\\n            }\\n        ]\\n    }\\n}\\n```\\nThis means that when you have either \"Computer Science 217\" or all of \"Computer Science 215\", \"Computer Science 231\", \"Computer Science 235\", \"Data Science 211\", \"Engineering 233\", \"Digital Engineering 233\", you will satisfy the antireq.\\n\\n\\n# Example\\nExample json: \\n```json\\n{\\n    \"prereq\": {\\n        \"type\": \"and\",\\n        \"conditions\": [\\n            \"Law 400\",\\n            {\\n                \"type\": \"units_required\",\\n                \"units_required\": 21,\\n                \"conditions\": [\\n                    \"Engineering 233\",\\n                    \"Digital Engineering 233\",\\n                    \"Digital Engineering 440\",\\n                    {\\n                        \"type\": \"subject\",\\n                        \"subject\": \"Philosophy\",\\n                        \"level\": 400,\\n                        \"include_higher\": true\\n                    },\\n                    {\\n                        \"type\": \"subject\",\\n                        \"subject\": \"Urban Studies\"\\n                    }\\n                ]\\n            },\\n            {\\n                \"type\": \"or\",\\n                \"conditions\": [\\n                    \"Engineering 233\",\\n                    \"Digital Engineering 233\",\\n                    \"Digital Engineering 440\"\\n                ]\\n            },\\n            {\\n                \"type\": \"consent\",\\n                \"consent\": \"Consent of the Department\"\\n            },\\n            {\\n                \"type\": \"units_required\",\\n                \"units_required\": 3,\\n                \"conditions\": [\\n                    {\\n                        \"type\": \"subject\",\\n                        \"subject\": \"Philosophy\",\\n                        \"level\": 400,\\n                        \"include_higher\": true\\n                    }\\n                ]\\n            },\\n            {\\n                \"type\": \"exclude_courses\",\\n                \"conditions\": [\\n                    \"Chinese 317\",\\n                    \"Chinese 355\"\\n                ]\\n            }\\n        ]\\n    },\\n    \"antireq\": {\\n        \"type\": \"or\",\\n        \"conditions\": [\\n            \"Engineering 300\",\\n            \"Engineering 337\"\\n        ]\\n    }\\n}\\n```\\n\\nYou may not use any types not specified in these examples. Output error when you exvountered anything you have not seen.\\n\\n', last_error=None, metadata={}, model='gpt-4', object='thread.run', required_action=None, started_at=None, status='queued', thread_id='thread_co21KFdFHdELvZmK8kNkQHws', tools=[])"
      ]
     },
     "execution_count": 84,
     "metadata": {},
     "output_type": "execute_result"
    }
   ],
   "source": [
    "run = client.beta.threads.runs.create(\n",
    "    thread_id=thread.id,\n",
    "    assistant_id=assistant.id,\n",
    "    instructions=instructions,\n",
    ")\n",
    "\n",
    "run"
   ]
  },
  {
   "cell_type": "markdown",
   "metadata": {},
   "source": [
    "### Result"
   ]
  },
  {
   "cell_type": "code",
   "execution_count": 85,
   "metadata": {},
   "outputs": [
    {
     "name": "stdout",
     "output_type": "stream",
     "text": [
      "Waiting for completion...\n",
      "Waiting for completion...\n",
      "Waiting for completion...\n"
     ]
    },
    {
     "data": {
      "text/plain": [
       "Run(id='run_ySKWHqRSY2eRWatGJUvupAdz', assistant_id='asst_FPCQ6UhNeRHdKcptjZjW6t4V', cancelled_at=None, completed_at=1704002624, created_at=1704002597, expires_at=None, failed_at=None, file_ids=[], instructions='You are given a piece of json for an arbitrary course, you need to understand the course context, \\nand then convert \"prereq\", \"antireq\" and \"coreq\" fields (which are pure text) into json.\\n\\nIf you are given multiple lines of input jsons, you need to output multiple lines of jsons, respectively.\\n\\nYour response must be in only one or more json, with no markdown and can be fully parsed with Python `json.loads` method.\\n\\nYou only need to include \"cid\", \"prereq\", \"antireq\" and \"coreq\" fields in your output json. Presrve \"null\" values.\\n\\nCourse title and course code might be used interchangeably in the given text. Course code is always in the format of \"ABCD\".\\n\\nYou can use logical expressions \"and\" and \"or\" to help. For example:\\n```json\\n{\\n    \"type\": \"and\",\\n    \"conditions\": [\\n        \"Law 400\",\\n        {\\n            \"type\": \"or\",\\n            \"conditions\": [\\n                \"Engineering 233\",\\n                \"Digital Engineering 233\",\\n                \"Digital Engineering 440\"\\n            ]\\n        }\\n    ]\\n}\\n``` \\n\\nOnly course can be expressed as pure string in conditions.\\n```json\\n{\\n    \"type\": \"and\",\\n    \"conditions\": [\\n        \"Law 400\",\\n        {\\n            \"type\": \"or\",\\n            \"conditions\": [\\n                \"Engineering 233\",\\n                \"Digital Engineering 233\",\\n                \"Digital Engineering 440\"\\n            ]\\n        }\\n    ]\\n}\\n```\\n\\n# Prereq\\nWhen you encounter required units, simply include \"units_required\" field and \"courses\" array.\\n```json\\n{\\n    \"type\": \"units_required\",\\n    \"units_required\": 21,\\n    \"courses\": [\\n        \"Engineering 233\",\\n        \"Digital Engineering 233\",\\n        \"Digital Engineering 440\"\\n    ]\\n}\\n```\\n\\nWhen you encounter \"Consent of the Department\", simply do:\\n```json\\n{\\n    \"type\": \"consent\",\\n    \"consent\": \"Consent of the Department\"\\n}\\n```\\n\\nWhen you encounter \"excluding <course>\", simply do:\\n```json\\n{\\n    \"type\": \"exclude_courses\",\\n    \"courses\": [\\n        \"Chinese 317\",\\n        \"Chinese 355\"\\n    ]\\n}\\n```\\n\\nWhen you encounter expression about certain course code, or certain level of a course code, simply do:\\n```json\\n{\\n    \"type\": \"units_required\",\\n    \"units_required\": 3,\\n    \"courses\": [\\n        {\\n            \"type\": \"subject\",\\n            \"code\": \"PHIL\",\\n            \"level\": 400,\\n            \"include_higher\": true\\n        }\\n    ]\\n},\\n```\\n\\nWhen you encountered expression about student year stading, simply do:\\n```json\\n{\\n    \"type\": \"degree\",\\n    \"degree\": \"BHSc Honours\",\\n    \"year_standing\": 4\\n}\\n```\\n\\nWhen you encountered admission, simply do:\\n```json\\n{\\n    \"type\": \"admission\",\\n    \"conditions\": {\\n        \"type\": \"or\",\\n        \"conditions\": [\\n            {\\n                \"type\": \"degree\",\\n                \"degree\": \"BA in Philosophy\",\\n            },\\n            {\\n                \"type\": \"degree\",\\n                \"degree\": \"BA Honours in Philosophy\",\\n            }\\n        ]\\n    }\\n}\\n```\\n\\nWhen you encountered consent, simply do:\\n```json\\n{\\n    \"type\": \"consent\",\\n    \"consent\": \"Consent of the Department\"\\n}\\n```\\n\\n# Antireq\\n\\nFor \"antireq\", the logic is the opposite of \"prereq\" and \"coreq\". Instead of presenting what will not satisfy the requirement, you need to present what will satisfy the requirement. \\n\\nWhen it says \"Credit for ENCI 300 and 337 will not be allowed.\", your \"antireq\" field should be:\\n```json\\n{\\n    \"antireq\": {\\n        \"type\": \"or\",\\n        \"conditions\": [\\n            \"Engineering 300\",\\n            \"Engineering 337\"\\n        ]\\n    }\\n}\\n```\\nThis means that when you have either \"Engineering 300\" or \"Engineering 337\", you will satisfy the antireq.\\n\\n\\nWhen it says \"Credit for both CPSC 471 and MGIS 331 will not be allowed.\", your \"antireq\" field should be:\\n```json\\n{\\n    \"antireq\": {\\n        \"type\": \"and\",\\n        \"conditions\": [\\n            \"Computer Science 471\",\\n            \"Management Information Systems 331\"\\n        ]\\n    }\\n}\\n```\\nThis means that when you have both \"Computer Science 471\" and \"Management Information Systems 331\", you will satisfy the antireq.\\n\\n\\nWhen it says \"Credit for CPSC 217 and any of 215, 231, 235, DATA 211, ENCM 339, ENGG 233 or ENDG 233 will not be allowed.\", your \"antireq\" field should be:\\n```json\\n{\\n    \"antireq\": {\\n        \"type\": \"or\",\\n        \"conditions\": [\\n            \"Computer Science 217\",\\n            {\\n                \"type\": \"and\",\\n                \"conditions\": [\\n                    \"Computer Science 215\",\\n                    \"Computer Science 231\",\\n                    \"Computer Science 235\",\\n                    \"Data Science 211\",\\n                    \"Engineering 233\",\\n                    \"Digital Engineering 233\"\\n                ]\\n            }\\n        ]\\n    }\\n}\\n```\\nThis means that when you have either \"Computer Science 217\" or all of \"Computer Science 215\", \"Computer Science 231\", \"Computer Science 235\", \"Data Science 211\", \"Engineering 233\", \"Digital Engineering 233\", you will satisfy the antireq.\\n\\n\\n# Example\\nExample json: \\n```json\\n{\\n    \"prereq\": {\\n        \"type\": \"and\",\\n        \"conditions\": [\\n            \"Law 400\",\\n            {\\n                \"type\": \"units_required\",\\n                \"units_required\": 21,\\n                \"conditions\": [\\n                    \"Engineering 233\",\\n                    \"Digital Engineering 233\",\\n                    \"Digital Engineering 440\",\\n                    {\\n                        \"type\": \"subject\",\\n                        \"subject\": \"Philosophy\",\\n                        \"level\": 400,\\n                        \"include_higher\": true\\n                    },\\n                    {\\n                        \"type\": \"subject\",\\n                        \"subject\": \"Urban Studies\"\\n                    }\\n                ]\\n            },\\n            {\\n                \"type\": \"or\",\\n                \"conditions\": [\\n                    \"Engineering 233\",\\n                    \"Digital Engineering 233\",\\n                    \"Digital Engineering 440\"\\n                ]\\n            },\\n            {\\n                \"type\": \"consent\",\\n                \"consent\": \"Consent of the Department\"\\n            },\\n            {\\n                \"type\": \"units_required\",\\n                \"units_required\": 3,\\n                \"conditions\": [\\n                    {\\n                        \"type\": \"subject\",\\n                        \"subject\": \"Philosophy\",\\n                        \"level\": 400,\\n                        \"include_higher\": true\\n                    }\\n                ]\\n            },\\n            {\\n                \"type\": \"exclude_courses\",\\n                \"conditions\": [\\n                    \"Chinese 317\",\\n                    \"Chinese 355\"\\n                ]\\n            }\\n        ]\\n    },\\n    \"antireq\": {\\n        \"type\": \"or\",\\n        \"conditions\": [\\n            \"Engineering 300\",\\n            \"Engineering 337\"\\n        ]\\n    }\\n}\\n```\\n\\nYou may not use any types not specified in these examples. Output error when you exvountered anything you have not seen.\\n\\n', last_error=None, metadata={}, model='gpt-4', object='thread.run', required_action=None, started_at=1704002597, status='completed', thread_id='thread_co21KFdFHdELvZmK8kNkQHws', tools=[])"
      ]
     },
     "execution_count": 85,
     "metadata": {},
     "output_type": "execute_result"
    }
   ],
   "source": [
    "is_complete = False\n",
    "\n",
    "# Wait until complete\n",
    "while not is_complete:\n",
    "    run = client.beta.threads.runs.retrieve(\n",
    "        thread_id=thread.id,\n",
    "        run_id=run.id,\n",
    "    )\n",
    "\n",
    "    is_complete = run.status == \"completed\"\n",
    "\n",
    "    if not is_complete:\n",
    "        print(\"Waiting for completion...\")\n",
    "        sleep(10)\n",
    "\n",
    "run"
   ]
  },
  {
   "cell_type": "code",
   "execution_count": 86,
   "metadata": {},
   "outputs": [
    {
     "data": {
      "text/plain": [
       "SyncCursorPage[ThreadMessage](data=[ThreadMessage(id='msg_XlN2ydIHdaJOtK0ezV3ESYdF', assistant_id='asst_FPCQ6UhNeRHdKcptjZjW6t4V', content=[MessageContentText(text=Text(annotations=[], value='{\"cid\": \"107154\", \"prereq\": null, \"antireq\": \"Error: Unknown expression.\", \"coreq\": null}\\n{\"cid\": \"160416\", \"prereq\": null, \"antireq\": {\"type\": \"or\", \"conditions\": [\"Computer Science 217\", {\"type\": \"and\", \"conditions\": [\"Computer Science 215\", \"Computer Science 231\", \"Computer Science 235\", \"Data Science 211\", \"Engineering 233\", \"Digital Engineering 233\"]}]}, \"coreq\": null}\\n{\"cid\": \"160417\", \"prereq\": {\"type\": \"or\", \"conditions\": [\"Computer Science 217\", \"Data Science 211\"]}, \"antireq\": {\"type\": \"or\", \"conditions\": [\"Computer Science 219\", {\"type\": \"and\", \"conditions\": [\"Computer Science 233\", \"Computer Science 235\"]}]}, \"coreq\": null}\\n{\"cid\": \"107164\", \"prereq\": {\"type\": \"admission\", \"conditions\": {\"type\": \"or\", \"conditions\": [{\"type\": \"degree\", \"degree\": \"BA in Computer Science\"}, {\"type\": \"degree\", \"degree\": \"BA in Bioinformatics\"}, {\"type\": \"degree\", \"degree\": \"BA in Natural Science\", \"concentration\": \"Computer Science\"}]}}, \"antireq\": {\"type\": \"or\", \"conditions\": [\"Computer Science 231\", {\"type\": \"and\", \"conditions\": [\"Computer Science 215\", \"Computer Science 217\", \"Computer Science 235\", \"Data Science 211\", \"Engineering 233\", \"Digital Engineering 233\"]}]}, \"coreq\": null}\\n{\"cid\": \"107165\", \"prereq\": {\"type\": \"and\", \"conditions\": [\"Computer Science 231\", {\"type\": \"admission\", \"conditions\": {\"type\": \"or\", \"conditions\": [{\"type\": \"degree\", \"degree\": \"BA in Computer Science\"}, {\"type\": \"degree\", \"degree\": \"BA in Bioinformatics\"}, {\"type\": \"degree\", \"degree\": \"BA in Natural Science\", \"concentration\": \"Computer Science\"}]}}]}, \"antireq\": {\"type\": \"or\", \"conditions\": [\"Computer Science 233\", {\"type\": \"and\", \"conditions\": [\"Computer Science 219\", \"Computer Science 235\"]}]}, \"coreq\": null}\\n{\"cid\": \"107166\", \"prereq\": {\"type\": \"consent\", \"consent\": \"Consent of the Department\"}, \"antireq\": {\"type\": \"or\", \"conditions\": [\"Computer Science 235\", {\"type\": \"and\", \"conditions\": [\"Computer Science 215\", \"Computer Science 217\", \"Computer Science 219\", \"Computer Science 231\", \"Computer Science 233\", \"Engineering 233\", \"Digital Engineering 233\"]}]}, \"coreq\": null}\\n{\"cid\": \"164537\", \"prereq\": {\"type\": \"or\", \"conditions\": [\"Computer Science 219\", \"Computer Science 231\"]}, \"antireq\": \"Error: Unknown expression.\", \"coreq\": null}\\n{\"cid\": \"150073\", \"prereq\": null, \"antireq\": null, \"coreq\": null}\\n{\"cid\": \"165062\", \"prereq\": null, \"antireq\": \"Error: Unknown expression.\", \"coreq\": null}\\n{\"cid\": \"107194\", \"prereq\": {\"type\": \"and\", \"conditions\": [\"Math 271\", \"Philosophy 279\", {\"type\": \"units_required\", \"units_required\": 3, \"courses\": [\"Computer Science 219\", \"Computer Science 233\", \"Computer Science 235\"]}]}, \"antireq\": {\"type\": \"and\", \"conditions\": [\"Computer Science 313\", \"Computer Science 351\"]}, \"coreq\": null}'), type='text')], created_at=1704002598, file_ids=[], metadata={}, object='thread.message', role='assistant', run_id='run_ySKWHqRSY2eRWatGJUvupAdz', thread_id='thread_co21KFdFHdELvZmK8kNkQHws'), ThreadMessage(id='msg_KWVyCixKV9QOT6vsFQrGpXDp', assistant_id=None, content=[MessageContentText(text=Text(annotations=[], value='{\"cid\": \"107154\", \"prereq\": null, \"antireq\": \"Not open for registration to Computer Science majors.\", \"coreq\": null}\\n{\"cid\": \"160416\", \"prereq\": null, \"antireq\": \"Credit for CPSC 217 and any of 215, 231, 235, DATA 211, ENCM 339, ENGG 233 or ENDG 233 will not be allowed.\", \"coreq\": null}\\n{\"cid\": \"160417\", \"prereq\": \"CPSC 217 or DATA 211.\", \"antireq\": \"Credit for CPSC 219 and any of 233, 235, ENEL 497 or ENCM 493 will not be allowed.\", \"coreq\": null}\\n{\"cid\": \"107164\", \"prereq\": \"Admission to Computer Science, Bioinformatics, or Natural Science with a primary concentration in Computer Science.\", \"antireq\": \"Credit for CPSC 231 and any of CPSC 215, 217, 235, DATA 211, ENCM 339, ENGG 233, or ENDG 233 will not be allowed.\", \"coreq\": null}\\n{\"cid\": \"107165\", \"prereq\": \"CPSC 231 and admission to Computer Science, Bioinformatics, or Natural Science with a primary concentration in Computer Science.\", \"antireq\": \"Credit for CPSC 233 and any of 219, 235, ENEL 497 or ENCM 493 will not be allowed.\", \"coreq\": null}\\n{\"cid\": \"107166\", \"prereq\": \"Consent of the Department.\", \"antireq\": \"Credit for CPSC 235 and any of 215, 217, 219, 231, 233, ENCM 339, 493 or DATA 211 will not be allowed.\", \"coreq\": null}\\n{\"cid\": \"164537\", \"prereq\": \"CPSC 219 or 231.\", \"antireq\": \"Students may not register in, or have credit for, CPSC 251 if they have previous credit for one of MATH 271 or 273 or are concurrently enrolled in MATH 271 or 273.\", \"coreq\": null}\\n{\"cid\": \"150073\", \"prereq\": null, \"antireq\": null, \"coreq\": null}\\n{\"cid\": \"165062\", \"prereq\": null, \"antireq\": \"Not open for registration to Majors in Computer Science, Bioinformatics, Electrical Engineering, Software Engineering, Computer Engineering, Natural Sciences with a primary concentration in Computer Science or any student with at least 3 units of courses numbered 300 or above and labelled Computer Science, Software Engineering or Software Engineering for Engineers.\", \"coreq\": null}\\n{\"cid\": \"107194\", \"prereq\": \"MATH 271 or 273; and PHIL 279 or 377; and 3 units from CPSC 219, 233 or 235.\", \"antireq\": \"Credit for CPSC 313 and CPSC 351 will not be allowed.\", \"coreq\": null}'), type='text')], created_at=1704002596, file_ids=[], metadata={}, object='thread.message', role='user', run_id=None, thread_id='thread_co21KFdFHdELvZmK8kNkQHws')], object='list', first_id='msg_XlN2ydIHdaJOtK0ezV3ESYdF', last_id='msg_KWVyCixKV9QOT6vsFQrGpXDp', has_more=False)"
      ]
     },
     "execution_count": 86,
     "metadata": {},
     "output_type": "execute_result"
    }
   ],
   "source": [
    "messages = client.beta.threads.messages.list(\n",
    "    thread_id=thread.id,\n",
    ")\n",
    "\n",
    "messages"
   ]
  },
  {
   "cell_type": "code",
   "execution_count": 87,
   "metadata": {},
   "outputs": [
    {
     "data": {
      "text/plain": [
       "[ThreadMessage(id='msg_XlN2ydIHdaJOtK0ezV3ESYdF', assistant_id='asst_FPCQ6UhNeRHdKcptjZjW6t4V', content=[MessageContentText(text=Text(annotations=[], value='{\"cid\": \"107154\", \"prereq\": null, \"antireq\": \"Error: Unknown expression.\", \"coreq\": null}\\n{\"cid\": \"160416\", \"prereq\": null, \"antireq\": {\"type\": \"or\", \"conditions\": [\"Computer Science 217\", {\"type\": \"and\", \"conditions\": [\"Computer Science 215\", \"Computer Science 231\", \"Computer Science 235\", \"Data Science 211\", \"Engineering 233\", \"Digital Engineering 233\"]}]}, \"coreq\": null}\\n{\"cid\": \"160417\", \"prereq\": {\"type\": \"or\", \"conditions\": [\"Computer Science 217\", \"Data Science 211\"]}, \"antireq\": {\"type\": \"or\", \"conditions\": [\"Computer Science 219\", {\"type\": \"and\", \"conditions\": [\"Computer Science 233\", \"Computer Science 235\"]}]}, \"coreq\": null}\\n{\"cid\": \"107164\", \"prereq\": {\"type\": \"admission\", \"conditions\": {\"type\": \"or\", \"conditions\": [{\"type\": \"degree\", \"degree\": \"BA in Computer Science\"}, {\"type\": \"degree\", \"degree\": \"BA in Bioinformatics\"}, {\"type\": \"degree\", \"degree\": \"BA in Natural Science\", \"concentration\": \"Computer Science\"}]}}, \"antireq\": {\"type\": \"or\", \"conditions\": [\"Computer Science 231\", {\"type\": \"and\", \"conditions\": [\"Computer Science 215\", \"Computer Science 217\", \"Computer Science 235\", \"Data Science 211\", \"Engineering 233\", \"Digital Engineering 233\"]}]}, \"coreq\": null}\\n{\"cid\": \"107165\", \"prereq\": {\"type\": \"and\", \"conditions\": [\"Computer Science 231\", {\"type\": \"admission\", \"conditions\": {\"type\": \"or\", \"conditions\": [{\"type\": \"degree\", \"degree\": \"BA in Computer Science\"}, {\"type\": \"degree\", \"degree\": \"BA in Bioinformatics\"}, {\"type\": \"degree\", \"degree\": \"BA in Natural Science\", \"concentration\": \"Computer Science\"}]}}]}, \"antireq\": {\"type\": \"or\", \"conditions\": [\"Computer Science 233\", {\"type\": \"and\", \"conditions\": [\"Computer Science 219\", \"Computer Science 235\"]}]}, \"coreq\": null}\\n{\"cid\": \"107166\", \"prereq\": {\"type\": \"consent\", \"consent\": \"Consent of the Department\"}, \"antireq\": {\"type\": \"or\", \"conditions\": [\"Computer Science 235\", {\"type\": \"and\", \"conditions\": [\"Computer Science 215\", \"Computer Science 217\", \"Computer Science 219\", \"Computer Science 231\", \"Computer Science 233\", \"Engineering 233\", \"Digital Engineering 233\"]}]}, \"coreq\": null}\\n{\"cid\": \"164537\", \"prereq\": {\"type\": \"or\", \"conditions\": [\"Computer Science 219\", \"Computer Science 231\"]}, \"antireq\": \"Error: Unknown expression.\", \"coreq\": null}\\n{\"cid\": \"150073\", \"prereq\": null, \"antireq\": null, \"coreq\": null}\\n{\"cid\": \"165062\", \"prereq\": null, \"antireq\": \"Error: Unknown expression.\", \"coreq\": null}\\n{\"cid\": \"107194\", \"prereq\": {\"type\": \"and\", \"conditions\": [\"Math 271\", \"Philosophy 279\", {\"type\": \"units_required\", \"units_required\": 3, \"courses\": [\"Computer Science 219\", \"Computer Science 233\", \"Computer Science 235\"]}]}, \"antireq\": {\"type\": \"and\", \"conditions\": [\"Computer Science 313\", \"Computer Science 351\"]}, \"coreq\": null}'), type='text')], created_at=1704002598, file_ids=[], metadata={}, object='thread.message', role='assistant', run_id='run_ySKWHqRSY2eRWatGJUvupAdz', thread_id='thread_co21KFdFHdELvZmK8kNkQHws'),\n",
       " ThreadMessage(id='msg_KWVyCixKV9QOT6vsFQrGpXDp', assistant_id=None, content=[MessageContentText(text=Text(annotations=[], value='{\"cid\": \"107154\", \"prereq\": null, \"antireq\": \"Not open for registration to Computer Science majors.\", \"coreq\": null}\\n{\"cid\": \"160416\", \"prereq\": null, \"antireq\": \"Credit for CPSC 217 and any of 215, 231, 235, DATA 211, ENCM 339, ENGG 233 or ENDG 233 will not be allowed.\", \"coreq\": null}\\n{\"cid\": \"160417\", \"prereq\": \"CPSC 217 or DATA 211.\", \"antireq\": \"Credit for CPSC 219 and any of 233, 235, ENEL 497 or ENCM 493 will not be allowed.\", \"coreq\": null}\\n{\"cid\": \"107164\", \"prereq\": \"Admission to Computer Science, Bioinformatics, or Natural Science with a primary concentration in Computer Science.\", \"antireq\": \"Credit for CPSC 231 and any of CPSC 215, 217, 235, DATA 211, ENCM 339, ENGG 233, or ENDG 233 will not be allowed.\", \"coreq\": null}\\n{\"cid\": \"107165\", \"prereq\": \"CPSC 231 and admission to Computer Science, Bioinformatics, or Natural Science with a primary concentration in Computer Science.\", \"antireq\": \"Credit for CPSC 233 and any of 219, 235, ENEL 497 or ENCM 493 will not be allowed.\", \"coreq\": null}\\n{\"cid\": \"107166\", \"prereq\": \"Consent of the Department.\", \"antireq\": \"Credit for CPSC 235 and any of 215, 217, 219, 231, 233, ENCM 339, 493 or DATA 211 will not be allowed.\", \"coreq\": null}\\n{\"cid\": \"164537\", \"prereq\": \"CPSC 219 or 231.\", \"antireq\": \"Students may not register in, or have credit for, CPSC 251 if they have previous credit for one of MATH 271 or 273 or are concurrently enrolled in MATH 271 or 273.\", \"coreq\": null}\\n{\"cid\": \"150073\", \"prereq\": null, \"antireq\": null, \"coreq\": null}\\n{\"cid\": \"165062\", \"prereq\": null, \"antireq\": \"Not open for registration to Majors in Computer Science, Bioinformatics, Electrical Engineering, Software Engineering, Computer Engineering, Natural Sciences with a primary concentration in Computer Science or any student with at least 3 units of courses numbered 300 or above and labelled Computer Science, Software Engineering or Software Engineering for Engineers.\", \"coreq\": null}\\n{\"cid\": \"107194\", \"prereq\": \"MATH 271 or 273; and PHIL 279 or 377; and 3 units from CPSC 219, 233 or 235.\", \"antireq\": \"Credit for CPSC 313 and CPSC 351 will not be allowed.\", \"coreq\": null}'), type='text')], created_at=1704002596, file_ids=[], metadata={}, object='thread.message', role='user', run_id=None, thread_id='thread_co21KFdFHdELvZmK8kNkQHws')]"
      ]
     },
     "execution_count": 87,
     "metadata": {},
     "output_type": "execute_result"
    }
   ],
   "source": [
    "messages.data"
   ]
  },
  {
   "cell_type": "code",
   "execution_count": 88,
   "metadata": {},
   "outputs": [
    {
     "name": "stdout",
     "output_type": "stream",
     "text": [
      "{\"cid\": \"107154\", \"prereq\": null, \"antireq\": \"Error: Unknown expression.\", \"coreq\": null}\n",
      "{\"cid\": \"160416\", \"prereq\": null, \"antireq\": {\"type\": \"or\", \"conditions\": [\"Computer Science 217\", {\"type\": \"and\", \"conditions\": [\"Computer Science 215\", \"Computer Science 231\", \"Computer Science 235\", \"Data Science 211\", \"Engineering 233\", \"Digital Engineering 233\"]}]}, \"coreq\": null}\n",
      "{\"cid\": \"160417\", \"prereq\": {\"type\": \"or\", \"conditions\": [\"Computer Science 217\", \"Data Science 211\"]}, \"antireq\": {\"type\": \"or\", \"conditions\": [\"Computer Science 219\", {\"type\": \"and\", \"conditions\": [\"Computer Science 233\", \"Computer Science 235\"]}]}, \"coreq\": null}\n",
      "{\"cid\": \"107164\", \"prereq\": {\"type\": \"admission\", \"conditions\": {\"type\": \"or\", \"conditions\": [{\"type\": \"degree\", \"degree\": \"BA in Computer Science\"}, {\"type\": \"degree\", \"degree\": \"BA in Bioinformatics\"}, {\"type\": \"degree\", \"degree\": \"BA in Natural Science\", \"concentration\": \"Computer Science\"}]}}, \"antireq\": {\"type\": \"or\", \"conditions\": [\"Computer Science 231\", {\"type\": \"and\", \"conditions\": [\"Computer Science 215\", \"Computer Science 217\", \"Computer Science 235\", \"Data Science 211\", \"Engineering 233\", \"Digital Engineering 233\"]}]}, \"coreq\": null}\n",
      "{\"cid\": \"107165\", \"prereq\": {\"type\": \"and\", \"conditions\": [\"Computer Science 231\", {\"type\": \"admission\", \"conditions\": {\"type\": \"or\", \"conditions\": [{\"type\": \"degree\", \"degree\": \"BA in Computer Science\"}, {\"type\": \"degree\", \"degree\": \"BA in Bioinformatics\"}, {\"type\": \"degree\", \"degree\": \"BA in Natural Science\", \"concentration\": \"Computer Science\"}]}}]}, \"antireq\": {\"type\": \"or\", \"conditions\": [\"Computer Science 233\", {\"type\": \"and\", \"conditions\": [\"Computer Science 219\", \"Computer Science 235\"]}]}, \"coreq\": null}\n",
      "{\"cid\": \"107166\", \"prereq\": {\"type\": \"consent\", \"consent\": \"Consent of the Department\"}, \"antireq\": {\"type\": \"or\", \"conditions\": [\"Computer Science 235\", {\"type\": \"and\", \"conditions\": [\"Computer Science 215\", \"Computer Science 217\", \"Computer Science 219\", \"Computer Science 231\", \"Computer Science 233\", \"Engineering 233\", \"Digital Engineering 233\"]}]}, \"coreq\": null}\n",
      "{\"cid\": \"164537\", \"prereq\": {\"type\": \"or\", \"conditions\": [\"Computer Science 219\", \"Computer Science 231\"]}, \"antireq\": \"Error: Unknown expression.\", \"coreq\": null}\n",
      "{\"cid\": \"150073\", \"prereq\": null, \"antireq\": null, \"coreq\": null}\n",
      "{\"cid\": \"165062\", \"prereq\": null, \"antireq\": \"Error: Unknown expression.\", \"coreq\": null}\n",
      "{\"cid\": \"107194\", \"prereq\": {\"type\": \"and\", \"conditions\": [\"Math 271\", \"Philosophy 279\", {\"type\": \"units_required\", \"units_required\": 3, \"courses\": [\"Computer Science 219\", \"Computer Science 233\", \"Computer Science 235\"]}]}, \"antireq\": {\"type\": \"and\", \"conditions\": [\"Computer Science 313\", \"Computer Science 351\"]}, \"coreq\": null}\n"
     ]
    }
   ],
   "source": [
    "response_text = messages.data[0].content[0].text.value\n",
    "print(response_text)"
   ]
  },
  {
   "cell_type": "code",
   "execution_count": 89,
   "metadata": {},
   "outputs": [
    {
     "data": {
      "text/plain": [
       "[{'cid': '107154',\n",
       "  'prereq': None,\n",
       "  'antireq': 'Error: Unknown expression.',\n",
       "  'coreq': None},\n",
       " {'cid': '160416',\n",
       "  'prereq': None,\n",
       "  'antireq': {'type': 'or',\n",
       "   'conditions': ['Computer Science 217',\n",
       "    {'type': 'and',\n",
       "     'conditions': ['Computer Science 215',\n",
       "      'Computer Science 231',\n",
       "      'Computer Science 235',\n",
       "      'Data Science 211',\n",
       "      'Engineering 233',\n",
       "      'Digital Engineering 233']}]},\n",
       "  'coreq': None},\n",
       " {'cid': '160417',\n",
       "  'prereq': {'type': 'or',\n",
       "   'conditions': ['Computer Science 217', 'Data Science 211']},\n",
       "  'antireq': {'type': 'or',\n",
       "   'conditions': ['Computer Science 219',\n",
       "    {'type': 'and',\n",
       "     'conditions': ['Computer Science 233', 'Computer Science 235']}]},\n",
       "  'coreq': None},\n",
       " {'cid': '107164',\n",
       "  'prereq': {'type': 'admission',\n",
       "   'conditions': {'type': 'or',\n",
       "    'conditions': [{'type': 'degree', 'degree': 'BA in Computer Science'},\n",
       "     {'type': 'degree', 'degree': 'BA in Bioinformatics'},\n",
       "     {'type': 'degree',\n",
       "      'degree': 'BA in Natural Science',\n",
       "      'concentration': 'Computer Science'}]}},\n",
       "  'antireq': {'type': 'or',\n",
       "   'conditions': ['Computer Science 231',\n",
       "    {'type': 'and',\n",
       "     'conditions': ['Computer Science 215',\n",
       "      'Computer Science 217',\n",
       "      'Computer Science 235',\n",
       "      'Data Science 211',\n",
       "      'Engineering 233',\n",
       "      'Digital Engineering 233']}]},\n",
       "  'coreq': None},\n",
       " {'cid': '107165',\n",
       "  'prereq': {'type': 'and',\n",
       "   'conditions': ['Computer Science 231',\n",
       "    {'type': 'admission',\n",
       "     'conditions': {'type': 'or',\n",
       "      'conditions': [{'type': 'degree', 'degree': 'BA in Computer Science'},\n",
       "       {'type': 'degree', 'degree': 'BA in Bioinformatics'},\n",
       "       {'type': 'degree',\n",
       "        'degree': 'BA in Natural Science',\n",
       "        'concentration': 'Computer Science'}]}}]},\n",
       "  'antireq': {'type': 'or',\n",
       "   'conditions': ['Computer Science 233',\n",
       "    {'type': 'and',\n",
       "     'conditions': ['Computer Science 219', 'Computer Science 235']}]},\n",
       "  'coreq': None},\n",
       " {'cid': '107166',\n",
       "  'prereq': {'type': 'consent', 'consent': 'Consent of the Department'},\n",
       "  'antireq': {'type': 'or',\n",
       "   'conditions': ['Computer Science 235',\n",
       "    {'type': 'and',\n",
       "     'conditions': ['Computer Science 215',\n",
       "      'Computer Science 217',\n",
       "      'Computer Science 219',\n",
       "      'Computer Science 231',\n",
       "      'Computer Science 233',\n",
       "      'Engineering 233',\n",
       "      'Digital Engineering 233']}]},\n",
       "  'coreq': None},\n",
       " {'cid': '164537',\n",
       "  'prereq': {'type': 'or',\n",
       "   'conditions': ['Computer Science 219', 'Computer Science 231']},\n",
       "  'antireq': 'Error: Unknown expression.',\n",
       "  'coreq': None},\n",
       " {'cid': '150073', 'prereq': None, 'antireq': None, 'coreq': None},\n",
       " {'cid': '165062',\n",
       "  'prereq': None,\n",
       "  'antireq': 'Error: Unknown expression.',\n",
       "  'coreq': None},\n",
       " {'cid': '107194',\n",
       "  'prereq': {'type': 'and',\n",
       "   'conditions': ['Math 271',\n",
       "    'Philosophy 279',\n",
       "    {'type': 'units_required',\n",
       "     'units_required': 3,\n",
       "     'courses': ['Computer Science 219',\n",
       "      'Computer Science 233',\n",
       "      'Computer Science 235']}]},\n",
       "  'antireq': {'type': 'and',\n",
       "   'conditions': ['Computer Science 313', 'Computer Science 351']},\n",
       "  'coreq': None}]"
      ]
     },
     "execution_count": 89,
     "metadata": {},
     "output_type": "execute_result"
    }
   ],
   "source": [
    "# Split into list of dicts\n",
    "response_dicts = response_text.split(\"\\n\")\n",
    "\n",
    "# Convert to list of dicts\n",
    "response_dicts = list(map(lambda x: json.loads(x), response_dicts))\n",
    "\n",
    "response_dicts"
   ]
  }
 ],
 "metadata": {
  "kernelspec": {
   "display_name": "Python 3",
   "language": "python",
   "name": "python3"
  },
  "language_info": {
   "codemirror_mode": {
    "name": "ipython",
    "version": 3
   },
   "file_extension": ".py",
   "mimetype": "text/x-python",
   "name": "python",
   "nbconvert_exporter": "python",
   "pygments_lexer": "ipython3",
   "version": "3.11.5"
  }
 },
 "nbformat": 4,
 "nbformat_minor": 2
}
