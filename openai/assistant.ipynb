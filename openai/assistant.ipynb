{
 "cells": [
  {
   "cell_type": "code",
   "execution_count": 154,
   "metadata": {},
   "outputs": [],
   "source": [
    "import os\n",
    "import json\n",
    "import jsonlines\n",
    "from time import sleep\n",
    "from openai import Client\n",
    "from dotenv import load_dotenv"
   ]
  },
  {
   "cell_type": "code",
   "execution_count": 155,
   "metadata": {},
   "outputs": [],
   "source": [
    "load_dotenv()\n",
    "\n",
    "OPENAI_API_KEY = os.environ[\"OPENAI_API_KEY\"] = os.getenv(\"OPENAI_API_KEY\")\n",
    "OPENAI_ASSISTANT_ID = os.environ[\"OPENAI_ASSISTANT_ID\"] = os.getenv(\"OPENAI_ASSISTANT_ID\")"
   ]
  },
  {
   "cell_type": "code",
   "execution_count": 156,
   "metadata": {},
   "outputs": [],
   "source": [
    "with open('instructions-2.txt', 'r') as f:\n",
    "    instructions = f.read()"
   ]
  },
  {
   "cell_type": "code",
   "execution_count": 157,
   "metadata": {},
   "outputs": [],
   "source": [
    "client = Client(api_key=OPENAI_API_KEY)"
   ]
  },
  {
   "cell_type": "code",
   "execution_count": 158,
   "metadata": {},
   "outputs": [
    {
     "data": {
      "text/plain": [
       "Assistant(id='asst_FPCQ6UhNeRHdKcptjZjW6t4V', created_at=1702528907, description=None, file_ids=[], instructions='You are given a piece of json for an arbitrary course, you need to understand the course context, \\nand then convert \"prereq\", \"antireq\" and \"coreq\" fields (which are pure text) into jsonlogic expressions.\\n\\nYou are allow to use the following custom jsonlogic operators:\\n1. `courses`: a list of all courses that the student has taken\\n2. `course`: a course object, given `code` and `number` fields; return `None` if the course is not taken.\\n3. `units`: a total number of units taken in a list of courses, given as a list of course objects.\\n4. `consent`: a boolean value, given a consenter; always return `True`.\\n\\nYou are allow to use any builtin jsonlogic operators. `some` and `all` are more preferable than `or` and `and`.\\n\\n\\nJsonLogic will be given a piece of data about the student, which includes the courses that the student has taken, and the programs that the student is in.\\nAn example of the data for jsonlogic to test against looks like this:\\n```json\\ndata = {\\n    \"courses\": [\\n        {\"code\": \"CPSC\", \"number\": \"329\", \"gpv\": 2.7, \"semester\": \"W2023\", \"units\": 3.0, \"faculty\": \"SC - Faculty of Science\", \"departments\": [\"CPSC\"]},\\n        {\"code\": \"CPSC\", \"number\": \"526\", \"gpv\": 2.7, \"semester\": \"F2023\", \"units\": 6.0, \"faculty\": \"SC - Faculty of Science\", \"departments\": [\"CPSC\"]},\\n        {\"code\": \"MATH\", \"number\": \"313\", \"gpv\": 2.7, \"semester\": \"F2023\", \"units\": 3.0, \"faculty\": \"SC - Faculty of Science\", \"departments\": [\"CPSC\"]},\\n        {\"code\": \"CPSC\", \"number\": \"219\", \"gpv\": 2.7, \"semester\": \"F2023\", \"units\": 3.0, \"faculty\": \"SC - Faculty of Science\", \"departments\": [\"CPSC\"]},\\n        {\"code\": \"MATH\", \"number\": \"271\", \"gpv\": 2.7, \"semester\": \"F2023\", \"units\": 3.0, \"faculty\": \"SC - Faculty of Science\", \"departments\": [\"CPSC\"]},\\n        {\"code\": \"STAT\", \"number\": \"205\", \"gpv\": 2.7, \"semester\": \"F2023\", \"units\": 3.0, \"faculty\": \"SC - Faculty of Science\", \"departments\": [\"CPSC\"]},\\n    ],\\n    \"programs\": [\"ANMEBAH\", \"SPAN-MIN\"],\\n}\\n```\\n\\nTherefore, in corresponse to a prerequisite text \"CPSC 351; or 3 units from CPSC 219, 233 or 235 and 3 units from MATH 271, 273, 315 and 3 units from STAT 205, 213, 321\", your jsonlogic would look like this:\\n```json\\n{\\n    \"some\": [\\n        {\"course\": [\"CPSC\", \"351\"]},\\n        {\\n            \"all\": [\\n                {\\n                    \">=\": [\\n                        {\\n                            \"units\": [\\n                                {\"course\": [\"CPSC\", \"219\"]},\\n                                {\"course\": [\"CPSC\", \"233\"]},\\n                                {\"course\": [\"CPSC\", \"235\"]},\\n                            ]\\n                        },\\n                        3,\\n                    ]\\n                },\\n                {\\n                    \">=\": [\\n                        {\\n                            \"units\": [\\n                                {\"course\": [\"MATH\", \"271\"]},\\n                                {\"course\": [\"MATH\", \"273\"]},\\n                                {\"course\": [\"MATH\", \"315\"]},\\n                            ]\\n                        },\\n                        3,\\n                    ]\\n                },\\n                {\\n                    \">=\": [\\n                        {\\n                            \"units\": [\\n                                {\"course\": [\"STAT\", \"205\"]},\\n                                {\"course\": [\"STAT\", \"213\"]},\\n                                {\"course\": [\"STAT\", \"321\"]},\\n                            ]\\n                        },\\n                        3,\\n                    ]\\n                },\\n            ]\\n        },\\n    ]\\n}\\n```\\nAnd this rule applied to the given data will return `true`.\\n\\n\\nWhen parsing antirequisite, you can use \"not\" or \"none\" operator to negate the logic. \"none\" is more preferable than \"not some\".\\n\\n\\nIf you are given multiple lines of input courses, you need to output multiple lines of courses, each line for one course respectively.\\nYour response must be in only one course each line (just like jsonlines file), with no markdown and can be fully parsed with Python `json.loads` method.\\n\\n', metadata={}, model='gpt-4', name='Nero', object='assistant', tools=[])"
      ]
     },
     "execution_count": 158,
     "metadata": {},
     "output_type": "execute_result"
    }
   ],
   "source": [
    "assistant = client.beta.assistants.retrieve(\n",
    "    assistant_id=OPENAI_ASSISTANT_ID\n",
    ")\n",
    "assistant.instructions = instructions\n",
    "\n",
    "assistant"
   ]
  },
  {
   "cell_type": "markdown",
   "metadata": {},
   "source": [
    "## Conversion"
   ]
  },
  {
   "cell_type": "code",
   "execution_count": 169,
   "metadata": {},
   "outputs": [],
   "source": [
    "with jsonlines.open(\"data/course.jsonl\") as reader:\n",
    "    course_info = list(reader)\n"
   ]
  },
  {
   "cell_type": "code",
   "execution_count": 170,
   "metadata": {},
   "outputs": [
    {
     "data": {
      "text/plain": [
       "Thread(id='thread_Pm8iwvKkXAC5h3LXzs0KVa49', created_at=1704147490, metadata={}, object='thread')"
      ]
     },
     "execution_count": 170,
     "metadata": {},
     "output_type": "execute_result"
    }
   ],
   "source": [
    "thread = client.beta.threads.create()\n",
    "thread"
   ]
  },
  {
   "cell_type": "code",
   "execution_count": 172,
   "metadata": {},
   "outputs": [
    {
     "name": "stdout",
     "output_type": "stream",
     "text": [
      "{\"cid\": \"107154\", \"code\": \"CPSC\", \"number\": \"203\", \"faculty\": \"SC\", \"departments\": [\"CPSC\"], \"units\": 3.0, \"prereq\": null, \"antireq\": \"Not open for registration to Computer Science majors.\", \"coreq\": null}\n",
      "{\"cid\": \"160416\", \"code\": \"CPSC\", \"number\": \"217\", \"faculty\": \"SC\", \"departments\": [\"CPSC\"], \"units\": 3.0, \"prereq\": null, \"antireq\": \"Credit for CPSC 217 and any of 215, 231, 235, DATA 211, ENCM 339, ENGG 233 or ENDG 233 will not be allowed.\", \"coreq\": null}\n",
      "{\"cid\": \"160417\", \"code\": \"CPSC\", \"number\": \"219\", \"faculty\": \"SC\", \"departments\": [\"CPSC\"], \"units\": 3.0, \"prereq\": \"CPSC 217 or DATA 211.\", \"antireq\": \"Credit for CPSC 219 and any of 233, 235, ENEL 497 or ENCM 493 will not be allowed.\", \"coreq\": null}\n",
      "{\"cid\": \"107164\", \"code\": \"CPSC\", \"number\": \"231\", \"faculty\": \"SC\", \"departments\": [\"CPSC\"], \"units\": 3.0, \"prereq\": \"Admission to Computer Science, Bioinformatics, or Natural Science with a primary concentration in Computer Science.\", \"antireq\": \"Credit for CPSC 231 and any of CPSC 215, 217, 235, DATA 211, ENCM 339, ENGG 233, or ENDG 233 will not be allowed.\", \"coreq\": null}\n",
      "{\"cid\": \"107165\", \"code\": \"CPSC\", \"number\": \"233\", \"faculty\": \"SC\", \"departments\": [\"CPSC\"], \"units\": 3.0, \"prereq\": \"CPSC 231 and admission to Computer Science, Bioinformatics, or Natural Science with a primary concentration in Computer Science.\", \"antireq\": \"Credit for CPSC 233 and any of 219, 235, ENEL 497 or ENCM 493 will not be allowed.\", \"coreq\": null}\n"
     ]
    }
   ],
   "source": [
    "# Prepare content\n",
    "\n",
    "courses_list = []\n",
    "courses_list = filter(lambda x: x[\"code\"] == \"CPSC\", course_info)\n",
    "courses_list = list(map(lambda x: json.dumps(x), courses_list))\n",
    "courses_list = courses_list[:5]\n",
    "\n",
    "content = \"\\n\".join(map(lambda x: str(x), courses_list))\n",
    "print(content)"
   ]
  },
  {
   "cell_type": "code",
   "execution_count": 162,
   "metadata": {},
   "outputs": [
    {
     "data": {
      "text/plain": [
       "ThreadMessage(id='msg_oYKKaNeBrpB7UFTf9OgAwhEy', assistant_id=None, content=[MessageContentText(text=Text(annotations=[], value='{\"cid\": \"107154\", \"prereq\": null, \"antireq\": \"Not open for registration to Computer Science majors.\", \"coreq\": null}\\n{\"cid\": \"160416\", \"prereq\": null, \"antireq\": \"Credit for CPSC 217 and any of 215, 231, 235, DATA 211, ENCM 339, ENGG 233 or ENDG 233 will not be allowed.\", \"coreq\": null}\\n{\"cid\": \"160417\", \"prereq\": \"CPSC 217 or DATA 211.\", \"antireq\": \"Credit for CPSC 219 and any of 233, 235, ENEL 497 or ENCM 493 will not be allowed.\", \"coreq\": null}\\n{\"cid\": \"107164\", \"prereq\": \"Admission to Computer Science, Bioinformatics, or Natural Science with a primary concentration in Computer Science.\", \"antireq\": \"Credit for CPSC 231 and any of CPSC 215, 217, 235, DATA 211, ENCM 339, ENGG 233, or ENDG 233 will not be allowed.\", \"coreq\": null}\\n{\"cid\": \"107165\", \"prereq\": \"CPSC 231 and admission to Computer Science, Bioinformatics, or Natural Science with a primary concentration in Computer Science.\", \"antireq\": \"Credit for CPSC 233 and any of 219, 235, ENEL 497 or ENCM 493 will not be allowed.\", \"coreq\": null}'), type='text')], created_at=1704075477, file_ids=[], metadata={}, object='thread.message', role='user', run_id=None, thread_id='thread_8ZCOjReoDe96fA0lPXSVrFX7')"
      ]
     },
     "execution_count": 162,
     "metadata": {},
     "output_type": "execute_result"
    }
   ],
   "source": [
    "message = client.beta.threads.messages.create(\n",
    "    thread_id=thread.id,\n",
    "    role=\"user\",\n",
    "    content=content,\n",
    ")\n",
    "\n",
    "message"
   ]
  },
  {
   "cell_type": "code",
   "execution_count": 163,
   "metadata": {},
   "outputs": [
    {
     "data": {
      "text/plain": [
       "Run(id='run_Zlot4Hzuyqe6ecrJIzO1EGFQ', assistant_id='asst_FPCQ6UhNeRHdKcptjZjW6t4V', cancelled_at=None, completed_at=None, created_at=1704075477, expires_at=1704076077, failed_at=None, file_ids=[], instructions='You are given a piece of json for an arbitrary course, you need to understand the course context, \\nand then convert \"prereq\", \"antireq\" and \"coreq\" fields (which are pure text) into jsonlogic expressions.\\n\\nYou are allow to use the following custom jsonlogic operators:\\n1. `courses`: a list of all courses that the student has taken\\n2. `course`: a course object, given `code` and `number` fields; return `None` if the course is not taken.\\n3. `units`: a total number of units taken in a list of courses, given as a list of course objects.\\n4. `consent`: a boolean value, given a consenter; always return `True`.\\n\\nYou are allow to use any builtin jsonlogic operators. `some` and `all` are more preferable than `or` and `and`.\\n\\n\\nJsonLogic will be given a piece of data about the student, which includes the courses that the student has taken, and the programs that the student is in.\\nAn example of the data for jsonlogic to test against looks like this:\\n```json\\ndata = {\\n    \"courses\": [\\n        {\"code\": \"CPSC\", \"number\": \"329\", \"gpv\": 2.7, \"semester\": \"W2023\", \"units\": 3.0, \"faculty\": \"SC - Faculty of Science\", \"departments\": [\"CPSC\"]},\\n        {\"code\": \"CPSC\", \"number\": \"526\", \"gpv\": 2.7, \"semester\": \"F2023\", \"units\": 6.0, \"faculty\": \"SC - Faculty of Science\", \"departments\": [\"CPSC\"]},\\n        {\"code\": \"MATH\", \"number\": \"313\", \"gpv\": 2.7, \"semester\": \"F2023\", \"units\": 3.0, \"faculty\": \"SC - Faculty of Science\", \"departments\": [\"CPSC\"]},\\n        {\"code\": \"CPSC\", \"number\": \"219\", \"gpv\": 2.7, \"semester\": \"F2023\", \"units\": 3.0, \"faculty\": \"SC - Faculty of Science\", \"departments\": [\"CPSC\"]},\\n        {\"code\": \"MATH\", \"number\": \"271\", \"gpv\": 2.7, \"semester\": \"F2023\", \"units\": 3.0, \"faculty\": \"SC - Faculty of Science\", \"departments\": [\"CPSC\"]},\\n        {\"code\": \"STAT\", \"number\": \"205\", \"gpv\": 2.7, \"semester\": \"F2023\", \"units\": 3.0, \"faculty\": \"SC - Faculty of Science\", \"departments\": [\"CPSC\"]},\\n    ],\\n    \"programs\": [\"ANMEBAH\", \"SPAN-MIN\"],\\n}\\n```\\n\\nTherefore, in corresponse to a prerequisite text \"CPSC 351; or 3 units from CPSC 219, 233 or 235 and 3 units from MATH 271, 273, 315 and 3 units from STAT 205, 213, 321\", your jsonlogic would look like this:\\n```json\\n{\\n    \"some\": [\\n        {\"course\": [\"CPSC\", \"351\"]},\\n        {\\n            \"all\": [\\n                {\\n                    \">=\": [\\n                        {\\n                            \"units\": [\\n                                {\"course\": [\"CPSC\", \"219\"]},\\n                                {\"course\": [\"CPSC\", \"233\"]},\\n                                {\"course\": [\"CPSC\", \"235\"]},\\n                            ]\\n                        },\\n                        3,\\n                    ]\\n                },\\n                {\\n                    \">=\": [\\n                        {\\n                            \"units\": [\\n                                {\"course\": [\"MATH\", \"271\"]},\\n                                {\"course\": [\"MATH\", \"273\"]},\\n                                {\"course\": [\"MATH\", \"315\"]},\\n                            ]\\n                        },\\n                        3,\\n                    ]\\n                },\\n                {\\n                    \">=\": [\\n                        {\\n                            \"units\": [\\n                                {\"course\": [\"STAT\", \"205\"]},\\n                                {\"course\": [\"STAT\", \"213\"]},\\n                                {\"course\": [\"STAT\", \"321\"]},\\n                            ]\\n                        },\\n                        3,\\n                    ]\\n                },\\n            ]\\n        },\\n    ]\\n}\\n```\\nAnd this rule applied to the given data will return `true`.\\n\\n\\nWhen parsing antirequisite, you can use \"not\" or \"none\" operator to negate the logic. \"none\" is more preferable than \"not some\".\\n\\n\\nIf you are given multiple lines of input courses, you need to output multiple lines of courses, each line for one course respectively.\\nYour response must be in only one course each line (just like jsonlines file), with no markdown and can be fully parsed with Python `json.loads` method.\\n\\n', last_error=None, metadata={}, model='gpt-4', object='thread.run', required_action=None, started_at=None, status='queued', thread_id='thread_8ZCOjReoDe96fA0lPXSVrFX7', tools=[])"
      ]
     },
     "execution_count": 163,
     "metadata": {},
     "output_type": "execute_result"
    }
   ],
   "source": [
    "run = client.beta.threads.runs.create(\n",
    "    thread_id=thread.id,\n",
    "    assistant_id=assistant.id,\n",
    "    instructions=instructions,\n",
    ")\n",
    "\n",
    "run"
   ]
  },
  {
   "cell_type": "markdown",
   "metadata": {},
   "source": [
    "### Result"
   ]
  },
  {
   "cell_type": "code",
   "execution_count": 164,
   "metadata": {},
   "outputs": [
    {
     "name": "stdout",
     "output_type": "stream",
     "text": [
      "Waiting for completion...\n",
      "Waiting for completion...\n"
     ]
    },
    {
     "data": {
      "text/plain": [
       "Run(id='run_Zlot4Hzuyqe6ecrJIzO1EGFQ', assistant_id='asst_FPCQ6UhNeRHdKcptjZjW6t4V', cancelled_at=None, completed_at=1704075495, created_at=1704075477, expires_at=None, failed_at=None, file_ids=[], instructions='You are given a piece of json for an arbitrary course, you need to understand the course context, \\nand then convert \"prereq\", \"antireq\" and \"coreq\" fields (which are pure text) into jsonlogic expressions.\\n\\nYou are allow to use the following custom jsonlogic operators:\\n1. `courses`: a list of all courses that the student has taken\\n2. `course`: a course object, given `code` and `number` fields; return `None` if the course is not taken.\\n3. `units`: a total number of units taken in a list of courses, given as a list of course objects.\\n4. `consent`: a boolean value, given a consenter; always return `True`.\\n\\nYou are allow to use any builtin jsonlogic operators. `some` and `all` are more preferable than `or` and `and`.\\n\\n\\nJsonLogic will be given a piece of data about the student, which includes the courses that the student has taken, and the programs that the student is in.\\nAn example of the data for jsonlogic to test against looks like this:\\n```json\\ndata = {\\n    \"courses\": [\\n        {\"code\": \"CPSC\", \"number\": \"329\", \"gpv\": 2.7, \"semester\": \"W2023\", \"units\": 3.0, \"faculty\": \"SC - Faculty of Science\", \"departments\": [\"CPSC\"]},\\n        {\"code\": \"CPSC\", \"number\": \"526\", \"gpv\": 2.7, \"semester\": \"F2023\", \"units\": 6.0, \"faculty\": \"SC - Faculty of Science\", \"departments\": [\"CPSC\"]},\\n        {\"code\": \"MATH\", \"number\": \"313\", \"gpv\": 2.7, \"semester\": \"F2023\", \"units\": 3.0, \"faculty\": \"SC - Faculty of Science\", \"departments\": [\"CPSC\"]},\\n        {\"code\": \"CPSC\", \"number\": \"219\", \"gpv\": 2.7, \"semester\": \"F2023\", \"units\": 3.0, \"faculty\": \"SC - Faculty of Science\", \"departments\": [\"CPSC\"]},\\n        {\"code\": \"MATH\", \"number\": \"271\", \"gpv\": 2.7, \"semester\": \"F2023\", \"units\": 3.0, \"faculty\": \"SC - Faculty of Science\", \"departments\": [\"CPSC\"]},\\n        {\"code\": \"STAT\", \"number\": \"205\", \"gpv\": 2.7, \"semester\": \"F2023\", \"units\": 3.0, \"faculty\": \"SC - Faculty of Science\", \"departments\": [\"CPSC\"]},\\n    ],\\n    \"programs\": [\"ANMEBAH\", \"SPAN-MIN\"],\\n}\\n```\\n\\nTherefore, in corresponse to a prerequisite text \"CPSC 351; or 3 units from CPSC 219, 233 or 235 and 3 units from MATH 271, 273, 315 and 3 units from STAT 205, 213, 321\", your jsonlogic would look like this:\\n```json\\n{\\n    \"some\": [\\n        {\"course\": [\"CPSC\", \"351\"]},\\n        {\\n            \"all\": [\\n                {\\n                    \">=\": [\\n                        {\\n                            \"units\": [\\n                                {\"course\": [\"CPSC\", \"219\"]},\\n                                {\"course\": [\"CPSC\", \"233\"]},\\n                                {\"course\": [\"CPSC\", \"235\"]},\\n                            ]\\n                        },\\n                        3,\\n                    ]\\n                },\\n                {\\n                    \">=\": [\\n                        {\\n                            \"units\": [\\n                                {\"course\": [\"MATH\", \"271\"]},\\n                                {\"course\": [\"MATH\", \"273\"]},\\n                                {\"course\": [\"MATH\", \"315\"]},\\n                            ]\\n                        },\\n                        3,\\n                    ]\\n                },\\n                {\\n                    \">=\": [\\n                        {\\n                            \"units\": [\\n                                {\"course\": [\"STAT\", \"205\"]},\\n                                {\"course\": [\"STAT\", \"213\"]},\\n                                {\"course\": [\"STAT\", \"321\"]},\\n                            ]\\n                        },\\n                        3,\\n                    ]\\n                },\\n            ]\\n        },\\n    ]\\n}\\n```\\nAnd this rule applied to the given data will return `true`.\\n\\n\\nWhen parsing antirequisite, you can use \"not\" or \"none\" operator to negate the logic. \"none\" is more preferable than \"not some\".\\n\\n\\nIf you are given multiple lines of input courses, you need to output multiple lines of courses, each line for one course respectively.\\nYour response must be in only one course each line (just like jsonlines file), with no markdown and can be fully parsed with Python `json.loads` method.\\n\\n', last_error=None, metadata={}, model='gpt-4', object='thread.run', required_action=None, started_at=1704075477, status='completed', thread_id='thread_8ZCOjReoDe96fA0lPXSVrFX7', tools=[])"
      ]
     },
     "execution_count": 164,
     "metadata": {},
     "output_type": "execute_result"
    }
   ],
   "source": [
    "is_complete = False\n",
    "\n",
    "# Wait until complete\n",
    "while not is_complete:\n",
    "    run = client.beta.threads.runs.retrieve(\n",
    "        thread_id=thread.id,\n",
    "        run_id=run.id,\n",
    "    )\n",
    "\n",
    "    is_complete = run.status == \"completed\"\n",
    "\n",
    "    if not is_complete:\n",
    "        print(\"Waiting for completion...\")\n",
    "        sleep(10)\n",
    "\n",
    "run"
   ]
  },
  {
   "cell_type": "code",
   "execution_count": 165,
   "metadata": {},
   "outputs": [
    {
     "data": {
      "text/plain": [
       "SyncCursorPage[ThreadMessage](data=[ThreadMessage(id='msg_4y8cjMUilXBR6wqhMU1uXYzo', assistant_id='asst_FPCQ6UhNeRHdKcptjZjW6t4V', content=[MessageContentText(text=Text(annotations=[], value='{\"cid\": \"107154\", \"prereq\": {}, \"antireq\": {\"!=\": [{\"some\": {\"var\": \"programs\"}}, \"CS\"]}, \"coreq\": {}}\\n{\"cid\": \"160416\", \"prereq\": {}, \"antireq\": {\"none\": [{\"course\": [\"CPSC\", \"217\"]}, {\"course\": [\"CPSC\", \"215\"]}, {\"course\": [\"CPSC\", \"231\"]}, {\"course\": [\"CPSC\", \"235\"]}, {\"course\": [\"DATA\", \"211\"]}, {\"course\": [\"ENCM\", \"339\"]}, {\"course\": [\"ENGG\", \"233\"]}, {\"course\": [\"ENDG\", \"233\"]}]}, \"coreq\": {}}\\n{\"cid\": \"160417\", \"prereq\": {\"some\": [{\"course\": [\"CPSC\", \"217\"]}, {\"course\": [\"DATA\", \"211\"]}]}, \"antireq\": {\"none\": [{\"course\": [\"CPSC\", \"219\"]}, {\"course\": [\"CPSC\", \"233\"]}, {\"course\": [\"CPSC\", \"235\"]}, {\"course\": [\"ENEL\", \"497\"]}, {\"course\": [\"ENCM\", \"493\"]}]}, \"coreq\": {}}\\n{\"cid\": \"107164\", \"prereq\": {\"some\": [{\"var\": \"programs.CSCS\"}, {\"var\": \"programs.BINFO\"}, {\"var\": \"programs.NATSCI.CSCS\"}]}, \"antireq\": {\"none\": [{\"course\": [\"CPSC\", \"231\"]}, {\"course\": [\"CPSC\", \"215\"]}, {\"course\": [\"CPSC\", \"217\"]}, {\"course\": [\"CPSC\", \"235\"]}, {\"course\": [\"DATA\", \"211\"]}, {\"course\": [\"ENCM\", \"339\"]}, {\"course\": [\"ENGG\", \"233\"]}, {\"course\": [\"ENDG\", \"233\"]}]}, \"coreq\": {}}\\n{\"cid\": \"107165\", \"prereq\": {\"all\": [{\"course\": [\"CPSC\", \"231\"]}, {\"some\": [{\"var\": \"programs.CSCS\"}, {\"var\": \"programs.BINFO\"}, {\"var\": \"programs.NATSCI.CSCS\"}]}]}, \"antireq\": {\"none\": [{\"course\": [\"CPSC\", \"233\"]}, {\"course\": [\"CPSC\", \"219\"]}, {\"course\": [\"CPSC\", \"235\"]}, {\"course\": [\"ENEL\", \"497\"]}, {\"course\": [\"ENCM\", \"493\"]}]}, \"coreq\": {}}'), type='text')], created_at=1704075478, file_ids=[], metadata={}, object='thread.message', role='assistant', run_id='run_Zlot4Hzuyqe6ecrJIzO1EGFQ', thread_id='thread_8ZCOjReoDe96fA0lPXSVrFX7'), ThreadMessage(id='msg_oYKKaNeBrpB7UFTf9OgAwhEy', assistant_id=None, content=[MessageContentText(text=Text(annotations=[], value='{\"cid\": \"107154\", \"prereq\": null, \"antireq\": \"Not open for registration to Computer Science majors.\", \"coreq\": null}\\n{\"cid\": \"160416\", \"prereq\": null, \"antireq\": \"Credit for CPSC 217 and any of 215, 231, 235, DATA 211, ENCM 339, ENGG 233 or ENDG 233 will not be allowed.\", \"coreq\": null}\\n{\"cid\": \"160417\", \"prereq\": \"CPSC 217 or DATA 211.\", \"antireq\": \"Credit for CPSC 219 and any of 233, 235, ENEL 497 or ENCM 493 will not be allowed.\", \"coreq\": null}\\n{\"cid\": \"107164\", \"prereq\": \"Admission to Computer Science, Bioinformatics, or Natural Science with a primary concentration in Computer Science.\", \"antireq\": \"Credit for CPSC 231 and any of CPSC 215, 217, 235, DATA 211, ENCM 339, ENGG 233, or ENDG 233 will not be allowed.\", \"coreq\": null}\\n{\"cid\": \"107165\", \"prereq\": \"CPSC 231 and admission to Computer Science, Bioinformatics, or Natural Science with a primary concentration in Computer Science.\", \"antireq\": \"Credit for CPSC 233 and any of 219, 235, ENEL 497 or ENCM 493 will not be allowed.\", \"coreq\": null}'), type='text')], created_at=1704075477, file_ids=[], metadata={}, object='thread.message', role='user', run_id=None, thread_id='thread_8ZCOjReoDe96fA0lPXSVrFX7')], object='list', first_id='msg_4y8cjMUilXBR6wqhMU1uXYzo', last_id='msg_oYKKaNeBrpB7UFTf9OgAwhEy', has_more=False)"
      ]
     },
     "execution_count": 165,
     "metadata": {},
     "output_type": "execute_result"
    }
   ],
   "source": [
    "messages = client.beta.threads.messages.list(\n",
    "    thread_id=thread.id,\n",
    ")\n",
    "\n",
    "messages"
   ]
  },
  {
   "cell_type": "code",
   "execution_count": 166,
   "metadata": {},
   "outputs": [
    {
     "data": {
      "text/plain": [
       "[ThreadMessage(id='msg_4y8cjMUilXBR6wqhMU1uXYzo', assistant_id='asst_FPCQ6UhNeRHdKcptjZjW6t4V', content=[MessageContentText(text=Text(annotations=[], value='{\"cid\": \"107154\", \"prereq\": {}, \"antireq\": {\"!=\": [{\"some\": {\"var\": \"programs\"}}, \"CS\"]}, \"coreq\": {}}\\n{\"cid\": \"160416\", \"prereq\": {}, \"antireq\": {\"none\": [{\"course\": [\"CPSC\", \"217\"]}, {\"course\": [\"CPSC\", \"215\"]}, {\"course\": [\"CPSC\", \"231\"]}, {\"course\": [\"CPSC\", \"235\"]}, {\"course\": [\"DATA\", \"211\"]}, {\"course\": [\"ENCM\", \"339\"]}, {\"course\": [\"ENGG\", \"233\"]}, {\"course\": [\"ENDG\", \"233\"]}]}, \"coreq\": {}}\\n{\"cid\": \"160417\", \"prereq\": {\"some\": [{\"course\": [\"CPSC\", \"217\"]}, {\"course\": [\"DATA\", \"211\"]}]}, \"antireq\": {\"none\": [{\"course\": [\"CPSC\", \"219\"]}, {\"course\": [\"CPSC\", \"233\"]}, {\"course\": [\"CPSC\", \"235\"]}, {\"course\": [\"ENEL\", \"497\"]}, {\"course\": [\"ENCM\", \"493\"]}]}, \"coreq\": {}}\\n{\"cid\": \"107164\", \"prereq\": {\"some\": [{\"var\": \"programs.CSCS\"}, {\"var\": \"programs.BINFO\"}, {\"var\": \"programs.NATSCI.CSCS\"}]}, \"antireq\": {\"none\": [{\"course\": [\"CPSC\", \"231\"]}, {\"course\": [\"CPSC\", \"215\"]}, {\"course\": [\"CPSC\", \"217\"]}, {\"course\": [\"CPSC\", \"235\"]}, {\"course\": [\"DATA\", \"211\"]}, {\"course\": [\"ENCM\", \"339\"]}, {\"course\": [\"ENGG\", \"233\"]}, {\"course\": [\"ENDG\", \"233\"]}]}, \"coreq\": {}}\\n{\"cid\": \"107165\", \"prereq\": {\"all\": [{\"course\": [\"CPSC\", \"231\"]}, {\"some\": [{\"var\": \"programs.CSCS\"}, {\"var\": \"programs.BINFO\"}, {\"var\": \"programs.NATSCI.CSCS\"}]}]}, \"antireq\": {\"none\": [{\"course\": [\"CPSC\", \"233\"]}, {\"course\": [\"CPSC\", \"219\"]}, {\"course\": [\"CPSC\", \"235\"]}, {\"course\": [\"ENEL\", \"497\"]}, {\"course\": [\"ENCM\", \"493\"]}]}, \"coreq\": {}}'), type='text')], created_at=1704075478, file_ids=[], metadata={}, object='thread.message', role='assistant', run_id='run_Zlot4Hzuyqe6ecrJIzO1EGFQ', thread_id='thread_8ZCOjReoDe96fA0lPXSVrFX7'),\n",
       " ThreadMessage(id='msg_oYKKaNeBrpB7UFTf9OgAwhEy', assistant_id=None, content=[MessageContentText(text=Text(annotations=[], value='{\"cid\": \"107154\", \"prereq\": null, \"antireq\": \"Not open for registration to Computer Science majors.\", \"coreq\": null}\\n{\"cid\": \"160416\", \"prereq\": null, \"antireq\": \"Credit for CPSC 217 and any of 215, 231, 235, DATA 211, ENCM 339, ENGG 233 or ENDG 233 will not be allowed.\", \"coreq\": null}\\n{\"cid\": \"160417\", \"prereq\": \"CPSC 217 or DATA 211.\", \"antireq\": \"Credit for CPSC 219 and any of 233, 235, ENEL 497 or ENCM 493 will not be allowed.\", \"coreq\": null}\\n{\"cid\": \"107164\", \"prereq\": \"Admission to Computer Science, Bioinformatics, or Natural Science with a primary concentration in Computer Science.\", \"antireq\": \"Credit for CPSC 231 and any of CPSC 215, 217, 235, DATA 211, ENCM 339, ENGG 233, or ENDG 233 will not be allowed.\", \"coreq\": null}\\n{\"cid\": \"107165\", \"prereq\": \"CPSC 231 and admission to Computer Science, Bioinformatics, or Natural Science with a primary concentration in Computer Science.\", \"antireq\": \"Credit for CPSC 233 and any of 219, 235, ENEL 497 or ENCM 493 will not be allowed.\", \"coreq\": null}'), type='text')], created_at=1704075477, file_ids=[], metadata={}, object='thread.message', role='user', run_id=None, thread_id='thread_8ZCOjReoDe96fA0lPXSVrFX7')]"
      ]
     },
     "execution_count": 166,
     "metadata": {},
     "output_type": "execute_result"
    }
   ],
   "source": [
    "messages.data"
   ]
  },
  {
   "cell_type": "code",
   "execution_count": 167,
   "metadata": {},
   "outputs": [
    {
     "name": "stdout",
     "output_type": "stream",
     "text": [
      "{\"cid\": \"107154\", \"prereq\": {}, \"antireq\": {\"!=\": [{\"some\": {\"var\": \"programs\"}}, \"CS\"]}, \"coreq\": {}}\n",
      "{\"cid\": \"160416\", \"prereq\": {}, \"antireq\": {\"none\": [{\"course\": [\"CPSC\", \"217\"]}, {\"course\": [\"CPSC\", \"215\"]}, {\"course\": [\"CPSC\", \"231\"]}, {\"course\": [\"CPSC\", \"235\"]}, {\"course\": [\"DATA\", \"211\"]}, {\"course\": [\"ENCM\", \"339\"]}, {\"course\": [\"ENGG\", \"233\"]}, {\"course\": [\"ENDG\", \"233\"]}]}, \"coreq\": {}}\n",
      "{\"cid\": \"160417\", \"prereq\": {\"some\": [{\"course\": [\"CPSC\", \"217\"]}, {\"course\": [\"DATA\", \"211\"]}]}, \"antireq\": {\"none\": [{\"course\": [\"CPSC\", \"219\"]}, {\"course\": [\"CPSC\", \"233\"]}, {\"course\": [\"CPSC\", \"235\"]}, {\"course\": [\"ENEL\", \"497\"]}, {\"course\": [\"ENCM\", \"493\"]}]}, \"coreq\": {}}\n",
      "{\"cid\": \"107164\", \"prereq\": {\"some\": [{\"var\": \"programs.CSCS\"}, {\"var\": \"programs.BINFO\"}, {\"var\": \"programs.NATSCI.CSCS\"}]}, \"antireq\": {\"none\": [{\"course\": [\"CPSC\", \"231\"]}, {\"course\": [\"CPSC\", \"215\"]}, {\"course\": [\"CPSC\", \"217\"]}, {\"course\": [\"CPSC\", \"235\"]}, {\"course\": [\"DATA\", \"211\"]}, {\"course\": [\"ENCM\", \"339\"]}, {\"course\": [\"ENGG\", \"233\"]}, {\"course\": [\"ENDG\", \"233\"]}]}, \"coreq\": {}}\n",
      "{\"cid\": \"107165\", \"prereq\": {\"all\": [{\"course\": [\"CPSC\", \"231\"]}, {\"some\": [{\"var\": \"programs.CSCS\"}, {\"var\": \"programs.BINFO\"}, {\"var\": \"programs.NATSCI.CSCS\"}]}]}, \"antireq\": {\"none\": [{\"course\": [\"CPSC\", \"233\"]}, {\"course\": [\"CPSC\", \"219\"]}, {\"course\": [\"CPSC\", \"235\"]}, {\"course\": [\"ENEL\", \"497\"]}, {\"course\": [\"ENCM\", \"493\"]}]}, \"coreq\": {}}\n"
     ]
    }
   ],
   "source": [
    "response_text = messages.data[0].content[0].text.value\n",
    "print(response_text)"
   ]
  },
  {
   "cell_type": "code",
   "execution_count": 168,
   "metadata": {},
   "outputs": [
    {
     "data": {
      "text/plain": [
       "[{'cid': '107154',\n",
       "  'prereq': {},\n",
       "  'antireq': {'!=': [{'some': {'var': 'programs'}}, 'CS']},\n",
       "  'coreq': {}},\n",
       " {'cid': '160416',\n",
       "  'prereq': {},\n",
       "  'antireq': {'none': [{'course': ['CPSC', '217']},\n",
       "    {'course': ['CPSC', '215']},\n",
       "    {'course': ['CPSC', '231']},\n",
       "    {'course': ['CPSC', '235']},\n",
       "    {'course': ['DATA', '211']},\n",
       "    {'course': ['ENCM', '339']},\n",
       "    {'course': ['ENGG', '233']},\n",
       "    {'course': ['ENDG', '233']}]},\n",
       "  'coreq': {}},\n",
       " {'cid': '160417',\n",
       "  'prereq': {'some': [{'course': ['CPSC', '217']},\n",
       "    {'course': ['DATA', '211']}]},\n",
       "  'antireq': {'none': [{'course': ['CPSC', '219']},\n",
       "    {'course': ['CPSC', '233']},\n",
       "    {'course': ['CPSC', '235']},\n",
       "    {'course': ['ENEL', '497']},\n",
       "    {'course': ['ENCM', '493']}]},\n",
       "  'coreq': {}},\n",
       " {'cid': '107164',\n",
       "  'prereq': {'some': [{'var': 'programs.CSCS'},\n",
       "    {'var': 'programs.BINFO'},\n",
       "    {'var': 'programs.NATSCI.CSCS'}]},\n",
       "  'antireq': {'none': [{'course': ['CPSC', '231']},\n",
       "    {'course': ['CPSC', '215']},\n",
       "    {'course': ['CPSC', '217']},\n",
       "    {'course': ['CPSC', '235']},\n",
       "    {'course': ['DATA', '211']},\n",
       "    {'course': ['ENCM', '339']},\n",
       "    {'course': ['ENGG', '233']},\n",
       "    {'course': ['ENDG', '233']}]},\n",
       "  'coreq': {}},\n",
       " {'cid': '107165',\n",
       "  'prereq': {'all': [{'course': ['CPSC', '231']},\n",
       "    {'some': [{'var': 'programs.CSCS'},\n",
       "      {'var': 'programs.BINFO'},\n",
       "      {'var': 'programs.NATSCI.CSCS'}]}]},\n",
       "  'antireq': {'none': [{'course': ['CPSC', '233']},\n",
       "    {'course': ['CPSC', '219']},\n",
       "    {'course': ['CPSC', '235']},\n",
       "    {'course': ['ENEL', '497']},\n",
       "    {'course': ['ENCM', '493']}]},\n",
       "  'coreq': {}}]"
      ]
     },
     "execution_count": 168,
     "metadata": {},
     "output_type": "execute_result"
    }
   ],
   "source": [
    "# Split into list of dicts\n",
    "response_dicts = response_text.split(\"\\n\")\n",
    "\n",
    "# Convert to list of dicts\n",
    "response_dicts = list(map(lambda x: json.loads(x), response_dicts))\n",
    "\n",
    "response_dicts"
   ]
  }
 ],
 "metadata": {
  "kernelspec": {
   "display_name": "Python 3",
   "language": "python",
   "name": "python3"
  },
  "language_info": {
   "codemirror_mode": {
    "name": "ipython",
    "version": 3
   },
   "file_extension": ".py",
   "mimetype": "text/x-python",
   "name": "python",
   "nbconvert_exporter": "python",
   "pygments_lexer": "ipython3",
   "version": "3.11.5"
  }
 },
 "nbformat": 4,
 "nbformat_minor": 2
}
