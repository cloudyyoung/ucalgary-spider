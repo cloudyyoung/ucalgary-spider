{
 "cells": [
  {
   "cell_type": "code",
   "execution_count": 265,
   "metadata": {},
   "outputs": [],
   "source": [
    "import os\n",
    "import json\n",
    "import jsonlines\n",
    "from time import sleep\n",
    "from openai import Client\n",
    "from dotenv import load_dotenv"
   ]
  },
  {
   "cell_type": "code",
   "execution_count": 252,
   "metadata": {},
   "outputs": [],
   "source": [
    "load_dotenv()\n",
    "\n",
    "OPENAI_API_KEY = os.environ[\"OPENAI_API_KEY\"] = os.getenv(\"OPENAI_API_KEY\")\n",
    "OPENAI_ASSISTANT_ID = os.environ[\"OPENAI_ASSISTANT_ID\"] = os.getenv(\"OPENAI_ASSISTANT_ID\")"
   ]
  },
  {
   "cell_type": "code",
   "execution_count": 253,
   "metadata": {},
   "outputs": [],
   "source": [
    "with open('instructions.txt', 'r') as f:\n",
    "    instructions = f.read()"
   ]
  },
  {
   "cell_type": "code",
   "execution_count": 254,
   "metadata": {},
   "outputs": [],
   "source": [
    "client = Client(api_key=OPENAI_API_KEY)"
   ]
  },
  {
   "cell_type": "code",
   "execution_count": 255,
   "metadata": {},
   "outputs": [
    {
     "data": {
      "text/plain": [
       "Assistant(id='asst_FPCQ6UhNeRHdKcptjZjW6t4V', created_at=1702528907, description=None, file_ids=[], instructions='You are given a piece of json for an arbitrary course, you need to understand the course context, and then convert \"prereq\" field which is pure text into json.\\n\\nReserve the original pure text \"prereq\" into \"prereq_text\" field in the result json.\\n\\nCourse title and course code might be used interchangeably in the given text. Course code is always in the format of \"ABCD\".\\n\\nYou can use logical expressions \"and\" and \"or\" to help. For example:\\n```json\\n{\\n    \"type\": \"and\",\\n    \"conditions\": [\\n        \"Law 400\",\\n        {\\n            \"type\": \"or\",\\n            \"conditions\": [\\n                \"Engineering 233\",\\n                \"Digital Engineering 233\",\\n                \"Digital Engineering 440\"\\n            ]\\n        }\\n    ]\\n}\\n``` \\n\\nOnly course can be expressed as pure string in conditions.\\n```json\\n{\\n    \"type\": \"and\",\\n    \"conditions\": [\\n        \"Law 400\",\\n        {\\n            \"type\": \"or\",\\n            \"conditions\": [\\n                \"Engineering 233\",\\n                \"Digital Engineering 233\",\\n                \"Digital Engineering 440\"\\n            ]\\n        }\\n    ]\\n}\\n```\\n\\n\\nWhen you encounter required units, simply include \"units_required\" field and \"courses\" array.\\n```json\\n{\\n    \"type\": \"units_required\",\\n    \"units_required\": 21,\\n    \"courses\": [\\n        \"Engineering 233\",\\n        \"Digital Engineering 233\",\\n        \"Digital Engineering 440\"\\n    ]\\n}\\n```\\n\\nWhen you encounter \"Consent of the Department\", simply do:\\n```json\\n{\\n    \"type\": \"consent\",\\n    \"consent\": \"Consent of the Department\"\\n}\\n```\\n\\nWhen you encounter \"excluding <course>\", simply do:\\n```json\\n{\\n    \"type\": \"exclude_courses\",\\n    \"courses\": [\\n        \"Chinese 317\",\\n        \"Chinese 355\"\\n    ]\\n}\\n```\\n\\nWhen you encounter expression about certain course code, or certain level of a course code, simply do:\\n```json\\n{\\n    \"type\": \"units_required\",\\n    \"units_required\": 3,\\n    \"courses\": [\\n        {\\n            \"type\": \"subject\",\\n            \"code\": \"PHIL\",\\n            \"level\": 400,\\n            \"include_higher\": true\\n        }\\n    ]\\n},\\n```\\n\\nWhen you encountered expression about student year stading, simply do:\\n```json\\n{\\n    \"type\": \"degree\",\\n    \"degree\": \"BHSc Honours\",\\n    \"year_standing\": 4\\n}\\n```\\n\\nWhen you encountered admission, simply do:\\n```json\\n{\\n    \"type\": \"admission\",\\n    \"conditions\": {\\n        \"type\": \"or\",\\n        \"conditions\": [\\n            {\\n                \"type\": \"degree\",\\n                \"degree\": \"BA in Philosophy\",\\n            },\\n            {\\n                \"type\": \"degree\",\\n                \"degree\": \"BA Honours in Philosophy\",\\n            }\\n        ]\\n    }\\n}\\n```\\n\\nWhen you encountered consent, simply do:\\n```json\\n{\\n    \"type\": \"consent\",\\n    \"consent\": \"Consent of the Department\"\\n}\\n```\\n\\n\\n\\n\\nExample json: \\n```json\\n{\\n    \"prereq\": {\\n        \"type\": \"and\",\\n        \"conditions\": [\\n            \"Law 400\",\\n            {\\n                \"type\": \"units_required\",\\n                \"units_required\": 21,\\n                \"conditions\": [\\n                    \"Engineering 233\",\\n                    \"Digital Engineering 233\",\\n                    \"Digital Engineering 440\",\\n                    {\\n                        \"type\": \"subject\",\\n                        \"subject\": \"Philosophy\",\\n                        \"level\": 400,\\n                        \"include_higher\": true\\n                    },\\n                    {\\n                        \"type\": \"subject\",\\n                        \"subject\": \"Urban Studies\"\\n                    }\\n                ]\\n            },\\n            {\\n                \"type\": \"or\",\\n                \"conditions\": [\\n                    \"Engineering 233\",\\n                    \"Digital Engineering 233\",\\n                    \"Digital Engineering 440\"\\n                ]\\n            },\\n            {\\n                \"type\": \"consent\",\\n                \"consent\": \"Consent of the Department\"\\n            },\\n            {\\n                \"type\": \"units_required\",\\n                \"units_required\": 3,\\n                \"conditions\": [\\n                    {\\n                        \"type\": \"subject\",\\n                        \"subject\": \"Philosophy\",\\n                        \"level\": 400,\\n                        \"include_higher\": true\\n                    }\\n                ]\\n            },\\n            {\\n                \"type\": \"exclude_courses\",\\n                \"conditions\": [\\n                    \"Chinese 317\",\\n                    \"Chinese 355\"\\n                ]\\n            }\\n        ]\\n    }\\n}\\n```\\n\\nYou may not use any types not specified in these examples. Output error when you exvountered anything you have not seen.\\n\\n', metadata={}, model='gpt-4', name='Nero', object='assistant', tools=[])"
      ]
     },
     "execution_count": 255,
     "metadata": {},
     "output_type": "execute_result"
    }
   ],
   "source": [
    "assistant = client.beta.assistants.retrieve(\n",
    "    assistant_id=OPENAI_ASSISTANT_ID\n",
    ")\n",
    "assistant.instructions = instructions\n",
    "\n",
    "assistant"
   ]
  },
  {
   "cell_type": "markdown",
   "metadata": {},
   "source": [
    "## Conversion"
   ]
  },
  {
   "cell_type": "code",
   "execution_count": 293,
   "metadata": {},
   "outputs": [],
   "source": [
    "with jsonlines.open(\"data/course-info.jsonl\") as reader:\n",
    "    course_info = list(reader)\n"
   ]
  },
  {
   "cell_type": "code",
   "execution_count": 294,
   "metadata": {},
   "outputs": [
    {
     "data": {
      "text/plain": [
       "Thread(id='thread_Jm8V5kGBaArenQYabGYoSk8s', created_at=1703563649, metadata={}, object='thread')"
      ]
     },
     "execution_count": 294,
     "metadata": {},
     "output_type": "execute_result"
    }
   ],
   "source": [
    "thread = client.beta.threads.create()\n",
    "thread"
   ]
  },
  {
   "cell_type": "code",
   "execution_count": 295,
   "metadata": {},
   "outputs": [
    {
     "data": {
      "text/plain": [
       "{'cid': 39869,\n",
       " 'code': 'CORE',\n",
       " 'number': 595,\n",
       " 'topic': 'Practicum II',\n",
       " 'description': 'Senior level leadership, advocacy and reflective practice in partner agencies, associations and systems. Specifics to be negotiated with the student. Content on professional ethics will also be covered.',\n",
       " 'sub_topics': None,\n",
       " 'units': 3.0,\n",
       " 'credits': None,\n",
       " 'hours': ['2T/4-10'],\n",
       " 'time_length': None,\n",
       " 'prereq': '<course cid=\"39868\">CORE 594</course>.',\n",
       " 'coreq': None,\n",
       " 'antireq': 'Credit for <course cid=\"39869\">CORE 595</course> and 589.02 (Supervision In Community Practice) will not be allowed.',\n",
       " 'notes': 'Course needs to be taken in combination with <course cid=\"39868\">Community Rehabilitation 594</course> in the same academic year.',\n",
       " 'aka': None,\n",
       " 'repeat': False,\n",
       " 'nogpa': True}"
      ]
     },
     "execution_count": 295,
     "metadata": {},
     "output_type": "execute_result"
    }
   ],
   "source": [
    "course_info[2910]"
   ]
  },
  {
   "cell_type": "code",
   "execution_count": 296,
   "metadata": {},
   "outputs": [
    {
     "data": {
      "text/plain": [
       "ThreadMessage(id='msg_MVvgjKzKdnIt3DE3TOFwSx4W', assistant_id=None, content=[MessageContentText(text=Text(annotations=[], value='{\\'cid\\': 39869, \\'code\\': \\'CORE\\', \\'number\\': 595, \\'topic\\': \\'Practicum II\\', \\'description\\': \\'Senior level leadership, advocacy and reflective practice in partner agencies, associations and systems. Specifics to be negotiated with the student. Content on professional ethics will also be covered.\\', \\'sub_topics\\': None, \\'units\\': 3.0, \\'credits\\': None, \\'hours\\': [\\'2T/4-10\\'], \\'time_length\\': None, \\'prereq\\': \\'<course cid=\"39868\">CORE 594</course>.\\', \\'coreq\\': None, \\'antireq\\': \\'Credit for <course cid=\"39869\">CORE 595</course> and 589.02 (Supervision In Community Practice) will not be allowed.\\', \\'notes\\': \\'Course needs to be taken in combination with <course cid=\"39868\">Community Rehabilitation 594</course> in the same academic year.\\', \\'aka\\': None, \\'repeat\\': False, \\'nogpa\\': True}'), type='text')], created_at=1703563649, file_ids=[], metadata={}, object='thread.message', role='user', run_id=None, thread_id='thread_Jm8V5kGBaArenQYabGYoSk8s')"
      ]
     },
     "execution_count": 296,
     "metadata": {},
     "output_type": "execute_result"
    }
   ],
   "source": [
    "message = client.beta.threads.messages.create(\n",
    "    thread_id=thread.id,\n",
    "    role=\"user\",\n",
    "    content=str(course_info[2910]),\n",
    ")\n",
    "\n",
    "message"
   ]
  },
  {
   "cell_type": "code",
   "execution_count": 297,
   "metadata": {},
   "outputs": [
    {
     "data": {
      "text/plain": [
       "Run(id='run_XQUXXY5fgh57BGgIJCkgLHpJ', assistant_id='asst_FPCQ6UhNeRHdKcptjZjW6t4V', cancelled_at=None, completed_at=None, created_at=1703563650, expires_at=1703564250, failed_at=None, file_ids=[], instructions='You are given a piece of json for an arbitrary course, you need to understand the course context, and then convert \"prereq\" field which is pure text into json.\\n\\nReserve the original pure text \"prereq\" into \"prereq_text\" field in the result json.\\n\\nCourse title and course code might be used interchangeably in the given text. Course code is always in the format of \"ABCD\".\\n\\nYou can use logical expressions \"and\" and \"or\" to help. For example:\\n```json\\n{\\n    \"type\": \"and\",\\n    \"conditions\": [\\n        \"Law 400\",\\n        {\\n            \"type\": \"or\",\\n            \"conditions\": [\\n                \"Engineering 233\",\\n                \"Digital Engineering 233\",\\n                \"Digital Engineering 440\"\\n            ]\\n        }\\n    ]\\n}\\n``` \\n\\nOnly course can be expressed as pure string in conditions.\\n```json\\n{\\n    \"type\": \"and\",\\n    \"conditions\": [\\n        \"Law 400\",\\n        {\\n            \"type\": \"or\",\\n            \"conditions\": [\\n                \"Engineering 233\",\\n                \"Digital Engineering 233\",\\n                \"Digital Engineering 440\"\\n            ]\\n        }\\n    ]\\n}\\n```\\n\\n\\nWhen you encounter required units, simply include \"units_required\" field and \"courses\" array.\\n```json\\n{\\n    \"type\": \"units_required\",\\n    \"units_required\": 21,\\n    \"courses\": [\\n        \"Engineering 233\",\\n        \"Digital Engineering 233\",\\n        \"Digital Engineering 440\"\\n    ]\\n}\\n```\\n\\nWhen you encounter \"Consent of the Department\", simply do:\\n```json\\n{\\n    \"type\": \"consent\",\\n    \"consent\": \"Consent of the Department\"\\n}\\n```\\n\\nWhen you encounter \"excluding <course>\", simply do:\\n```json\\n{\\n    \"type\": \"exclude_courses\",\\n    \"courses\": [\\n        \"Chinese 317\",\\n        \"Chinese 355\"\\n    ]\\n}\\n```\\n\\nWhen you encounter expression about certain course code, or certain level of a course code, simply do:\\n```json\\n{\\n    \"type\": \"units_required\",\\n    \"units_required\": 3,\\n    \"courses\": [\\n        {\\n            \"type\": \"subject\",\\n            \"code\": \"PHIL\",\\n            \"level\": 400,\\n            \"include_higher\": true\\n        }\\n    ]\\n},\\n```\\n\\nWhen you encountered expression about student year stading, simply do:\\n```json\\n{\\n    \"type\": \"degree\",\\n    \"degree\": \"BHSc Honours\",\\n    \"year_standing\": 4\\n}\\n```\\n\\nWhen you encountered admission, simply do:\\n```json\\n{\\n    \"type\": \"admission\",\\n    \"conditions\": {\\n        \"type\": \"or\",\\n        \"conditions\": [\\n            {\\n                \"type\": \"degree\",\\n                \"degree\": \"BA in Philosophy\",\\n            },\\n            {\\n                \"type\": \"degree\",\\n                \"degree\": \"BA Honours in Philosophy\",\\n            }\\n        ]\\n    }\\n}\\n```\\n\\nWhen you encountered consent, simply do:\\n```json\\n{\\n    \"type\": \"consent\",\\n    \"consent\": \"Consent of the Department\"\\n}\\n```\\n\\n\\n\\n\\nExample json: \\n```json\\n{\\n    \"prereq\": {\\n        \"type\": \"and\",\\n        \"conditions\": [\\n            \"Law 400\",\\n            {\\n                \"type\": \"units_required\",\\n                \"units_required\": 21,\\n                \"conditions\": [\\n                    \"Engineering 233\",\\n                    \"Digital Engineering 233\",\\n                    \"Digital Engineering 440\",\\n                    {\\n                        \"type\": \"subject\",\\n                        \"subject\": \"Philosophy\",\\n                        \"level\": 400,\\n                        \"include_higher\": true\\n                    },\\n                    {\\n                        \"type\": \"subject\",\\n                        \"subject\": \"Urban Studies\"\\n                    }\\n                ]\\n            },\\n            {\\n                \"type\": \"or\",\\n                \"conditions\": [\\n                    \"Engineering 233\",\\n                    \"Digital Engineering 233\",\\n                    \"Digital Engineering 440\"\\n                ]\\n            },\\n            {\\n                \"type\": \"consent\",\\n                \"consent\": \"Consent of the Department\"\\n            },\\n            {\\n                \"type\": \"units_required\",\\n                \"units_required\": 3,\\n                \"conditions\": [\\n                    {\\n                        \"type\": \"subject\",\\n                        \"subject\": \"Philosophy\",\\n                        \"level\": 400,\\n                        \"include_higher\": true\\n                    }\\n                ]\\n            },\\n            {\\n                \"type\": \"exclude_courses\",\\n                \"conditions\": [\\n                    \"Chinese 317\",\\n                    \"Chinese 355\"\\n                ]\\n            }\\n        ]\\n    }\\n}\\n```\\n\\nYou may not use any types not specified in these examples. Output error when you exvountered anything you have not seen.\\n\\n\\nYour response in only a json, with no markdown and can be fully parsed with Python `json.loads` method.', last_error=None, metadata={}, model='gpt-4', object='thread.run', required_action=None, started_at=None, status='queued', thread_id='thread_Jm8V5kGBaArenQYabGYoSk8s', tools=[])"
      ]
     },
     "execution_count": 297,
     "metadata": {},
     "output_type": "execute_result"
    }
   ],
   "source": [
    "run = client.beta.threads.runs.create(\n",
    "    thread_id=thread.id,\n",
    "    assistant_id=assistant.id,\n",
    "    instructions=instructions + \"\\nYour response in only a json, with no markdown and can be fully parsed with Python `json.loads` method.\",\n",
    ")\n",
    "\n",
    "run"
   ]
  },
  {
   "cell_type": "markdown",
   "metadata": {},
   "source": [
    "### Result"
   ]
  },
  {
   "cell_type": "code",
   "execution_count": 298,
   "metadata": {},
   "outputs": [
    {
     "data": {
      "text/plain": [
       "Run(id='run_XQUXXY5fgh57BGgIJCkgLHpJ', assistant_id='asst_FPCQ6UhNeRHdKcptjZjW6t4V', cancelled_at=None, completed_at=1703563660, created_at=1703563650, expires_at=None, failed_at=None, file_ids=[], instructions='You are given a piece of json for an arbitrary course, you need to understand the course context, and then convert \"prereq\" field which is pure text into json.\\n\\nReserve the original pure text \"prereq\" into \"prereq_text\" field in the result json.\\n\\nCourse title and course code might be used interchangeably in the given text. Course code is always in the format of \"ABCD\".\\n\\nYou can use logical expressions \"and\" and \"or\" to help. For example:\\n```json\\n{\\n    \"type\": \"and\",\\n    \"conditions\": [\\n        \"Law 400\",\\n        {\\n            \"type\": \"or\",\\n            \"conditions\": [\\n                \"Engineering 233\",\\n                \"Digital Engineering 233\",\\n                \"Digital Engineering 440\"\\n            ]\\n        }\\n    ]\\n}\\n``` \\n\\nOnly course can be expressed as pure string in conditions.\\n```json\\n{\\n    \"type\": \"and\",\\n    \"conditions\": [\\n        \"Law 400\",\\n        {\\n            \"type\": \"or\",\\n            \"conditions\": [\\n                \"Engineering 233\",\\n                \"Digital Engineering 233\",\\n                \"Digital Engineering 440\"\\n            ]\\n        }\\n    ]\\n}\\n```\\n\\n\\nWhen you encounter required units, simply include \"units_required\" field and \"courses\" array.\\n```json\\n{\\n    \"type\": \"units_required\",\\n    \"units_required\": 21,\\n    \"courses\": [\\n        \"Engineering 233\",\\n        \"Digital Engineering 233\",\\n        \"Digital Engineering 440\"\\n    ]\\n}\\n```\\n\\nWhen you encounter \"Consent of the Department\", simply do:\\n```json\\n{\\n    \"type\": \"consent\",\\n    \"consent\": \"Consent of the Department\"\\n}\\n```\\n\\nWhen you encounter \"excluding <course>\", simply do:\\n```json\\n{\\n    \"type\": \"exclude_courses\",\\n    \"courses\": [\\n        \"Chinese 317\",\\n        \"Chinese 355\"\\n    ]\\n}\\n```\\n\\nWhen you encounter expression about certain course code, or certain level of a course code, simply do:\\n```json\\n{\\n    \"type\": \"units_required\",\\n    \"units_required\": 3,\\n    \"courses\": [\\n        {\\n            \"type\": \"subject\",\\n            \"code\": \"PHIL\",\\n            \"level\": 400,\\n            \"include_higher\": true\\n        }\\n    ]\\n},\\n```\\n\\nWhen you encountered expression about student year stading, simply do:\\n```json\\n{\\n    \"type\": \"degree\",\\n    \"degree\": \"BHSc Honours\",\\n    \"year_standing\": 4\\n}\\n```\\n\\nWhen you encountered admission, simply do:\\n```json\\n{\\n    \"type\": \"admission\",\\n    \"conditions\": {\\n        \"type\": \"or\",\\n        \"conditions\": [\\n            {\\n                \"type\": \"degree\",\\n                \"degree\": \"BA in Philosophy\",\\n            },\\n            {\\n                \"type\": \"degree\",\\n                \"degree\": \"BA Honours in Philosophy\",\\n            }\\n        ]\\n    }\\n}\\n```\\n\\nWhen you encountered consent, simply do:\\n```json\\n{\\n    \"type\": \"consent\",\\n    \"consent\": \"Consent of the Department\"\\n}\\n```\\n\\n\\n\\n\\nExample json: \\n```json\\n{\\n    \"prereq\": {\\n        \"type\": \"and\",\\n        \"conditions\": [\\n            \"Law 400\",\\n            {\\n                \"type\": \"units_required\",\\n                \"units_required\": 21,\\n                \"conditions\": [\\n                    \"Engineering 233\",\\n                    \"Digital Engineering 233\",\\n                    \"Digital Engineering 440\",\\n                    {\\n                        \"type\": \"subject\",\\n                        \"subject\": \"Philosophy\",\\n                        \"level\": 400,\\n                        \"include_higher\": true\\n                    },\\n                    {\\n                        \"type\": \"subject\",\\n                        \"subject\": \"Urban Studies\"\\n                    }\\n                ]\\n            },\\n            {\\n                \"type\": \"or\",\\n                \"conditions\": [\\n                    \"Engineering 233\",\\n                    \"Digital Engineering 233\",\\n                    \"Digital Engineering 440\"\\n                ]\\n            },\\n            {\\n                \"type\": \"consent\",\\n                \"consent\": \"Consent of the Department\"\\n            },\\n            {\\n                \"type\": \"units_required\",\\n                \"units_required\": 3,\\n                \"conditions\": [\\n                    {\\n                        \"type\": \"subject\",\\n                        \"subject\": \"Philosophy\",\\n                        \"level\": 400,\\n                        \"include_higher\": true\\n                    }\\n                ]\\n            },\\n            {\\n                \"type\": \"exclude_courses\",\\n                \"conditions\": [\\n                    \"Chinese 317\",\\n                    \"Chinese 355\"\\n                ]\\n            }\\n        ]\\n    }\\n}\\n```\\n\\nYou may not use any types not specified in these examples. Output error when you exvountered anything you have not seen.\\n\\n\\nYour response in only a json, with no markdown and can be fully parsed with Python `json.loads` method.', last_error=None, metadata={}, model='gpt-4', object='thread.run', required_action=None, started_at=1703563650, status='completed', thread_id='thread_Jm8V5kGBaArenQYabGYoSk8s', tools=[])"
      ]
     },
     "execution_count": 298,
     "metadata": {},
     "output_type": "execute_result"
    }
   ],
   "source": [
    "is_complete = False\n",
    "\n",
    "# Wait until complete\n",
    "while not is_complete:\n",
    "    run = client.beta.threads.runs.retrieve(\n",
    "        thread_id=thread.id,\n",
    "        run_id=run.id,\n",
    "    )\n",
    "\n",
    "    is_complete = run.status == \"completed\"\n",
    "\n",
    "    if not is_complete:\n",
    "        sleep(4)\n",
    "\n",
    "run"
   ]
  },
  {
   "cell_type": "code",
   "execution_count": 299,
   "metadata": {},
   "outputs": [
    {
     "data": {
      "text/plain": [
       "SyncCursorPage[ThreadMessage](data=[ThreadMessage(id='msg_2rQz0YySgzst8bdlw3YhJghZ', assistant_id='asst_FPCQ6UhNeRHdKcptjZjW6t4V', content=[MessageContentText(text=Text(annotations=[], value='{\\n  \"cid\": 39869, \\n  \"code\": \"CORE\", \\n  \"number\": 595, \\n  \"topic\": \"Practicum II\", \\n  \"description\": \"Senior level leadership, advocacy and reflective practice in partner agencies, associations and systems. Specifics to be negotiated with the student. Content on professional ethics will also be covered.\", \\n  \"sub_topics\": None, \\n  \"units\": 3.0, \\n  \"credits\": None, \\n  \"hours\": [\"2T/4-10\"], \\n  \"time_length\": None, \\n  \"prereq_text\": \"CORE 594.\",\\n  \"prereq\": {\\n        \"type\": \"and\",\\n        \"conditions\": [\\n            \"CORE 594\"\\n        ]\\n    },\\n  \"coreq\": None, \\n  \"antireq\": {\\n      \"type\": \"exclude_courses\",\\n      \"courses\": [\\n        \"CORE 595\",\\n        \"589.02\"\\n      ]\\n   }, \\n  \"notes\": \"Course needs to be taken in combination with Community Rehabilitation 594 in the same academic year.\", \\n  \"aka\": None, \\n  \"repeat\": False, \\n  \"nogpa\": True\\n}'), type='text')], created_at=1703563651, file_ids=[], metadata={}, object='thread.message', role='assistant', run_id='run_XQUXXY5fgh57BGgIJCkgLHpJ', thread_id='thread_Jm8V5kGBaArenQYabGYoSk8s'), ThreadMessage(id='msg_MVvgjKzKdnIt3DE3TOFwSx4W', assistant_id=None, content=[MessageContentText(text=Text(annotations=[], value='{\\'cid\\': 39869, \\'code\\': \\'CORE\\', \\'number\\': 595, \\'topic\\': \\'Practicum II\\', \\'description\\': \\'Senior level leadership, advocacy and reflective practice in partner agencies, associations and systems. Specifics to be negotiated with the student. Content on professional ethics will also be covered.\\', \\'sub_topics\\': None, \\'units\\': 3.0, \\'credits\\': None, \\'hours\\': [\\'2T/4-10\\'], \\'time_length\\': None, \\'prereq\\': \\'<course cid=\"39868\">CORE 594</course>.\\', \\'coreq\\': None, \\'antireq\\': \\'Credit for <course cid=\"39869\">CORE 595</course> and 589.02 (Supervision In Community Practice) will not be allowed.\\', \\'notes\\': \\'Course needs to be taken in combination with <course cid=\"39868\">Community Rehabilitation 594</course> in the same academic year.\\', \\'aka\\': None, \\'repeat\\': False, \\'nogpa\\': True}'), type='text')], created_at=1703563649, file_ids=[], metadata={}, object='thread.message', role='user', run_id=None, thread_id='thread_Jm8V5kGBaArenQYabGYoSk8s')], object='list', first_id='msg_2rQz0YySgzst8bdlw3YhJghZ', last_id='msg_MVvgjKzKdnIt3DE3TOFwSx4W', has_more=False)"
      ]
     },
     "execution_count": 299,
     "metadata": {},
     "output_type": "execute_result"
    }
   ],
   "source": [
    "messages = client.beta.threads.messages.list(\n",
    "    thread_id=thread.id,\n",
    ")\n",
    "\n",
    "messages"
   ]
  },
  {
   "cell_type": "code",
   "execution_count": 300,
   "metadata": {},
   "outputs": [
    {
     "data": {
      "text/plain": [
       "[ThreadMessage(id='msg_2rQz0YySgzst8bdlw3YhJghZ', assistant_id='asst_FPCQ6UhNeRHdKcptjZjW6t4V', content=[MessageContentText(text=Text(annotations=[], value='{\\n  \"cid\": 39869, \\n  \"code\": \"CORE\", \\n  \"number\": 595, \\n  \"topic\": \"Practicum II\", \\n  \"description\": \"Senior level leadership, advocacy and reflective practice in partner agencies, associations and systems. Specifics to be negotiated with the student. Content on professional ethics will also be covered.\", \\n  \"sub_topics\": None, \\n  \"units\": 3.0, \\n  \"credits\": None, \\n  \"hours\": [\"2T/4-10\"], \\n  \"time_length\": None, \\n  \"prereq_text\": \"CORE 594.\",\\n  \"prereq\": {\\n        \"type\": \"and\",\\n        \"conditions\": [\\n            \"CORE 594\"\\n        ]\\n    },\\n  \"coreq\": None, \\n  \"antireq\": {\\n      \"type\": \"exclude_courses\",\\n      \"courses\": [\\n        \"CORE 595\",\\n        \"589.02\"\\n      ]\\n   }, \\n  \"notes\": \"Course needs to be taken in combination with Community Rehabilitation 594 in the same academic year.\", \\n  \"aka\": None, \\n  \"repeat\": False, \\n  \"nogpa\": True\\n}'), type='text')], created_at=1703563651, file_ids=[], metadata={}, object='thread.message', role='assistant', run_id='run_XQUXXY5fgh57BGgIJCkgLHpJ', thread_id='thread_Jm8V5kGBaArenQYabGYoSk8s'),\n",
       " ThreadMessage(id='msg_MVvgjKzKdnIt3DE3TOFwSx4W', assistant_id=None, content=[MessageContentText(text=Text(annotations=[], value='{\\'cid\\': 39869, \\'code\\': \\'CORE\\', \\'number\\': 595, \\'topic\\': \\'Practicum II\\', \\'description\\': \\'Senior level leadership, advocacy and reflective practice in partner agencies, associations and systems. Specifics to be negotiated with the student. Content on professional ethics will also be covered.\\', \\'sub_topics\\': None, \\'units\\': 3.0, \\'credits\\': None, \\'hours\\': [\\'2T/4-10\\'], \\'time_length\\': None, \\'prereq\\': \\'<course cid=\"39868\">CORE 594</course>.\\', \\'coreq\\': None, \\'antireq\\': \\'Credit for <course cid=\"39869\">CORE 595</course> and 589.02 (Supervision In Community Practice) will not be allowed.\\', \\'notes\\': \\'Course needs to be taken in combination with <course cid=\"39868\">Community Rehabilitation 594</course> in the same academic year.\\', \\'aka\\': None, \\'repeat\\': False, \\'nogpa\\': True}'), type='text')], created_at=1703563649, file_ids=[], metadata={}, object='thread.message', role='user', run_id=None, thread_id='thread_Jm8V5kGBaArenQYabGYoSk8s')]"
      ]
     },
     "execution_count": 300,
     "metadata": {},
     "output_type": "execute_result"
    }
   ],
   "source": [
    "messages.data"
   ]
  },
  {
   "cell_type": "code",
   "execution_count": 301,
   "metadata": {},
   "outputs": [
    {
     "name": "stdout",
     "output_type": "stream",
     "text": [
      "{\n",
      "  \"cid\": 39869, \n",
      "  \"code\": \"CORE\", \n",
      "  \"number\": 595, \n",
      "  \"topic\": \"Practicum II\", \n",
      "  \"description\": \"Senior level leadership, advocacy and reflective practice in partner agencies, associations and systems. Specifics to be negotiated with the student. Content on professional ethics will also be covered.\", \n",
      "  \"sub_topics\": None, \n",
      "  \"units\": 3.0, \n",
      "  \"credits\": None, \n",
      "  \"hours\": [\"2T/4-10\"], \n",
      "  \"time_length\": None, \n",
      "  \"prereq_text\": \"CORE 594.\",\n",
      "  \"prereq\": {\n",
      "        \"type\": \"and\",\n",
      "        \"conditions\": [\n",
      "            \"CORE 594\"\n",
      "        ]\n",
      "    },\n",
      "  \"coreq\": None, \n",
      "  \"antireq\": {\n",
      "      \"type\": \"exclude_courses\",\n",
      "      \"courses\": [\n",
      "        \"CORE 595\",\n",
      "        \"589.02\"\n",
      "      ]\n",
      "   }, \n",
      "  \"notes\": \"Course needs to be taken in combination with Community Rehabilitation 594 in the same academic year.\", \n",
      "  \"aka\": None, \n",
      "  \"repeat\": False, \n",
      "  \"nogpa\": True\n",
      "}\n"
     ]
    }
   ],
   "source": [
    "json_text = messages.data[0].content[0].text.value\n",
    "print(json_text)"
   ]
  },
  {
   "cell_type": "code",
   "execution_count": 302,
   "metadata": {},
   "outputs": [
    {
     "data": {
      "text/plain": [
       "{'cid': 39869,\n",
       " 'code': 'CORE',\n",
       " 'number': 595,\n",
       " 'topic': 'Practicum II',\n",
       " 'description': 'Senior level leadership, advocacy and reflective practice in partner agencies, associations and systems. Specifics to be negotiated with the student. Content on professional ethics will also be covered.',\n",
       " 'sub_topics': None,\n",
       " 'units': 3.0,\n",
       " 'credits': None,\n",
       " 'hours': ['2T/4-10'],\n",
       " 'time_length': None,\n",
       " 'prereq_text': 'CORE 594.',\n",
       " 'prereq': {'type': 'and', 'conditions': ['CORE 594']},\n",
       " 'coreq': None,\n",
       " 'antireq': {'type': 'exclude_courses', 'courses': ['CORE 595', '589.02']},\n",
       " 'notes': 'Course needs to be taken in combination with Community Rehabilitation 594 in the same academic year.',\n",
       " 'aka': None,\n",
       " 'repeat': False,\n",
       " 'nogpa': True}"
      ]
     },
     "execution_count": 302,
     "metadata": {},
     "output_type": "execute_result"
    }
   ],
   "source": [
    "obj = eval(json_text)\n",
    "obj"
   ]
  }
 ],
 "metadata": {
  "kernelspec": {
   "display_name": "Python 3",
   "language": "python",
   "name": "python3"
  },
  "language_info": {
   "codemirror_mode": {
    "name": "ipython",
    "version": 3
   },
   "file_extension": ".py",
   "mimetype": "text/x-python",
   "name": "python",
   "nbconvert_exporter": "python",
   "pygments_lexer": "ipython3",
   "version": "3.11.5"
  }
 },
 "nbformat": 4,
 "nbformat_minor": 2
}
