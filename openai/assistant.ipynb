{
 "cells": [
  {
   "cell_type": "code",
   "execution_count": 1,
   "metadata": {},
   "outputs": [],
   "source": [
    "import os\n",
    "import json\n",
    "import jsonlines\n",
    "from time import sleep\n",
    "from openai import Client\n",
    "from dotenv import load_dotenv"
   ]
  },
  {
   "cell_type": "code",
   "execution_count": 2,
   "metadata": {},
   "outputs": [],
   "source": [
    "load_dotenv()\n",
    "\n",
    "OPENAI_API_KEY = os.environ[\"OPENAI_API_KEY\"] = os.getenv(\"OPENAI_API_KEY\")\n",
    "OPENAI_ASSISTANT_ID = os.environ[\"OPENAI_ASSISTANT_ID\"] = os.getenv(\"OPENAI_ASSISTANT_ID\")"
   ]
  },
  {
   "cell_type": "code",
   "execution_count": 3,
   "metadata": {},
   "outputs": [],
   "source": [
    "with open('instructions.txt', 'r') as f:\n",
    "    instructions = f.read()"
   ]
  },
  {
   "cell_type": "code",
   "execution_count": 4,
   "metadata": {},
   "outputs": [],
   "source": [
    "client = Client(api_key=OPENAI_API_KEY)"
   ]
  },
  {
   "cell_type": "code",
   "execution_count": 5,
   "metadata": {},
   "outputs": [
    {
     "data": {
      "text/plain": [
       "Assistant(id='asst_FPCQ6UhNeRHdKcptjZjW6t4V', created_at=1702528907, description=None, file_ids=[], instructions='You are given a piece of json for an arbitrary course, you need to understand the course context, \\nand then convert \"prereq\", \"antireq\" and \"coreq\" fields (which are pure text) into json.\\n\\nFor \"antireq\", the logic is the opposite of \"prereq\" and \"coreq\", you want to express as satisfiying \"antireq\" logic, in other words, you do not use \"exclude_courses\".\\n\\nIf you are given multiple lines of input jsons, you need to output multiple lines of jsons, respectively.\\n\\nYour response must be in only one or more json, with no markdown and can be fully parsed with Python `json.loads` method.\\n\\nYou only need to include \"cid\", \"prereq\", \"antireq\" and \"coreq\" fields in your output json. Presrve \"null\" values.\\n\\nCourse title and course code might be used interchangeably in the given text. Course code is always in the format of \"ABCD\".\\n\\nYou can use logical expressions \"and\" and \"or\" to help. For example:\\n```json\\n{\\n    \"type\": \"and\",\\n    \"conditions\": [\\n        \"Law 400\",\\n        {\\n            \"type\": \"or\",\\n            \"conditions\": [\\n                \"Engineering 233\",\\n                \"Digital Engineering 233\",\\n                \"Digital Engineering 440\"\\n            ]\\n        }\\n    ]\\n}\\n``` \\n\\nOnly course can be expressed as pure string in conditions.\\n```json\\n{\\n    \"type\": \"and\",\\n    \"conditions\": [\\n        \"Law 400\",\\n        {\\n            \"type\": \"or\",\\n            \"conditions\": [\\n                \"Engineering 233\",\\n                \"Digital Engineering 233\",\\n                \"Digital Engineering 440\"\\n            ]\\n        }\\n    ]\\n}\\n```\\n\\n\\nWhen you encounter required units, simply include \"units_required\" field and \"courses\" array.\\n```json\\n{\\n    \"type\": \"units_required\",\\n    \"units_required\": 21,\\n    \"courses\": [\\n        \"Engineering 233\",\\n        \"Digital Engineering 233\",\\n        \"Digital Engineering 440\"\\n    ]\\n}\\n```\\n\\nWhen you encounter \"Consent of the Department\", simply do:\\n```json\\n{\\n    \"type\": \"consent\",\\n    \"consent\": \"Consent of the Department\"\\n}\\n```\\n\\nWhen you encounter \"excluding <course>\", simply do:\\n```json\\n{\\n    \"type\": \"exclude_courses\",\\n    \"courses\": [\\n        \"Chinese 317\",\\n        \"Chinese 355\"\\n    ]\\n}\\n```\\n\\nWhen you encounter expression about certain course code, or certain level of a course code, simply do:\\n```json\\n{\\n    \"type\": \"units_required\",\\n    \"units_required\": 3,\\n    \"courses\": [\\n        {\\n            \"type\": \"subject\",\\n            \"code\": \"PHIL\",\\n            \"level\": 400,\\n            \"include_higher\": true\\n        }\\n    ]\\n},\\n```\\n\\nWhen you encountered expression about student year stading, simply do:\\n```json\\n{\\n    \"type\": \"degree\",\\n    \"degree\": \"BHSc Honours\",\\n    \"year_standing\": 4\\n}\\n```\\n\\nWhen you encountered admission, simply do:\\n```json\\n{\\n    \"type\": \"admission\",\\n    \"conditions\": {\\n        \"type\": \"or\",\\n        \"conditions\": [\\n            {\\n                \"type\": \"degree\",\\n                \"degree\": \"BA in Philosophy\",\\n            },\\n            {\\n                \"type\": \"degree\",\\n                \"degree\": \"BA Honours in Philosophy\",\\n            }\\n        ]\\n    }\\n}\\n```\\n\\nWhen you encountered consent, simply do:\\n```json\\n{\\n    \"type\": \"consent\",\\n    \"consent\": \"Consent of the Department\"\\n}\\n```\\n\\n\\n\\n\\nExample json: \\n```json\\n{\\n    \"prereq\": {\\n        \"type\": \"and\",\\n        \"conditions\": [\\n            \"Law 400\",\\n            {\\n                \"type\": \"units_required\",\\n                \"units_required\": 21,\\n                \"conditions\": [\\n                    \"Engineering 233\",\\n                    \"Digital Engineering 233\",\\n                    \"Digital Engineering 440\",\\n                    {\\n                        \"type\": \"subject\",\\n                        \"subject\": \"Philosophy\",\\n                        \"level\": 400,\\n                        \"include_higher\": true\\n                    },\\n                    {\\n                        \"type\": \"subject\",\\n                        \"subject\": \"Urban Studies\"\\n                    }\\n                ]\\n            },\\n            {\\n                \"type\": \"or\",\\n                \"conditions\": [\\n                    \"Engineering 233\",\\n                    \"Digital Engineering 233\",\\n                    \"Digital Engineering 440\"\\n                ]\\n            },\\n            {\\n                \"type\": \"consent\",\\n                \"consent\": \"Consent of the Department\"\\n            },\\n            {\\n                \"type\": \"units_required\",\\n                \"units_required\": 3,\\n                \"conditions\": [\\n                    {\\n                        \"type\": \"subject\",\\n                        \"subject\": \"Philosophy\",\\n                        \"level\": 400,\\n                        \"include_higher\": true\\n                    }\\n                ]\\n            },\\n            {\\n                \"type\": \"exclude_courses\",\\n                \"conditions\": [\\n                    \"Chinese 317\",\\n                    \"Chinese 355\"\\n                ]\\n            }\\n        ]\\n    }\\n}\\n```\\n\\nYou may not use any types not specified in these examples. Output error when you exvountered anything you have not seen.\\n\\n', metadata={}, model='gpt-4', name='Nero', object='assistant', tools=[])"
      ]
     },
     "execution_count": 5,
     "metadata": {},
     "output_type": "execute_result"
    }
   ],
   "source": [
    "assistant = client.beta.assistants.retrieve(\n",
    "    assistant_id=OPENAI_ASSISTANT_ID\n",
    ")\n",
    "assistant.instructions = instructions\n",
    "\n",
    "assistant"
   ]
  },
  {
   "cell_type": "markdown",
   "metadata": {},
   "source": [
    "## Conversion"
   ]
  },
  {
   "cell_type": "code",
   "execution_count": 6,
   "metadata": {},
   "outputs": [],
   "source": [
    "with jsonlines.open(\"data/course-info.jsonl\") as reader:\n",
    "    course_info = list(reader)\n"
   ]
  },
  {
   "cell_type": "code",
   "execution_count": 7,
   "metadata": {},
   "outputs": [
    {
     "data": {
      "text/plain": [
       "Thread(id='thread_nd818Oszpj7zxlhPG0adWAlQ', created_at=1703566280, metadata={}, object='thread')"
      ]
     },
     "execution_count": 7,
     "metadata": {},
     "output_type": "execute_result"
    }
   ],
   "source": [
    "thread = client.beta.threads.create()\n",
    "thread"
   ]
  },
  {
   "cell_type": "code",
   "execution_count": 8,
   "metadata": {},
   "outputs": [
    {
     "name": "stdout",
     "output_type": "stream",
     "text": [
      "{'cid': 39871, 'code': 'CORE', 'number': 597, 'topic': 'Practicum I in Community Rehabilitation for Distance Learners', 'description': 'Students will complete a project in the area of program or service development (e.g. needs analysis, developing funding proposals, program evaluation). In the seminars, students will be supported in the completion of agency-based program development. Content on professional ethics will also be covered.', 'sub_topics': None, 'units': 3.0, 'credits': None, 'hours': ['2T/4-10'], 'time_length': None, 'prereq': 'Admission to the BCR-C distance program.', 'coreq': None, 'antireq': 'Credit for <course cid=\"39871\">CORE 597</course> and 589.06 (Block Practicum in Community Rehabilitation) will not be allowed.', 'notes': 'Course is normally taken in combination with <course cid=\"42570\">Community Rehabilitation 598</course> in the same academic year.', 'aka': None, 'repeat': False, 'nogpa': True}\n",
      "{'cid': 42570, 'code': 'CORE', 'number': 598, 'topic': 'Practicum II in Community Rehabilitation for Distance Learners', 'description': 'Students will complete a project in the area of program or service development (e.g. needs analysis, developing funding proposals, program evaluation). In the seminars, students will be supported in the completion of agency-based program development. Content on professional ethics will also be covered.', 'sub_topics': None, 'units': 3.0, 'credits': None, 'hours': ['2T/4-10'], 'time_length': None, 'prereq': 'CORE 596 or <course cid=\"39871\">597</course> and admission to the BCR-C distance program.', 'coreq': None, 'antireq': None, 'notes': 'Course is normally taken in combination with <course cid=\"39871\">Community Rehabilitation 597</course> in the same academic year.', 'aka': None, 'repeat': False, 'nogpa': True}\n",
      "{'cid': 32134, 'code': 'MDCH', 'number': 600, 'topic': 'Introduction to Community Health Sciences', 'description': 'An introduction to the Department as well as a general orientation to the education and research programs in Community Health.', 'sub_topics': None, 'units': 3.0, 'credits': None, 'hours': ['3-0'], 'time_length': None, 'prereq': 'Admission to the Community Health Sciences or Public Health and Preventative Medicine program or Mathematics and Statistics graduate program (Biostatistics specialization).', 'coreq': None, 'antireq': 'Credit for <course cid=\"32134\">MDCH 600</course> and MDSC 644 will not be allowed.', 'notes': None, 'aka': None, 'repeat': False, 'nogpa': True}\n",
      "{'cid': 32137, 'code': 'MDCH', 'number': 602, 'topic': 'Practicum in Public Health and Preventative Medicine', 'description': 'Clinical or field-based practicum for the Master of Community Medicine Program of the Community Health Sciences graduate program.', 'sub_topics': None, 'units': 3.0, 'credits': None, 'hours': ['1-0'], 'time_length': None, 'prereq': 'Admission to the Master of Community Medicine specialization or the Public Health and Preventative Medicine program.', 'coreq': None, 'antireq': 'Credit for <course cid=\"32137\">MDCH 602</course> and MDSC 649.01 (Practicum in Community Medicine) will not be allowed.', 'notes': None, 'aka': None, 'repeat': False, 'nogpa': True}\n",
      "{'cid': 32136, 'code': 'MDCH', 'number': 603, 'topic': 'Practicum in Health Care Epidemiology', 'description': 'Clinical or field-based practicum for the Health Care Epidemiology specialization of the Community Health Sciences graduate program.', 'sub_topics': None, 'units': 3.0, 'credits': None, 'hours': ['1-0'], 'time_length': None, 'prereq': \"Admission to the Community Health Sciences graduate program's Health Care Epidemiology specialization.\", 'coreq': None, 'antireq': 'Credit for <course cid=\"32136\">MDCH 603</course> and MDSC 649.02 (Practicum Hospital Epidemiology) will not be allowed.', 'notes': None, 'aka': None, 'repeat': False, 'nogpa': True}\n"
     ]
    }
   ],
   "source": [
    "# Prepare content\n",
    "\n",
    "courses_list = []\n",
    "courses_list = course_info[2911:2916]\n",
    "\n",
    "content = \"\\n\".join(map(lambda x: str(x), courses_list))\n",
    "print(content)"
   ]
  },
  {
   "cell_type": "code",
   "execution_count": 9,
   "metadata": {},
   "outputs": [
    {
     "data": {
      "text/plain": [
       "ThreadMessage(id='msg_nVSMHsscGIvsJw7n4IeXJ5uY', assistant_id=None, content=[MessageContentText(text=Text(annotations=[], value='{\\'cid\\': 39871, \\'code\\': \\'CORE\\', \\'number\\': 597, \\'topic\\': \\'Practicum I in Community Rehabilitation for Distance Learners\\', \\'description\\': \\'Students will complete a project in the area of program or service development (e.g. needs analysis, developing funding proposals, program evaluation). In the seminars, students will be supported in the completion of agency-based program development. Content on professional ethics will also be covered.\\', \\'sub_topics\\': None, \\'units\\': 3.0, \\'credits\\': None, \\'hours\\': [\\'2T/4-10\\'], \\'time_length\\': None, \\'prereq\\': \\'Admission to the BCR-C distance program.\\', \\'coreq\\': None, \\'antireq\\': \\'Credit for <course cid=\"39871\">CORE 597</course> and 589.06 (Block Practicum in Community Rehabilitation) will not be allowed.\\', \\'notes\\': \\'Course is normally taken in combination with <course cid=\"42570\">Community Rehabilitation 598</course> in the same academic year.\\', \\'aka\\': None, \\'repeat\\': False, \\'nogpa\\': True}\\n{\\'cid\\': 42570, \\'code\\': \\'CORE\\', \\'number\\': 598, \\'topic\\': \\'Practicum II in Community Rehabilitation for Distance Learners\\', \\'description\\': \\'Students will complete a project in the area of program or service development (e.g. needs analysis, developing funding proposals, program evaluation). In the seminars, students will be supported in the completion of agency-based program development. Content on professional ethics will also be covered.\\', \\'sub_topics\\': None, \\'units\\': 3.0, \\'credits\\': None, \\'hours\\': [\\'2T/4-10\\'], \\'time_length\\': None, \\'prereq\\': \\'CORE 596 or <course cid=\"39871\">597</course> and admission to the BCR-C distance program.\\', \\'coreq\\': None, \\'antireq\\': None, \\'notes\\': \\'Course is normally taken in combination with <course cid=\"39871\">Community Rehabilitation 597</course> in the same academic year.\\', \\'aka\\': None, \\'repeat\\': False, \\'nogpa\\': True}\\n{\\'cid\\': 32134, \\'code\\': \\'MDCH\\', \\'number\\': 600, \\'topic\\': \\'Introduction to Community Health Sciences\\', \\'description\\': \\'An introduction to the Department as well as a general orientation to the education and research programs in Community Health.\\', \\'sub_topics\\': None, \\'units\\': 3.0, \\'credits\\': None, \\'hours\\': [\\'3-0\\'], \\'time_length\\': None, \\'prereq\\': \\'Admission to the Community Health Sciences or Public Health and Preventative Medicine program or Mathematics and Statistics graduate program (Biostatistics specialization).\\', \\'coreq\\': None, \\'antireq\\': \\'Credit for <course cid=\"32134\">MDCH 600</course> and MDSC 644 will not be allowed.\\', \\'notes\\': None, \\'aka\\': None, \\'repeat\\': False, \\'nogpa\\': True}\\n{\\'cid\\': 32137, \\'code\\': \\'MDCH\\', \\'number\\': 602, \\'topic\\': \\'Practicum in Public Health and Preventative Medicine\\', \\'description\\': \\'Clinical or field-based practicum for the Master of Community Medicine Program of the Community Health Sciences graduate program.\\', \\'sub_topics\\': None, \\'units\\': 3.0, \\'credits\\': None, \\'hours\\': [\\'1-0\\'], \\'time_length\\': None, \\'prereq\\': \\'Admission to the Master of Community Medicine specialization or the Public Health and Preventative Medicine program.\\', \\'coreq\\': None, \\'antireq\\': \\'Credit for <course cid=\"32137\">MDCH 602</course> and MDSC 649.01 (Practicum in Community Medicine) will not be allowed.\\', \\'notes\\': None, \\'aka\\': None, \\'repeat\\': False, \\'nogpa\\': True}\\n{\\'cid\\': 32136, \\'code\\': \\'MDCH\\', \\'number\\': 603, \\'topic\\': \\'Practicum in Health Care Epidemiology\\', \\'description\\': \\'Clinical or field-based practicum for the Health Care Epidemiology specialization of the Community Health Sciences graduate program.\\', \\'sub_topics\\': None, \\'units\\': 3.0, \\'credits\\': None, \\'hours\\': [\\'1-0\\'], \\'time_length\\': None, \\'prereq\\': \"Admission to the Community Health Sciences graduate program\\'s Health Care Epidemiology specialization.\", \\'coreq\\': None, \\'antireq\\': \\'Credit for <course cid=\"32136\">MDCH 603</course> and MDSC 649.02 (Practicum Hospital Epidemiology) will not be allowed.\\', \\'notes\\': None, \\'aka\\': None, \\'repeat\\': False, \\'nogpa\\': True}'), type='text')], created_at=1703566280, file_ids=[], metadata={}, object='thread.message', role='user', run_id=None, thread_id='thread_nd818Oszpj7zxlhPG0adWAlQ')"
      ]
     },
     "execution_count": 9,
     "metadata": {},
     "output_type": "execute_result"
    }
   ],
   "source": [
    "message = client.beta.threads.messages.create(\n",
    "    thread_id=thread.id,\n",
    "    role=\"user\",\n",
    "    content=content,\n",
    ")\n",
    "\n",
    "message"
   ]
  },
  {
   "cell_type": "code",
   "execution_count": 10,
   "metadata": {},
   "outputs": [
    {
     "data": {
      "text/plain": [
       "Run(id='run_7eU2uV3vBNXaJTg3Km9oP5a9', assistant_id='asst_FPCQ6UhNeRHdKcptjZjW6t4V', cancelled_at=None, completed_at=None, created_at=1703566280, expires_at=1703566880, failed_at=None, file_ids=[], instructions='You are given a piece of json for an arbitrary course, you need to understand the course context, \\nand then convert \"prereq\", \"antireq\" and \"coreq\" fields (which are pure text) into json.\\n\\nFor \"antireq\", the logic is the opposite of \"prereq\" and \"coreq\", you want to express as satisfiying \"antireq\" logic, in other words, you do not use \"exclude_courses\".\\n\\nIf you are given multiple lines of input jsons, you need to output multiple lines of jsons, respectively.\\n\\nYour response must be in only one or more json, with no markdown and can be fully parsed with Python `json.loads` method.\\n\\nYou only need to include \"cid\", \"prereq\", \"antireq\" and \"coreq\" fields in your output json. Presrve \"null\" values.\\n\\nCourse title and course code might be used interchangeably in the given text. Course code is always in the format of \"ABCD\".\\n\\nYou can use logical expressions \"and\" and \"or\" to help. For example:\\n```json\\n{\\n    \"type\": \"and\",\\n    \"conditions\": [\\n        \"Law 400\",\\n        {\\n            \"type\": \"or\",\\n            \"conditions\": [\\n                \"Engineering 233\",\\n                \"Digital Engineering 233\",\\n                \"Digital Engineering 440\"\\n            ]\\n        }\\n    ]\\n}\\n``` \\n\\nOnly course can be expressed as pure string in conditions.\\n```json\\n{\\n    \"type\": \"and\",\\n    \"conditions\": [\\n        \"Law 400\",\\n        {\\n            \"type\": \"or\",\\n            \"conditions\": [\\n                \"Engineering 233\",\\n                \"Digital Engineering 233\",\\n                \"Digital Engineering 440\"\\n            ]\\n        }\\n    ]\\n}\\n```\\n\\n\\nWhen you encounter required units, simply include \"units_required\" field and \"courses\" array.\\n```json\\n{\\n    \"type\": \"units_required\",\\n    \"units_required\": 21,\\n    \"courses\": [\\n        \"Engineering 233\",\\n        \"Digital Engineering 233\",\\n        \"Digital Engineering 440\"\\n    ]\\n}\\n```\\n\\nWhen you encounter \"Consent of the Department\", simply do:\\n```json\\n{\\n    \"type\": \"consent\",\\n    \"consent\": \"Consent of the Department\"\\n}\\n```\\n\\nWhen you encounter \"excluding <course>\", simply do:\\n```json\\n{\\n    \"type\": \"exclude_courses\",\\n    \"courses\": [\\n        \"Chinese 317\",\\n        \"Chinese 355\"\\n    ]\\n}\\n```\\n\\nWhen you encounter expression about certain course code, or certain level of a course code, simply do:\\n```json\\n{\\n    \"type\": \"units_required\",\\n    \"units_required\": 3,\\n    \"courses\": [\\n        {\\n            \"type\": \"subject\",\\n            \"code\": \"PHIL\",\\n            \"level\": 400,\\n            \"include_higher\": true\\n        }\\n    ]\\n},\\n```\\n\\nWhen you encountered expression about student year stading, simply do:\\n```json\\n{\\n    \"type\": \"degree\",\\n    \"degree\": \"BHSc Honours\",\\n    \"year_standing\": 4\\n}\\n```\\n\\nWhen you encountered admission, simply do:\\n```json\\n{\\n    \"type\": \"admission\",\\n    \"conditions\": {\\n        \"type\": \"or\",\\n        \"conditions\": [\\n            {\\n                \"type\": \"degree\",\\n                \"degree\": \"BA in Philosophy\",\\n            },\\n            {\\n                \"type\": \"degree\",\\n                \"degree\": \"BA Honours in Philosophy\",\\n            }\\n        ]\\n    }\\n}\\n```\\n\\nWhen you encountered consent, simply do:\\n```json\\n{\\n    \"type\": \"consent\",\\n    \"consent\": \"Consent of the Department\"\\n}\\n```\\n\\n\\n\\n\\nExample json: \\n```json\\n{\\n    \"prereq\": {\\n        \"type\": \"and\",\\n        \"conditions\": [\\n            \"Law 400\",\\n            {\\n                \"type\": \"units_required\",\\n                \"units_required\": 21,\\n                \"conditions\": [\\n                    \"Engineering 233\",\\n                    \"Digital Engineering 233\",\\n                    \"Digital Engineering 440\",\\n                    {\\n                        \"type\": \"subject\",\\n                        \"subject\": \"Philosophy\",\\n                        \"level\": 400,\\n                        \"include_higher\": true\\n                    },\\n                    {\\n                        \"type\": \"subject\",\\n                        \"subject\": \"Urban Studies\"\\n                    }\\n                ]\\n            },\\n            {\\n                \"type\": \"or\",\\n                \"conditions\": [\\n                    \"Engineering 233\",\\n                    \"Digital Engineering 233\",\\n                    \"Digital Engineering 440\"\\n                ]\\n            },\\n            {\\n                \"type\": \"consent\",\\n                \"consent\": \"Consent of the Department\"\\n            },\\n            {\\n                \"type\": \"units_required\",\\n                \"units_required\": 3,\\n                \"conditions\": [\\n                    {\\n                        \"type\": \"subject\",\\n                        \"subject\": \"Philosophy\",\\n                        \"level\": 400,\\n                        \"include_higher\": true\\n                    }\\n                ]\\n            },\\n            {\\n                \"type\": \"exclude_courses\",\\n                \"conditions\": [\\n                    \"Chinese 317\",\\n                    \"Chinese 355\"\\n                ]\\n            }\\n        ]\\n    }\\n}\\n```\\n\\nYou may not use any types not specified in these examples. Output error when you exvountered anything you have not seen.\\n\\n', last_error=None, metadata={}, model='gpt-4', object='thread.run', required_action=None, started_at=None, status='queued', thread_id='thread_nd818Oszpj7zxlhPG0adWAlQ', tools=[])"
      ]
     },
     "execution_count": 10,
     "metadata": {},
     "output_type": "execute_result"
    }
   ],
   "source": [
    "run = client.beta.threads.runs.create(\n",
    "    thread_id=thread.id,\n",
    "    assistant_id=assistant.id,\n",
    "    instructions=instructions,\n",
    ")\n",
    "\n",
    "run"
   ]
  },
  {
   "cell_type": "markdown",
   "metadata": {},
   "source": [
    "### Result"
   ]
  },
  {
   "cell_type": "code",
   "execution_count": 11,
   "metadata": {},
   "outputs": [
    {
     "name": "stdout",
     "output_type": "stream",
     "text": [
      "Waiting for completion...\n",
      "Waiting for completion...\n"
     ]
    },
    {
     "data": {
      "text/plain": [
       "Run(id='run_7eU2uV3vBNXaJTg3Km9oP5a9', assistant_id='asst_FPCQ6UhNeRHdKcptjZjW6t4V', cancelled_at=None, completed_at=1703566294, created_at=1703566280, expires_at=None, failed_at=None, file_ids=[], instructions='You are given a piece of json for an arbitrary course, you need to understand the course context, \\nand then convert \"prereq\", \"antireq\" and \"coreq\" fields (which are pure text) into json.\\n\\nFor \"antireq\", the logic is the opposite of \"prereq\" and \"coreq\", you want to express as satisfiying \"antireq\" logic, in other words, you do not use \"exclude_courses\".\\n\\nIf you are given multiple lines of input jsons, you need to output multiple lines of jsons, respectively.\\n\\nYour response must be in only one or more json, with no markdown and can be fully parsed with Python `json.loads` method.\\n\\nYou only need to include \"cid\", \"prereq\", \"antireq\" and \"coreq\" fields in your output json. Presrve \"null\" values.\\n\\nCourse title and course code might be used interchangeably in the given text. Course code is always in the format of \"ABCD\".\\n\\nYou can use logical expressions \"and\" and \"or\" to help. For example:\\n```json\\n{\\n    \"type\": \"and\",\\n    \"conditions\": [\\n        \"Law 400\",\\n        {\\n            \"type\": \"or\",\\n            \"conditions\": [\\n                \"Engineering 233\",\\n                \"Digital Engineering 233\",\\n                \"Digital Engineering 440\"\\n            ]\\n        }\\n    ]\\n}\\n``` \\n\\nOnly course can be expressed as pure string in conditions.\\n```json\\n{\\n    \"type\": \"and\",\\n    \"conditions\": [\\n        \"Law 400\",\\n        {\\n            \"type\": \"or\",\\n            \"conditions\": [\\n                \"Engineering 233\",\\n                \"Digital Engineering 233\",\\n                \"Digital Engineering 440\"\\n            ]\\n        }\\n    ]\\n}\\n```\\n\\n\\nWhen you encounter required units, simply include \"units_required\" field and \"courses\" array.\\n```json\\n{\\n    \"type\": \"units_required\",\\n    \"units_required\": 21,\\n    \"courses\": [\\n        \"Engineering 233\",\\n        \"Digital Engineering 233\",\\n        \"Digital Engineering 440\"\\n    ]\\n}\\n```\\n\\nWhen you encounter \"Consent of the Department\", simply do:\\n```json\\n{\\n    \"type\": \"consent\",\\n    \"consent\": \"Consent of the Department\"\\n}\\n```\\n\\nWhen you encounter \"excluding <course>\", simply do:\\n```json\\n{\\n    \"type\": \"exclude_courses\",\\n    \"courses\": [\\n        \"Chinese 317\",\\n        \"Chinese 355\"\\n    ]\\n}\\n```\\n\\nWhen you encounter expression about certain course code, or certain level of a course code, simply do:\\n```json\\n{\\n    \"type\": \"units_required\",\\n    \"units_required\": 3,\\n    \"courses\": [\\n        {\\n            \"type\": \"subject\",\\n            \"code\": \"PHIL\",\\n            \"level\": 400,\\n            \"include_higher\": true\\n        }\\n    ]\\n},\\n```\\n\\nWhen you encountered expression about student year stading, simply do:\\n```json\\n{\\n    \"type\": \"degree\",\\n    \"degree\": \"BHSc Honours\",\\n    \"year_standing\": 4\\n}\\n```\\n\\nWhen you encountered admission, simply do:\\n```json\\n{\\n    \"type\": \"admission\",\\n    \"conditions\": {\\n        \"type\": \"or\",\\n        \"conditions\": [\\n            {\\n                \"type\": \"degree\",\\n                \"degree\": \"BA in Philosophy\",\\n            },\\n            {\\n                \"type\": \"degree\",\\n                \"degree\": \"BA Honours in Philosophy\",\\n            }\\n        ]\\n    }\\n}\\n```\\n\\nWhen you encountered consent, simply do:\\n```json\\n{\\n    \"type\": \"consent\",\\n    \"consent\": \"Consent of the Department\"\\n}\\n```\\n\\n\\n\\n\\nExample json: \\n```json\\n{\\n    \"prereq\": {\\n        \"type\": \"and\",\\n        \"conditions\": [\\n            \"Law 400\",\\n            {\\n                \"type\": \"units_required\",\\n                \"units_required\": 21,\\n                \"conditions\": [\\n                    \"Engineering 233\",\\n                    \"Digital Engineering 233\",\\n                    \"Digital Engineering 440\",\\n                    {\\n                        \"type\": \"subject\",\\n                        \"subject\": \"Philosophy\",\\n                        \"level\": 400,\\n                        \"include_higher\": true\\n                    },\\n                    {\\n                        \"type\": \"subject\",\\n                        \"subject\": \"Urban Studies\"\\n                    }\\n                ]\\n            },\\n            {\\n                \"type\": \"or\",\\n                \"conditions\": [\\n                    \"Engineering 233\",\\n                    \"Digital Engineering 233\",\\n                    \"Digital Engineering 440\"\\n                ]\\n            },\\n            {\\n                \"type\": \"consent\",\\n                \"consent\": \"Consent of the Department\"\\n            },\\n            {\\n                \"type\": \"units_required\",\\n                \"units_required\": 3,\\n                \"conditions\": [\\n                    {\\n                        \"type\": \"subject\",\\n                        \"subject\": \"Philosophy\",\\n                        \"level\": 400,\\n                        \"include_higher\": true\\n                    }\\n                ]\\n            },\\n            {\\n                \"type\": \"exclude_courses\",\\n                \"conditions\": [\\n                    \"Chinese 317\",\\n                    \"Chinese 355\"\\n                ]\\n            }\\n        ]\\n    }\\n}\\n```\\n\\nYou may not use any types not specified in these examples. Output error when you exvountered anything you have not seen.\\n\\n', last_error=None, metadata={}, model='gpt-4', object='thread.run', required_action=None, started_at=1703566281, status='completed', thread_id='thread_nd818Oszpj7zxlhPG0adWAlQ', tools=[])"
      ]
     },
     "execution_count": 11,
     "metadata": {},
     "output_type": "execute_result"
    }
   ],
   "source": [
    "is_complete = False\n",
    "\n",
    "# Wait until complete\n",
    "while not is_complete:\n",
    "    run = client.beta.threads.runs.retrieve(\n",
    "        thread_id=thread.id,\n",
    "        run_id=run.id,\n",
    "    )\n",
    "\n",
    "    is_complete = run.status == \"completed\"\n",
    "\n",
    "    if not is_complete:\n",
    "        print(\"Waiting for completion...\")\n",
    "        sleep(10)\n",
    "\n",
    "run"
   ]
  },
  {
   "cell_type": "code",
   "execution_count": 12,
   "metadata": {},
   "outputs": [
    {
     "data": {
      "text/plain": [
       "SyncCursorPage[ThreadMessage](data=[ThreadMessage(id='msg_3ULGCtqvtxCrBBKcKpH3f1hg', assistant_id='asst_FPCQ6UhNeRHdKcptjZjW6t4V', content=[MessageContentText(text=Text(annotations=[], value='{\"cid\": 39871, \"prereq\": {\"type\": \"admission\", \"conditions\": \"Admission to the BCR-C distance program.\"}, \"antireq\": {\"type\": \"or\",\"conditions\":[\"CORE 589.06\"]}, \"coreq\": null}\\n{\"cid\": 42570, \"prereq\": {\"type\": \"and\", \"conditions\": [\"CORE 596\", {\"type\": \"admission\", \"conditions\": \"Admission to the BCR-C distance program.\"}]}, \"antireq\": null, \"coreq\": null}\\n{\"cid\": 32134, \"prereq\": {\"type\": \"or\", \"conditions\": [{\"type\": \"admission\", \"conditions\": \"Admission to the Community Health Sciences\"}, {\"type\": \"admission\", \"conditions\": \"Admission to the Public Health and Preventative Medicine program\"}, {\"type\": \"admission\", \"conditions\": \"Admission to the Mathematics and Statistics graduate program (Biostatistics specialization)\"}]}, \"antireq\": {\"type\": \"or\",\"conditions\":[\"MDSC 644\"]}, \"coreq\": null}\\n{\"cid\": 32137, \"prereq\": {\"type\": \"or\", \"conditions\": [ {\"type\": \"admission\", \"conditions\": \"Admission to the Master of Community Medicine specialization\"}, {\"type\": \"admission\", \"conditions\": \"Admission to the Public Health and Preventative Medicine program\"}]}, \"antireq\": {\"type\": \"or\",\"conditions\":[\"MDSC 649.01\"]}, \"coreq\": null}\\n{\"cid\": 32136, \"prereq\": {\"type\": \"admission\", \"conditions\": \"Admission to the Community Health Sciences graduate program\\'s Health Care Epidemiology specialization.\"}, \"antireq\": {\"type\": \"or\",\"conditions\":[\"MDSC 649.02\"]}, \"coreq\": null}'), type='text')], created_at=1703566282, file_ids=[], metadata={}, object='thread.message', role='assistant', run_id='run_7eU2uV3vBNXaJTg3Km9oP5a9', thread_id='thread_nd818Oszpj7zxlhPG0adWAlQ'), ThreadMessage(id='msg_nVSMHsscGIvsJw7n4IeXJ5uY', assistant_id=None, content=[MessageContentText(text=Text(annotations=[], value='{\\'cid\\': 39871, \\'code\\': \\'CORE\\', \\'number\\': 597, \\'topic\\': \\'Practicum I in Community Rehabilitation for Distance Learners\\', \\'description\\': \\'Students will complete a project in the area of program or service development (e.g. needs analysis, developing funding proposals, program evaluation). In the seminars, students will be supported in the completion of agency-based program development. Content on professional ethics will also be covered.\\', \\'sub_topics\\': None, \\'units\\': 3.0, \\'credits\\': None, \\'hours\\': [\\'2T/4-10\\'], \\'time_length\\': None, \\'prereq\\': \\'Admission to the BCR-C distance program.\\', \\'coreq\\': None, \\'antireq\\': \\'Credit for <course cid=\"39871\">CORE 597</course> and 589.06 (Block Practicum in Community Rehabilitation) will not be allowed.\\', \\'notes\\': \\'Course is normally taken in combination with <course cid=\"42570\">Community Rehabilitation 598</course> in the same academic year.\\', \\'aka\\': None, \\'repeat\\': False, \\'nogpa\\': True}\\n{\\'cid\\': 42570, \\'code\\': \\'CORE\\', \\'number\\': 598, \\'topic\\': \\'Practicum II in Community Rehabilitation for Distance Learners\\', \\'description\\': \\'Students will complete a project in the area of program or service development (e.g. needs analysis, developing funding proposals, program evaluation). In the seminars, students will be supported in the completion of agency-based program development. Content on professional ethics will also be covered.\\', \\'sub_topics\\': None, \\'units\\': 3.0, \\'credits\\': None, \\'hours\\': [\\'2T/4-10\\'], \\'time_length\\': None, \\'prereq\\': \\'CORE 596 or <course cid=\"39871\">597</course> and admission to the BCR-C distance program.\\', \\'coreq\\': None, \\'antireq\\': None, \\'notes\\': \\'Course is normally taken in combination with <course cid=\"39871\">Community Rehabilitation 597</course> in the same academic year.\\', \\'aka\\': None, \\'repeat\\': False, \\'nogpa\\': True}\\n{\\'cid\\': 32134, \\'code\\': \\'MDCH\\', \\'number\\': 600, \\'topic\\': \\'Introduction to Community Health Sciences\\', \\'description\\': \\'An introduction to the Department as well as a general orientation to the education and research programs in Community Health.\\', \\'sub_topics\\': None, \\'units\\': 3.0, \\'credits\\': None, \\'hours\\': [\\'3-0\\'], \\'time_length\\': None, \\'prereq\\': \\'Admission to the Community Health Sciences or Public Health and Preventative Medicine program or Mathematics and Statistics graduate program (Biostatistics specialization).\\', \\'coreq\\': None, \\'antireq\\': \\'Credit for <course cid=\"32134\">MDCH 600</course> and MDSC 644 will not be allowed.\\', \\'notes\\': None, \\'aka\\': None, \\'repeat\\': False, \\'nogpa\\': True}\\n{\\'cid\\': 32137, \\'code\\': \\'MDCH\\', \\'number\\': 602, \\'topic\\': \\'Practicum in Public Health and Preventative Medicine\\', \\'description\\': \\'Clinical or field-based practicum for the Master of Community Medicine Program of the Community Health Sciences graduate program.\\', \\'sub_topics\\': None, \\'units\\': 3.0, \\'credits\\': None, \\'hours\\': [\\'1-0\\'], \\'time_length\\': None, \\'prereq\\': \\'Admission to the Master of Community Medicine specialization or the Public Health and Preventative Medicine program.\\', \\'coreq\\': None, \\'antireq\\': \\'Credit for <course cid=\"32137\">MDCH 602</course> and MDSC 649.01 (Practicum in Community Medicine) will not be allowed.\\', \\'notes\\': None, \\'aka\\': None, \\'repeat\\': False, \\'nogpa\\': True}\\n{\\'cid\\': 32136, \\'code\\': \\'MDCH\\', \\'number\\': 603, \\'topic\\': \\'Practicum in Health Care Epidemiology\\', \\'description\\': \\'Clinical or field-based practicum for the Health Care Epidemiology specialization of the Community Health Sciences graduate program.\\', \\'sub_topics\\': None, \\'units\\': 3.0, \\'credits\\': None, \\'hours\\': [\\'1-0\\'], \\'time_length\\': None, \\'prereq\\': \"Admission to the Community Health Sciences graduate program\\'s Health Care Epidemiology specialization.\", \\'coreq\\': None, \\'antireq\\': \\'Credit for <course cid=\"32136\">MDCH 603</course> and MDSC 649.02 (Practicum Hospital Epidemiology) will not be allowed.\\', \\'notes\\': None, \\'aka\\': None, \\'repeat\\': False, \\'nogpa\\': True}'), type='text')], created_at=1703566280, file_ids=[], metadata={}, object='thread.message', role='user', run_id=None, thread_id='thread_nd818Oszpj7zxlhPG0adWAlQ')], object='list', first_id='msg_3ULGCtqvtxCrBBKcKpH3f1hg', last_id='msg_nVSMHsscGIvsJw7n4IeXJ5uY', has_more=False)"
      ]
     },
     "execution_count": 12,
     "metadata": {},
     "output_type": "execute_result"
    }
   ],
   "source": [
    "messages = client.beta.threads.messages.list(\n",
    "    thread_id=thread.id,\n",
    ")\n",
    "\n",
    "messages"
   ]
  },
  {
   "cell_type": "code",
   "execution_count": 13,
   "metadata": {},
   "outputs": [
    {
     "data": {
      "text/plain": [
       "[ThreadMessage(id='msg_3ULGCtqvtxCrBBKcKpH3f1hg', assistant_id='asst_FPCQ6UhNeRHdKcptjZjW6t4V', content=[MessageContentText(text=Text(annotations=[], value='{\"cid\": 39871, \"prereq\": {\"type\": \"admission\", \"conditions\": \"Admission to the BCR-C distance program.\"}, \"antireq\": {\"type\": \"or\",\"conditions\":[\"CORE 589.06\"]}, \"coreq\": null}\\n{\"cid\": 42570, \"prereq\": {\"type\": \"and\", \"conditions\": [\"CORE 596\", {\"type\": \"admission\", \"conditions\": \"Admission to the BCR-C distance program.\"}]}, \"antireq\": null, \"coreq\": null}\\n{\"cid\": 32134, \"prereq\": {\"type\": \"or\", \"conditions\": [{\"type\": \"admission\", \"conditions\": \"Admission to the Community Health Sciences\"}, {\"type\": \"admission\", \"conditions\": \"Admission to the Public Health and Preventative Medicine program\"}, {\"type\": \"admission\", \"conditions\": \"Admission to the Mathematics and Statistics graduate program (Biostatistics specialization)\"}]}, \"antireq\": {\"type\": \"or\",\"conditions\":[\"MDSC 644\"]}, \"coreq\": null}\\n{\"cid\": 32137, \"prereq\": {\"type\": \"or\", \"conditions\": [ {\"type\": \"admission\", \"conditions\": \"Admission to the Master of Community Medicine specialization\"}, {\"type\": \"admission\", \"conditions\": \"Admission to the Public Health and Preventative Medicine program\"}]}, \"antireq\": {\"type\": \"or\",\"conditions\":[\"MDSC 649.01\"]}, \"coreq\": null}\\n{\"cid\": 32136, \"prereq\": {\"type\": \"admission\", \"conditions\": \"Admission to the Community Health Sciences graduate program\\'s Health Care Epidemiology specialization.\"}, \"antireq\": {\"type\": \"or\",\"conditions\":[\"MDSC 649.02\"]}, \"coreq\": null}'), type='text')], created_at=1703566282, file_ids=[], metadata={}, object='thread.message', role='assistant', run_id='run_7eU2uV3vBNXaJTg3Km9oP5a9', thread_id='thread_nd818Oszpj7zxlhPG0adWAlQ'),\n",
       " ThreadMessage(id='msg_nVSMHsscGIvsJw7n4IeXJ5uY', assistant_id=None, content=[MessageContentText(text=Text(annotations=[], value='{\\'cid\\': 39871, \\'code\\': \\'CORE\\', \\'number\\': 597, \\'topic\\': \\'Practicum I in Community Rehabilitation for Distance Learners\\', \\'description\\': \\'Students will complete a project in the area of program or service development (e.g. needs analysis, developing funding proposals, program evaluation). In the seminars, students will be supported in the completion of agency-based program development. Content on professional ethics will also be covered.\\', \\'sub_topics\\': None, \\'units\\': 3.0, \\'credits\\': None, \\'hours\\': [\\'2T/4-10\\'], \\'time_length\\': None, \\'prereq\\': \\'Admission to the BCR-C distance program.\\', \\'coreq\\': None, \\'antireq\\': \\'Credit for <course cid=\"39871\">CORE 597</course> and 589.06 (Block Practicum in Community Rehabilitation) will not be allowed.\\', \\'notes\\': \\'Course is normally taken in combination with <course cid=\"42570\">Community Rehabilitation 598</course> in the same academic year.\\', \\'aka\\': None, \\'repeat\\': False, \\'nogpa\\': True}\\n{\\'cid\\': 42570, \\'code\\': \\'CORE\\', \\'number\\': 598, \\'topic\\': \\'Practicum II in Community Rehabilitation for Distance Learners\\', \\'description\\': \\'Students will complete a project in the area of program or service development (e.g. needs analysis, developing funding proposals, program evaluation). In the seminars, students will be supported in the completion of agency-based program development. Content on professional ethics will also be covered.\\', \\'sub_topics\\': None, \\'units\\': 3.0, \\'credits\\': None, \\'hours\\': [\\'2T/4-10\\'], \\'time_length\\': None, \\'prereq\\': \\'CORE 596 or <course cid=\"39871\">597</course> and admission to the BCR-C distance program.\\', \\'coreq\\': None, \\'antireq\\': None, \\'notes\\': \\'Course is normally taken in combination with <course cid=\"39871\">Community Rehabilitation 597</course> in the same academic year.\\', \\'aka\\': None, \\'repeat\\': False, \\'nogpa\\': True}\\n{\\'cid\\': 32134, \\'code\\': \\'MDCH\\', \\'number\\': 600, \\'topic\\': \\'Introduction to Community Health Sciences\\', \\'description\\': \\'An introduction to the Department as well as a general orientation to the education and research programs in Community Health.\\', \\'sub_topics\\': None, \\'units\\': 3.0, \\'credits\\': None, \\'hours\\': [\\'3-0\\'], \\'time_length\\': None, \\'prereq\\': \\'Admission to the Community Health Sciences or Public Health and Preventative Medicine program or Mathematics and Statistics graduate program (Biostatistics specialization).\\', \\'coreq\\': None, \\'antireq\\': \\'Credit for <course cid=\"32134\">MDCH 600</course> and MDSC 644 will not be allowed.\\', \\'notes\\': None, \\'aka\\': None, \\'repeat\\': False, \\'nogpa\\': True}\\n{\\'cid\\': 32137, \\'code\\': \\'MDCH\\', \\'number\\': 602, \\'topic\\': \\'Practicum in Public Health and Preventative Medicine\\', \\'description\\': \\'Clinical or field-based practicum for the Master of Community Medicine Program of the Community Health Sciences graduate program.\\', \\'sub_topics\\': None, \\'units\\': 3.0, \\'credits\\': None, \\'hours\\': [\\'1-0\\'], \\'time_length\\': None, \\'prereq\\': \\'Admission to the Master of Community Medicine specialization or the Public Health and Preventative Medicine program.\\', \\'coreq\\': None, \\'antireq\\': \\'Credit for <course cid=\"32137\">MDCH 602</course> and MDSC 649.01 (Practicum in Community Medicine) will not be allowed.\\', \\'notes\\': None, \\'aka\\': None, \\'repeat\\': False, \\'nogpa\\': True}\\n{\\'cid\\': 32136, \\'code\\': \\'MDCH\\', \\'number\\': 603, \\'topic\\': \\'Practicum in Health Care Epidemiology\\', \\'description\\': \\'Clinical or field-based practicum for the Health Care Epidemiology specialization of the Community Health Sciences graduate program.\\', \\'sub_topics\\': None, \\'units\\': 3.0, \\'credits\\': None, \\'hours\\': [\\'1-0\\'], \\'time_length\\': None, \\'prereq\\': \"Admission to the Community Health Sciences graduate program\\'s Health Care Epidemiology specialization.\", \\'coreq\\': None, \\'antireq\\': \\'Credit for <course cid=\"32136\">MDCH 603</course> and MDSC 649.02 (Practicum Hospital Epidemiology) will not be allowed.\\', \\'notes\\': None, \\'aka\\': None, \\'repeat\\': False, \\'nogpa\\': True}'), type='text')], created_at=1703566280, file_ids=[], metadata={}, object='thread.message', role='user', run_id=None, thread_id='thread_nd818Oszpj7zxlhPG0adWAlQ')]"
      ]
     },
     "execution_count": 13,
     "metadata": {},
     "output_type": "execute_result"
    }
   ],
   "source": [
    "messages.data"
   ]
  },
  {
   "cell_type": "code",
   "execution_count": 18,
   "metadata": {},
   "outputs": [
    {
     "name": "stdout",
     "output_type": "stream",
     "text": [
      "{\"cid\": 39871, \"prereq\": {\"type\": \"admission\", \"conditions\": \"Admission to the BCR-C distance program.\"}, \"antireq\": {\"type\": \"or\",\"conditions\":[\"CORE 589.06\"]}, \"coreq\": null}\n",
      "{\"cid\": 42570, \"prereq\": {\"type\": \"and\", \"conditions\": [\"CORE 596\", {\"type\": \"admission\", \"conditions\": \"Admission to the BCR-C distance program.\"}]}, \"antireq\": null, \"coreq\": null}\n",
      "{\"cid\": 32134, \"prereq\": {\"type\": \"or\", \"conditions\": [{\"type\": \"admission\", \"conditions\": \"Admission to the Community Health Sciences\"}, {\"type\": \"admission\", \"conditions\": \"Admission to the Public Health and Preventative Medicine program\"}, {\"type\": \"admission\", \"conditions\": \"Admission to the Mathematics and Statistics graduate program (Biostatistics specialization)\"}]}, \"antireq\": {\"type\": \"or\",\"conditions\":[\"MDSC 644\"]}, \"coreq\": null}\n",
      "{\"cid\": 32137, \"prereq\": {\"type\": \"or\", \"conditions\": [ {\"type\": \"admission\", \"conditions\": \"Admission to the Master of Community Medicine specialization\"}, {\"type\": \"admission\", \"conditions\": \"Admission to the Public Health and Preventative Medicine program\"}]}, \"antireq\": {\"type\": \"or\",\"conditions\":[\"MDSC 649.01\"]}, \"coreq\": null}\n",
      "{\"cid\": 32136, \"prereq\": {\"type\": \"admission\", \"conditions\": \"Admission to the Community Health Sciences graduate program's Health Care Epidemiology specialization.\"}, \"antireq\": {\"type\": \"or\",\"conditions\":[\"MDSC 649.02\"]}, \"coreq\": null}\n"
     ]
    }
   ],
   "source": [
    "response_text = messages.data[0].content[0].text.value\n",
    "print(response_text)"
   ]
  },
  {
   "cell_type": "code",
   "execution_count": 21,
   "metadata": {},
   "outputs": [
    {
     "data": {
      "text/plain": [
       "[{'cid': 39871,\n",
       "  'prereq': {'type': 'admission',\n",
       "   'conditions': 'Admission to the BCR-C distance program.'},\n",
       "  'antireq': {'type': 'or', 'conditions': ['CORE 589.06']},\n",
       "  'coreq': None},\n",
       " {'cid': 42570,\n",
       "  'prereq': {'type': 'and',\n",
       "   'conditions': ['CORE 596',\n",
       "    {'type': 'admission',\n",
       "     'conditions': 'Admission to the BCR-C distance program.'}]},\n",
       "  'antireq': None,\n",
       "  'coreq': None},\n",
       " {'cid': 32134,\n",
       "  'prereq': {'type': 'or',\n",
       "   'conditions': [{'type': 'admission',\n",
       "     'conditions': 'Admission to the Community Health Sciences'},\n",
       "    {'type': 'admission',\n",
       "     'conditions': 'Admission to the Public Health and Preventative Medicine program'},\n",
       "    {'type': 'admission',\n",
       "     'conditions': 'Admission to the Mathematics and Statistics graduate program (Biostatistics specialization)'}]},\n",
       "  'antireq': {'type': 'or', 'conditions': ['MDSC 644']},\n",
       "  'coreq': None},\n",
       " {'cid': 32137,\n",
       "  'prereq': {'type': 'or',\n",
       "   'conditions': [{'type': 'admission',\n",
       "     'conditions': 'Admission to the Master of Community Medicine specialization'},\n",
       "    {'type': 'admission',\n",
       "     'conditions': 'Admission to the Public Health and Preventative Medicine program'}]},\n",
       "  'antireq': {'type': 'or', 'conditions': ['MDSC 649.01']},\n",
       "  'coreq': None},\n",
       " {'cid': 32136,\n",
       "  'prereq': {'type': 'admission',\n",
       "   'conditions': \"Admission to the Community Health Sciences graduate program's Health Care Epidemiology specialization.\"},\n",
       "  'antireq': {'type': 'or', 'conditions': ['MDSC 649.02']},\n",
       "  'coreq': None}]"
      ]
     },
     "execution_count": 21,
     "metadata": {},
     "output_type": "execute_result"
    }
   ],
   "source": [
    "# Split into list of dicts\n",
    "response_dicts = response_text.split(\"\\n\")\n",
    "\n",
    "# Convert to list of dicts\n",
    "response_dicts = list(map(lambda x: json.loads(x), response_dicts))\n",
    "\n",
    "response_dicts"
   ]
  }
 ],
 "metadata": {
  "kernelspec": {
   "display_name": "Python 3",
   "language": "python",
   "name": "python3"
  },
  "language_info": {
   "codemirror_mode": {
    "name": "ipython",
    "version": 3
   },
   "file_extension": ".py",
   "mimetype": "text/x-python",
   "name": "python",
   "nbconvert_exporter": "python",
   "pygments_lexer": "ipython3",
   "version": "3.11.5"
  }
 },
 "nbformat": 4,
 "nbformat_minor": 2
}
