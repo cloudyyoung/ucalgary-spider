{
 "cells": [
  {
   "cell_type": "code",
   "execution_count": 217,
   "metadata": {},
   "outputs": [],
   "source": [
    "import json\n",
    "from json_logic import jsonLogic\n",
    "from json_logic.builtins import BUILTINS, op_var, op_log\n",
    "from functools import reduce"
   ]
  },
  {
   "cell_type": "code",
   "execution_count": 218,
   "metadata": {},
   "outputs": [],
   "source": [
    "def courses(data=None, *_ignored):\n",
    "    return list(filter(None, op_var(data, \"courses\")))\n",
    "\n",
    "\n",
    "def course(data=None, code=\"\", number=\"\", *_ignored):\n",
    "    for course in courses(data):\n",
    "        if course[\"code\"] == code and course[\"number\"] == number:\n",
    "            return course\n",
    "    return None\n",
    "\n",
    "\n",
    "def units(data=None, *courses):\n",
    "    flatten_list = lambda *lists: reduce(lambda a, b: a + b, lists, [])\n",
    "    courses = flatten_list(*courses)\n",
    "    \n",
    "    total = 0\n",
    "    for course in filter(None, courses):\n",
    "        total += course[\"units\"]\n",
    "    return total\n",
    "\n",
    "def consent(data=None, *consenter):\n",
    "    op_log(\"consent\", consenter)\n",
    "    return True\n",
    "\n",
    "ops = {\n",
    "    **BUILTINS,\n",
    "    \"courses\": courses,\n",
    "    \"course\": course,\n",
    "    \"units\": units,\n",
    "    \"consent\": consent,\n",
    "}"
   ]
  },
  {
   "cell_type": "code",
   "execution_count": 219,
   "metadata": {},
   "outputs": [],
   "source": [
    "data = {\n",
    "    \"courses\": [\n",
    "        {\"code\": \"CPSC\", \"number\": \"329\", \"gpv\": 2.7, \"semester\": \"W2023\", \"units\": 3.0, \"faculty\": \"SC\", \"departments\": [\"CPSC\"]},\n",
    "        {\"code\": \"CPSC\", \"number\": \"526\", \"gpv\": 2.7, \"semester\": \"F2023\", \"units\": 6.0, \"faculty\": \"SC\", \"departments\": [\"CPSC\"]},\n",
    "        {\"code\": \"CPSC\", \"number\": \"219\", \"gpv\": 2.7, \"semester\": \"F2023\", \"units\": 3.0, \"faculty\": \"SC\", \"departments\": [\"CPSC\"]},\n",
    "        {\"code\": \"MATH\", \"number\": \"313\", \"gpv\": 2.7, \"semester\": \"F2023\", \"units\": 3.0, \"faculty\": \"SC\", \"departments\": [\"CPSC\"]},\n",
    "        {\"code\": \"MATH\", \"number\": \"271\", \"gpv\": 2.7, \"semester\": \"F2023\", \"units\": 3.0, \"faculty\": \"SC\", \"departments\": [\"CPSC\"]},\n",
    "        {\"code\": \"STAT\", \"number\": \"205\", \"gpv\": 2.7, \"semester\": \"F2023\", \"units\": 3.0, \"faculty\": \"SC\", \"departments\": [\"CPSC\"]},\n",
    "        {\"code\": \"CPSC\", \"number\": \"351\", \"gpv\": 2.7, \"semester\": \"F2023\", \"units\": 3.0, \"faculty\": \"SC\", \"departments\": [\"CPSC\"]},\n",
    "    ],\n",
    "    \"programs\": [\"ANMEBAH\", \"SPAN-MIN\"],\n",
    "}"
   ]
  },
  {
   "cell_type": "code",
   "execution_count": 220,
   "metadata": {},
   "outputs": [],
   "source": [
    "rule = {\n",
    "    \"some\": [\n",
    "        {\"course\": [\"CPSC\", \"351\"]},\n",
    "        {\n",
    "            \"and\": [\n",
    "                {\n",
    "                    \">=\": [\n",
    "                        {\n",
    "                            \"units\": [\n",
    "                                {\"course\": [\"CPSC\", \"219\"]},\n",
    "                                {\"course\": [\"CPSC\", \"233\"]},\n",
    "                                {\"course\": [\"CPSC\", \"235\"]},\n",
    "                            ]\n",
    "                        },\n",
    "                        3,\n",
    "                    ]\n",
    "                },\n",
    "                {\n",
    "                    \">=\": [\n",
    "                        {\n",
    "                            \"units\": [\n",
    "                                {\"course\": [\"MATH\", \"271\"]},\n",
    "                                {\"course\": [\"MATH\", \"273\"]},\n",
    "                                {\"course\": [\"MATH\", \"315\"]},\n",
    "                            ]\n",
    "                        },\n",
    "                        3,\n",
    "                    ]\n",
    "                },\n",
    "                {\n",
    "                    \">=\": [\n",
    "                        {\n",
    "                            \"units\": [\n",
    "                                {\"course\": [\"STAT\", \"205\"]},\n",
    "                                {\"course\": [\"STAT\", \"213\"]},\n",
    "                                {\"course\": [\"STAT\", \"321\"]},\n",
    "                            ]\n",
    "                        },\n",
    "                        3,\n",
    "                    ]\n",
    "                },\n",
    "            ]\n",
    "        },\n",
    "    ]\n",
    "}"
   ]
  },
  {
   "cell_type": "code",
   "execution_count": 221,
   "metadata": {},
   "outputs": [
    {
     "data": {
      "text/plain": [
       "False"
      ]
     },
     "execution_count": 221,
     "metadata": {},
     "output_type": "execute_result"
    }
   ],
   "source": [
    "a = jsonLogic(rule, data, ops)\n",
    "bool(a)"
   ]
  },
  {
   "cell_type": "code",
   "execution_count": 222,
   "metadata": {},
   "outputs": [
    {
     "name": "stdout",
     "output_type": "stream",
     "text": [
      "\"apple\"\n"
     ]
    },
    {
     "data": {
      "text/plain": [
       "24.0"
      ]
     },
     "execution_count": 222,
     "metadata": {},
     "output_type": "execute_result"
    }
   ],
   "source": [
    "rule = {\"units\": {\"courses\": {\"log\": \"apple\"}}}\n",
    "\n",
    "jsonLogic(rule, data, operations=ops)"
   ]
  },
  {
   "cell_type": "markdown",
   "metadata": {},
   "source": [
    "```json\n",
    "{\n",
    "  \"cid\": \"160417\",\n",
    "  \"code\": \"CPSC\",\n",
    "  \"number\": \"219\",\n",
    "  \"faculty\": \"SC\",\n",
    "  \"departments\": [\n",
    "    \"CPSC\"\n",
    "  ],\n",
    "  \"units\": 3.0,\n",
    "  \"prereq\": \"CPSC 217 or DATA 211.\",\n",
    "  \"antireq\": \"Credit for CPSC 219 and any of 233, 235, ENEL 497 or ENCM 493 will not be allowed.\",\n",
    "  \"coreq\": null\n",
    "}\n",
    "```"
   ]
  },
  {
   "cell_type": "code",
   "execution_count": 223,
   "metadata": {},
   "outputs": [
    {
     "data": {
      "text/plain": [
       "'{\"cid\": \"160417\", \"prereq\": {\"or\": [{\"course\": [\"CPSC\", \"217\"]}, {\"course\": [\"DATA\", \"211\"]}]}, \"antireq\": {\"and\": [{\"course\": [\"CPSC\", \"219\"]}, {\"or\": [[{\"course\": [\"CPSC\", \"233\"]}, {\"course\": [\"CPSC\", \"235\"]}, {\"course\": [\"ENEL\", \"497\"]}, {\"course\": [\"ENCM\", \"493\"]}], true]}]}, \"coreq\": null}'"
      ]
     },
     "execution_count": 223,
     "metadata": {},
     "output_type": "execute_result"
    }
   ],
   "source": [
    "rule = {\n",
    "    \"cid\": \"160417\",\n",
    "    \"prereq\": {\n",
    "        \"or\": [\n",
    "            {\"course\": [\"CPSC\", \"217\"]}, \n",
    "            {\"course\": [\"DATA\", \"211\"]}\n",
    "        ]\n",
    "    },\n",
    "    \"antireq\": {\n",
    "        \"and\": [\n",
    "            {\"course\": [\"CPSC\", \"219\"]},\n",
    "            {\n",
    "                \"or\": [\n",
    "                    [\n",
    "                        {\"course\": [\"CPSC\", \"233\"]},\n",
    "                        {\"course\": [\"CPSC\", \"235\"]},\n",
    "                        {\"course\": [\"ENEL\", \"497\"]},\n",
    "                        {\"course\": [\"ENCM\", \"493\"]},\n",
    "                    ],\n",
    "                    True\n",
    "                ]\n",
    "            },\n",
    "        ]\n",
    "    },\n",
    "    \"coreq\": None,\n",
    "}\n",
    "\n",
    "json.dumps(rule)"
   ]
  },
  {
   "cell_type": "code",
   "execution_count": 224,
   "metadata": {},
   "outputs": [
    {
     "data": {
      "text/plain": [
       "(True, True)"
      ]
     },
     "execution_count": 224,
     "metadata": {},
     "output_type": "execute_result"
    }
   ],
   "source": [
    "data = {\n",
    "    \"courses\": [\n",
    "        {\"code\": \"CPSC\", \"number\": \"217\", \"gpv\": 2.7, \"semester\": \"F2023\", \"units\": 3.0, \"faculty\": \"SC\", \"departments\": [\"CPSC\"]},\n",
    "        {\"code\": \"CPSC\", \"number\": \"219\", \"gpv\": 2.7, \"semester\": \"F2023\", \"units\": 3.0, \"faculty\": \"SC\", \"departments\": [\"CPSC\"]},\n",
    "        {\"code\": \"CPSC\", \"number\": \"233\", \"gpv\": 2.7, \"semester\": \"F2023\", \"units\": 6.0, \"faculty\": \"SC\", \"departments\": [\"CPSC\"]},\n",
    "    ],\n",
    "    \"programs\": [\"ANMEBAH\", \"SPAN-MIN\"],\n",
    "}\n",
    "\n",
    "a = jsonLogic(rule[\"prereq\"], data, operations=ops)\n",
    "b = jsonLogic(rule[\"antireq\"], data, operations=ops)\n",
    "\n",
    "bool(a), bool(b)"
   ]
  },
  {
   "cell_type": "markdown",
   "metadata": {},
   "source": [
    "```json\n",
    "{\n",
    "  \"cid\": \"164005\",\n",
    "  \"code\": \"CPSC\",\n",
    "  \"number\": \"405\",\n",
    "  \"faculty\": \"SC\",\n",
    "  \"departments\": [\n",
    "    \"CPSC\"\n",
    "  ],\n",
    "  \"units\": 3.0,\n",
    "  \"prereq\": \"SENG 300 or 301.\",\n",
    "  \"antireq\": \"Credit for CPSC 405 and ENTI 415 will not be allowed.\",\n",
    "  \"coreq\": null\n",
    "}\n",
    "```"
   ]
  },
  {
   "cell_type": "code",
   "execution_count": 225,
   "metadata": {},
   "outputs": [
    {
     "data": {
      "text/plain": [
       "'{\"cid\": \"164005\", \"prereq\": {\"or\": [{\"course\": [\"SENG\", \"300\"]}, {\"course\": [\"SENG\", \"301\"]}]}, \"antireq\": {\"or\": [{\"course\": [\"CPSC\", \"405\"]}, {\"course\": [\"ENTI\", \"415\"]}]}, \"coreq\": null}'"
      ]
     },
     "execution_count": 225,
     "metadata": {},
     "output_type": "execute_result"
    }
   ],
   "source": [
    "rule = {\n",
    "    \"cid\": \"164005\",\n",
    "    \"prereq\": {\n",
    "        \"or\": [\n",
    "            {\"course\": [\"SENG\", \"300\"]}, \n",
    "            {\"course\": [\"SENG\", \"301\"]}\n",
    "        ]\n",
    "    },\n",
    "    \"antireq\": {\n",
    "        \"or\": [\n",
    "            {\"course\": [\"CPSC\", \"405\"]},\n",
    "            {\"course\": [\"ENTI\", \"415\"]},\n",
    "        ]\n",
    "    },\n",
    "    \"coreq\": None,\n",
    "}\n",
    "\n",
    "json.dumps(rule)"
   ]
  },
  {
   "cell_type": "code",
   "execution_count": 226,
   "metadata": {},
   "outputs": [
    {
     "data": {
      "text/plain": [
       "(True, False)"
      ]
     },
     "execution_count": 226,
     "metadata": {},
     "output_type": "execute_result"
    }
   ],
   "source": [
    "data = {\n",
    "    \"courses\": [\n",
    "        {\"code\": \"SENG\", \"number\": \"300\", \"gpv\": 2.7, \"semester\": \"F2023\", \"units\": 3.0, \"faculty\": \"SC\", \"departments\": [\"CPSC\"]},\n",
    "        # {\"code\": \"CPSC\", \"number\": \"405\", \"gpv\": 2.7, \"semester\": \"F2023\", \"units\": 3.0, \"faculty\": \"SC\", \"departments\": [\"CPSC\"]},\n",
    "    ],\n",
    "    \"programs\": [\"ANMEBAH\", \"SPAN-MIN\"],\n",
    "}\n",
    "\n",
    "a = jsonLogic(rule[\"prereq\"], data, operations=ops)\n",
    "b = jsonLogic(rule[\"antireq\"], data, operations=ops)\n",
    "\n",
    "\n",
    "bool(a), bool(b)"
   ]
  },
  {
   "cell_type": "code",
   "execution_count": 227,
   "metadata": {},
   "outputs": [
    {
     "data": {
      "text/plain": [
       "False"
      ]
     },
     "execution_count": 227,
     "metadata": {},
     "output_type": "execute_result"
    }
   ],
   "source": [
    "rule = {\"all\": [[False, False], {\"==\": [{\"var\": \"\"}, True]}]}\n",
    "rule = {\"and\": [None, 6, 9]}\n",
    "\n",
    "data = None\n",
    "\n",
    "a = jsonLogic(rule, data, operations=ops)\n",
    "bool(a)"
   ]
  }
 ],
 "metadata": {
  "kernelspec": {
   "display_name": "Python 3",
   "language": "python",
   "name": "python3"
  },
  "language_info": {
   "codemirror_mode": {
    "name": "ipython",
    "version": 3
   },
   "file_extension": ".py",
   "mimetype": "text/x-python",
   "name": "python",
   "nbconvert_exporter": "python",
   "pygments_lexer": "ipython3",
   "version": "3.11.5"
  }
 },
 "nbformat": 4,
 "nbformat_minor": 2
}
