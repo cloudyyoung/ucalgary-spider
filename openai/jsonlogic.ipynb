{
 "cells": [
  {
   "cell_type": "code",
   "execution_count": 244,
   "metadata": {},
   "outputs": [],
   "source": [
    "from json_logic import jsonLogic\n",
    "from json_logic.builtins import BUILTINS, op_var, op_log\n",
    "from functools import reduce"
   ]
  },
  {
   "cell_type": "code",
   "execution_count": 245,
   "metadata": {},
   "outputs": [],
   "source": [
    "data = {\n",
    "    \"courses\": [\n",
    "        {\"code\": \"CPSC\", \"number\": \"329\", \"gpv\": 2.7, \"semester\": \"W2023\", \"units\": 3.0, \"faculty\": \"SC - Faculty of Science\", \"departments\": [\"CPSC\"]},\n",
    "        {\"code\": \"CPSC\", \"number\": \"526\", \"gpv\": 2.7, \"semester\": \"F2023\", \"units\": 6.0, \"faculty\": \"SC - Faculty of Science\", \"departments\": [\"CPSC\"]},\n",
    "        {\"code\": \"MATH\", \"number\": \"313\", \"gpv\": 2.7, \"semester\": \"F2023\", \"units\": 3.0, \"faculty\": \"SC - Faculty of Science\", \"departments\": [\"CPSC\"]},\n",
    "        {\"code\": \"CPSC\", \"number\": \"219\", \"gpv\": 2.7, \"semester\": \"F2023\", \"units\": 3.0, \"faculty\": \"SC - Faculty of Science\", \"departments\": [\"CPSC\"]},\n",
    "        {\"code\": \"MATH\", \"number\": \"271\", \"gpv\": 2.7, \"semester\": \"F2023\", \"units\": 3.0, \"faculty\": \"SC - Faculty of Science\", \"departments\": [\"CPSC\"]},\n",
    "        {\"code\": \"STAT\", \"number\": \"205\", \"gpv\": 2.7, \"semester\": \"F2023\", \"units\": 3.0, \"faculty\": \"SC - Faculty of Science\", \"departments\": [\"CPSC\"]},\n",
    "        # {\"code\": \"CPSC\", \"number\": \"351\", \"gpv\": 2.7, \"semester\": \"F2023\", \"units\": 3.0, \"faculty\": \"SC - Faculty of Science\", \"departments\": [\"CPSC\"]},\n",
    "    ],\n",
    "    \"programs\": [\"ANMEBAH\", \"SPAN-MIN\"],\n",
    "}"
   ]
  },
  {
   "cell_type": "code",
   "execution_count": 246,
   "metadata": {},
   "outputs": [],
   "source": [
    "rule = {\n",
    "    \"some\": [\n",
    "        {\"course\": [\"CPSC\", \"351\"]},\n",
    "        {\n",
    "            \"all\": [\n",
    "                {\n",
    "                    \">=\": [\n",
    "                        {\n",
    "                            \"units\": [\n",
    "                                {\"course\": [\"CPSC\", \"219\"]},\n",
    "                                {\"course\": [\"CPSC\", \"233\"]},\n",
    "                                {\"course\": [\"CPSC\", \"235\"]},\n",
    "                            ]\n",
    "                        },\n",
    "                        3,\n",
    "                    ]\n",
    "                },\n",
    "                {\n",
    "                    \">=\": [\n",
    "                        {\n",
    "                            \"units\": [\n",
    "                                {\"course\": [\"MATH\", \"271\"]},\n",
    "                                {\"course\": [\"MATH\", \"273\"]},\n",
    "                                {\"course\": [\"MATH\", \"315\"]},\n",
    "                            ]\n",
    "                        },\n",
    "                        3,\n",
    "                    ]\n",
    "                },\n",
    "                {\n",
    "                    \">=\": [\n",
    "                        {\n",
    "                            \"units\": [\n",
    "                                {\"course\": [\"STAT\", \"205\"]},\n",
    "                                {\"course\": [\"STAT\", \"213\"]},\n",
    "                                {\"course\": [\"STAT\", \"321\"]},\n",
    "                            ]\n",
    "                        },\n",
    "                        3,\n",
    "                    ]\n",
    "                },\n",
    "            ]\n",
    "        },\n",
    "    ]\n",
    "}"
   ]
  },
  {
   "cell_type": "code",
   "execution_count": 247,
   "metadata": {},
   "outputs": [],
   "source": [
    "def courses(data=None, *_ignored):\n",
    "    return list(filter(None, op_var(data, \"courses\")))\n",
    "\n",
    "\n",
    "def course(data=None, code=\"\", number=\"\", *_ignored):\n",
    "    for course in courses(data):\n",
    "        if course[\"code\"] == code and course[\"number\"] == number:\n",
    "            return course\n",
    "    return None\n",
    "\n",
    "\n",
    "def units(data=None, *courses):\n",
    "    flatten_list = lambda *lists: reduce(lambda a, b: a + b, lists, [])\n",
    "    courses = flatten_list(*courses)\n",
    "    \n",
    "    total = 0\n",
    "    for course in filter(None, courses):\n",
    "        total += course[\"units\"]\n",
    "    return total\n",
    "\n",
    "def consent(data=None, *target):\n",
    "    op_log(\"consent\", target)\n",
    "    return True\n",
    "\n",
    "ops = {\n",
    "    **BUILTINS,\n",
    "    \"courses\": courses,\n",
    "    \"course\": course,\n",
    "    \"units\": units,\n",
    "    \"consent\": consent,\n",
    "}"
   ]
  },
  {
   "cell_type": "code",
   "execution_count": 248,
   "metadata": {},
   "outputs": [
    {
     "data": {
      "text/plain": [
       "False"
      ]
     },
     "execution_count": 248,
     "metadata": {},
     "output_type": "execute_result"
    }
   ],
   "source": [
    "a = jsonLogic(rule, data, ops)\n",
    "bool(a)"
   ]
  },
  {
   "cell_type": "code",
   "execution_count": 249,
   "metadata": {},
   "outputs": [
    {
     "name": "stdout",
     "output_type": "stream",
     "text": [
      "\"apple\"\n"
     ]
    },
    {
     "data": {
      "text/plain": [
       "21.0"
      ]
     },
     "execution_count": 249,
     "metadata": {},
     "output_type": "execute_result"
    }
   ],
   "source": [
    "rule = {\"units\": {\"courses\": {\"log\": \"apple\"}}}\n",
    "\n",
    "jsonLogic(rule, data, operations=ops)"
   ]
  }
 ],
 "metadata": {
  "kernelspec": {
   "display_name": "Python 3",
   "language": "python",
   "name": "python3"
  },
  "language_info": {
   "codemirror_mode": {
    "name": "ipython",
    "version": 3
   },
   "file_extension": ".py",
   "mimetype": "text/x-python",
   "name": "python",
   "nbconvert_exporter": "python",
   "pygments_lexer": "ipython3",
   "version": "3.11.5"
  }
 },
 "nbformat": 4,
 "nbformat_minor": 2
}
