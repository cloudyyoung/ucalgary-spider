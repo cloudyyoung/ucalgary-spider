{
 "cells": [
  {
   "cell_type": "code",
   "execution_count": 1152,
   "metadata": {},
   "outputs": [],
   "source": [
    "import json\n",
    "import jsonlines\n",
    "from json_logic import jsonLogic\n",
    "from json_logic.builtins import BUILTINS, op_var, op_log\n",
    "from functools import reduce"
   ]
  },
  {
   "cell_type": "code",
   "execution_count": 1153,
   "metadata": {},
   "outputs": [],
   "source": [
    "def courses(data=None, *_ignored):\n",
    "    return list(filter(None, op_var(data, \"courses\")))\n",
    "\n",
    "\n",
    "def course(data=None, code=\"\", number=\"\", *_ignored):\n",
    "    for course in courses(data):\n",
    "        if course[\"code\"] == code and str(course[\"number\"]).startswith(number):\n",
    "            return course\n",
    "    return None\n",
    "\n",
    "\n",
    "def units(data=None, *courses):\n",
    "    flatten_list = lambda *lists: reduce(lambda a, b: a + b, lists, [])\n",
    "    courses = flatten_list(*courses)\n",
    "    \n",
    "    total = 0\n",
    "    for course in filter(None, courses):\n",
    "        total += course[\"units\"]\n",
    "    return total\n",
    "\n",
    "def consent(data=None, *consenter):\n",
    "    op_log(data, f\"Consent of: {', '.join(consenter) if consenter else 'None'}\")\n",
    "    return True\n",
    "\n",
    "def program(data=None, *conditioned_programs):\n",
    "    programs = op_var(data, \"programs\")\n",
    "    for p in programs:\n",
    "        components = p[\"components\"]\n",
    "        if all(c in components for c in conditioned_programs):\n",
    "            return p\n",
    "    return None\n",
    "\n",
    "ops = {\n",
    "    **BUILTINS,\n",
    "    \"courses\": courses,\n",
    "    \"course\": course,\n",
    "    \"units\": units,\n",
    "    \"consent\": consent,\n",
    "    \"program\": program,\n",
    "}"
   ]
  },
  {
   "cell_type": "markdown",
   "metadata": {},
   "source": [
    "# Examples\n"
   ]
  },
  {
   "cell_type": "code",
   "execution_count": 1154,
   "metadata": {},
   "outputs": [],
   "source": [
    "NUMBER_OF_EXAMPLES = 10\n",
    "\n",
    "ors = [None] * NUMBER_OF_EXAMPLES\n",
    "rules = [None] * NUMBER_OF_EXAMPLES\n",
    "datas = [None] * NUMBER_OF_EXAMPLES"
   ]
  },
  {
   "cell_type": "markdown",
   "metadata": {},
   "source": [
    "## Example 1"
   ]
  },
  {
   "cell_type": "code",
   "execution_count": 1155,
   "metadata": {},
   "outputs": [],
   "source": [
    "ors[0] = {\n",
    "    \"cid\": \"161622\",\n",
    "    \"code\": \"CPSC\",\n",
    "    \"number\": \"530\",\n",
    "    \"faculty\": \"SC\",\n",
    "    \"departments\": [\"CPSC\"],\n",
    "    \"units\": 3.0,\n",
    "    \"prereq\": \"CPSC 351; or 3 units from CPSC 219, 233 or 235 and 3 units from MATH 271, 273, 315 and 3 units from STAT 205, 213, 321.\",\n",
    "    \"antireq\": \"Credit for CPSC 530 and 630 will not be allowed.\",\n",
    "    \"coreq\": None,\n",
    "}"
   ]
  },
  {
   "cell_type": "code",
   "execution_count": 1156,
   "metadata": {},
   "outputs": [],
   "source": [
    "rules[0] = {\n",
    "    \"cid\": \"161622\",\n",
    "    \"prereq\": {\n",
    "        \"or\": [\n",
    "            {\"course\": [\"CPSC\", \"351\"]},\n",
    "            {\n",
    "                \"and\": [\n",
    "                    {\n",
    "                        \">=\": [\n",
    "                            {\n",
    "                                \"units\": [\n",
    "                                    {\"course\": [\"CPSC\", \"219\"]},\n",
    "                                    {\"course\": [\"CPSC\", \"233\"]},\n",
    "                                    {\"course\": [\"CPSC\", \"235\"]},\n",
    "                                ]\n",
    "                            },\n",
    "                            3,\n",
    "                        ]\n",
    "                    },\n",
    "                    {\n",
    "                        \">=\": [\n",
    "                            {\n",
    "                                \"units\": [\n",
    "                                    {\"course\": [\"MATH\", \"271\"]},\n",
    "                                    {\"course\": [\"MATH\", \"273\"]},\n",
    "                                    {\"course\": [\"MATH\", \"315\"]},\n",
    "                                ]\n",
    "                            },\n",
    "                            3,\n",
    "                        ]\n",
    "                    },\n",
    "                    {\n",
    "                        \">=\": [\n",
    "                            {\n",
    "                                \"units\": [\n",
    "                                    {\"course\": [\"STAT\", \"205\"]},\n",
    "                                    {\"course\": [\"STAT\", \"213\"]},\n",
    "                                    {\"course\": [\"STAT\", \"321\"]},\n",
    "                                ]\n",
    "                            },\n",
    "                            3,\n",
    "                        ]\n",
    "                    },\n",
    "                ]\n",
    "            },\n",
    "        ]\n",
    "    },\n",
    "    \"antireq\": {\n",
    "        \"or\": [\n",
    "            {\"course\": [\"CPSC\", \"530\"]},\n",
    "            {\"course\": [\"CPSC\", \"630\"]},\n",
    "        ]\n",
    "    },\n",
    "    \"coreq\": None,\n",
    "}"
   ]
  },
  {
   "cell_type": "code",
   "execution_count": 1157,
   "metadata": {},
   "outputs": [
    {
     "data": {
      "text/plain": [
       "(True, False)"
      ]
     },
     "execution_count": 1157,
     "metadata": {},
     "output_type": "execute_result"
    }
   ],
   "source": [
    "datas[0] = {\n",
    "    \"courses\": [\n",
    "        {\"code\": \"CPSC\", \"number\": \"329\", \"gpv\": 2.7, \"semester\": \"W2023\", \"units\": 3.0, \"faculty\": \"SC\", \"departments\": [\"CPSC\"]},\n",
    "        {\"code\": \"CPSC\", \"number\": \"526\", \"gpv\": 2.7, \"semester\": \"F2023\", \"units\": 6.0, \"faculty\": \"SC\", \"departments\": [\"CPSC\"]},\n",
    "        {\"code\": \"CPSC\", \"number\": \"219\", \"gpv\": 2.7, \"semester\": \"F2023\", \"units\": 3.0, \"faculty\": \"SC\", \"departments\": [\"CPSC\"]},\n",
    "        {\"code\": \"MATH\", \"number\": \"313\", \"gpv\": 2.7, \"semester\": \"F2023\", \"units\": 3.0, \"faculty\": \"SC\", \"departments\": [\"CPSC\"]},\n",
    "        {\"code\": \"MATH\", \"number\": \"271\", \"gpv\": 2.7, \"semester\": \"F2023\", \"units\": 3.0, \"faculty\": \"SC\", \"departments\": [\"CPSC\"]},\n",
    "        {\"code\": \"STAT\", \"number\": \"205\", \"gpv\": 2.7, \"semester\": \"F2023\", \"units\": 3.0, \"faculty\": \"SC\", \"departments\": [\"CPSC\"]},\n",
    "        {\"code\": \"CPSC\", \"number\": \"351\", \"gpv\": 2.7, \"semester\": \"F2023\", \"units\": 3.0, \"faculty\": \"SC\", \"departments\": [\"CPSC\"]},\n",
    "    ],\n",
    "    \"programs\": []\n",
    "}\n",
    "\n",
    "a = jsonLogic(rules[0][\"prereq\"], datas[0], ops)\n",
    "b = jsonLogic(rules[0][\"antireq\"], datas[0], ops)\n",
    "\n",
    "bool(a), bool(b)"
   ]
  },
  {
   "cell_type": "markdown",
   "metadata": {},
   "source": [
    "## Example 2"
   ]
  },
  {
   "cell_type": "code",
   "execution_count": 1158,
   "metadata": {},
   "outputs": [],
   "source": [
    "ors[1] = {\n",
    "    \"cid\": \"160417\",\n",
    "    \"code\": \"CPSC\",\n",
    "    \"number\": \"219\",\n",
    "    \"faculty\": \"SC\",\n",
    "    \"departments\": [\"CPSC\"],\n",
    "    \"units\": 3.0,\n",
    "    \"prereq\": \"CPSC 217 or DATA 211.\",\n",
    "    \"antireq\": \"Credit for CPSC 219 and any of 233, 235, ENEL 497 or ENCM 493 will not be allowed.\",\n",
    "    \"coreq\": None,\n",
    "}"
   ]
  },
  {
   "cell_type": "code",
   "execution_count": 1159,
   "metadata": {},
   "outputs": [],
   "source": [
    "rules[1] = {\n",
    "    \"cid\": \"160417\",\n",
    "    \"prereq\": {\n",
    "        \"or\": [\n",
    "            {\"course\": [\"CPSC\", \"217\"]}, \n",
    "            {\"course\": [\"DATA\", \"211\"]}\n",
    "        ]\n",
    "    },\n",
    "    \"antireq\": {\n",
    "        \"or\": [\n",
    "            [\n",
    "                {\"course\": [\"CPSC\", \"219\"]},\n",
    "                {\"course\": [\"CPSC\", \"233\"]},\n",
    "                {\"course\": [\"CPSC\", \"235\"]},\n",
    "                {\"course\": [\"ENEL\", \"497\"]},\n",
    "                {\"course\": [\"ENCM\", \"493\"]},\n",
    "            ],\n",
    "        ]\n",
    "    },\n",
    "    \"coreq\": None,\n",
    "}"
   ]
  },
  {
   "cell_type": "code",
   "execution_count": 1160,
   "metadata": {},
   "outputs": [
    {
     "data": {
      "text/plain": [
       "(True, True)"
      ]
     },
     "execution_count": 1160,
     "metadata": {},
     "output_type": "execute_result"
    }
   ],
   "source": [
    "datas[1] = {\n",
    "    \"courses\": [\n",
    "        {\"code\": \"CPSC\", \"number\": \"217\", \"gpv\": 2.7, \"semester\": \"F2023\", \"units\": 3.0, \"faculty\": \"SC\", \"departments\": [\"CPSC\"]},\n",
    "        {\"code\": \"CPSC\", \"number\": \"219\", \"gpv\": 2.7, \"semester\": \"F2023\", \"units\": 3.0, \"faculty\": \"SC\", \"departments\": [\"CPSC\"]},\n",
    "        {\"code\": \"CPSC\", \"number\": \"233\", \"gpv\": 2.7, \"semester\": \"F2023\", \"units\": 6.0, \"faculty\": \"SC\", \"departments\": [\"CPSC\"]},\n",
    "    ],\n",
    "    \"programs\": []\n",
    "}\n",
    "\n",
    "a = jsonLogic(rules[1][\"prereq\"], datas[1], operations=ops)\n",
    "b = jsonLogic(rules[1][\"antireq\"], datas[1], operations=ops)\n",
    "\n",
    "bool(a), bool(b)"
   ]
  },
  {
   "cell_type": "markdown",
   "metadata": {},
   "source": [
    "## Example 3"
   ]
  },
  {
   "cell_type": "code",
   "execution_count": 1161,
   "metadata": {},
   "outputs": [],
   "source": [
    "ors[2] = {\n",
    "    \"cid\": \"164005\",\n",
    "    \"code\": \"CPSC\",\n",
    "    \"number\": \"405\",\n",
    "    \"faculty\": \"SC\",\n",
    "    \"departments\": [\"CPSC\"],\n",
    "    \"units\": 3.0,\n",
    "    \"prereq\": \"SENG 300 or 301.\",\n",
    "    \"antireq\": \"Credit for CPSC 405 and ENTI 415 will not be allowed.\",\n",
    "    \"coreq\": None,\n",
    "}"
   ]
  },
  {
   "cell_type": "code",
   "execution_count": 1162,
   "metadata": {},
   "outputs": [],
   "source": [
    "rules[2] = {\n",
    "    \"cid\": \"164005\",\n",
    "    \"prereq\": {\n",
    "        \"or\": [\n",
    "            {\"course\": [\"SENG\", \"300\"]}, \n",
    "            {\"course\": [\"SENG\", \"301\"]}\n",
    "        ]\n",
    "    },\n",
    "    \"antireq\": {\n",
    "        \"or\": [\n",
    "            {\"course\": [\"CPSC\", \"405\"]},\n",
    "            {\"course\": [\"ENTI\", \"415\"]},\n",
    "        ]\n",
    "    },\n",
    "    \"coreq\": None,\n",
    "}"
   ]
  },
  {
   "cell_type": "code",
   "execution_count": 1163,
   "metadata": {},
   "outputs": [
    {
     "data": {
      "text/plain": [
       "(True, True)"
      ]
     },
     "execution_count": 1163,
     "metadata": {},
     "output_type": "execute_result"
    }
   ],
   "source": [
    "datas[2] = {\n",
    "    \"courses\": [\n",
    "        {\"code\": \"SENG\", \"number\": \"300\", \"gpv\": 2.7, \"semester\": \"F2023\", \"units\": 3.0, \"faculty\": \"SC\", \"departments\": [\"CPSC\"]},\n",
    "        {\"code\": \"CPSC\", \"number\": \"405\", \"gpv\": 2.7, \"semester\": \"F2023\", \"units\": 3.0, \"faculty\": \"SC\", \"departments\": [\"CPSC\"]},\n",
    "    ],\n",
    "    \"programs\": []\n",
    "}\n",
    "\n",
    "a = jsonLogic(rules[2][\"prereq\"], datas[2], operations=ops)\n",
    "b = jsonLogic(rules[2][\"antireq\"], datas[2], operations=ops)\n",
    "\n",
    "\n",
    "bool(a), bool(b)"
   ]
  },
  {
   "cell_type": "markdown",
   "metadata": {},
   "source": [
    "## Example 4"
   ]
  },
  {
   "cell_type": "code",
   "execution_count": 1164,
   "metadata": {},
   "outputs": [],
   "source": [
    "ors[3] = {\n",
    "    \"cid\": \"107275\",\n",
    "    \"code\": \"CPSC\",\n",
    "    \"number\": \"550B\",\n",
    "    \"faculty\": \"SC\",\n",
    "    \"departments\": [\"CPSC\"],\n",
    "    \"units\": 6.0,\n",
    "    \"prereq\": \"CPSC 441, 457 and consent of the Department.\",\n",
    "    \"antireq\": None,\n",
    "    \"coreq\": None,\n",
    "}"
   ]
  },
  {
   "cell_type": "code",
   "execution_count": 1165,
   "metadata": {},
   "outputs": [],
   "source": [
    "rules[3] = {\n",
    "    \"cid\": \"107275\",\n",
    "    \"prereq\": {\n",
    "        \"and\": [\n",
    "            {\"course\": [\"CPSC\", \"441\"]},\n",
    "            {\"course\": [\"CPSC\", \"457\"]},\n",
    "            {\"consent\": [\"CPSC\"]},\n",
    "        ]\n",
    "    },\n",
    "    \"antireq\": None,\n",
    "    \"coreq\": None,\n",
    "}"
   ]
  },
  {
   "cell_type": "code",
   "execution_count": 1166,
   "metadata": {},
   "outputs": [
    {
     "name": "stdout",
     "output_type": "stream",
     "text": [
      "\"Consent of: CPSC\"\n"
     ]
    },
    {
     "data": {
      "text/plain": [
       "(True, False)"
      ]
     },
     "execution_count": 1166,
     "metadata": {},
     "output_type": "execute_result"
    }
   ],
   "source": [
    "datas[3] = {\n",
    "    \"courses\": [\n",
    "        {\"code\": \"CPSC\", \"number\": \"441\", \"gpv\": 2.7, \"semester\": \"F2023\", \"units\": 3.0, \"faculty\": \"SC\", \"departments\": [\"CPSC\"]},\n",
    "        {\"code\": \"CPSC\", \"number\": \"457\", \"gpv\": 2.7, \"semester\": \"F2023\", \"units\": 3.0, \"faculty\": \"SC\", \"departments\": [\"CPSC\"]},\n",
    "    ],\n",
    "    \"programs\": [],\n",
    "}\n",
    "\n",
    "a = jsonLogic(rules[3][\"prereq\"], datas[3], operations=ops)\n",
    "b = jsonLogic(rules[3][\"antireq\"], datas[3], operations=ops)\n",
    "\n",
    "\n",
    "bool(a), bool(b)"
   ]
  },
  {
   "cell_type": "markdown",
   "metadata": {},
   "source": [
    "## Example 5"
   ]
  },
  {
   "cell_type": "code",
   "execution_count": 1167,
   "metadata": {},
   "outputs": [],
   "source": [
    "ors[4] = {\n",
    "    \"cid\": \"161195\",\n",
    "    \"code\": \"CPSC\",\n",
    "    \"number\": \"449\",\n",
    "    \"faculty\": \"SC\",\n",
    "    \"departments\": [\"CPSC\"],\n",
    "    \"units\": 3.0,\n",
    "    \"prereq\": \"CPSC 319 or 331; CPSC 313 or 351; and PHIL 279 or 377.\",\n",
    "    \"antireq\": \"Credit for CPSC 449 and 349 will not be allowed.\",\n",
    "    \"coreq\": None,\n",
    "}"
   ]
  },
  {
   "cell_type": "code",
   "execution_count": 1168,
   "metadata": {},
   "outputs": [],
   "source": [
    "rules[4] = {\n",
    "    \"cid\": \"161195\",\n",
    "    \"prereq\": {\n",
    "        \"and\": [\n",
    "            {\n",
    "                \"or\": [\n",
    "                    {\"course\": [\"CPSC\", \"319\"]},\n",
    "                    {\"course\": [\"CPSC\", \"331\"]},\n",
    "                ]\n",
    "            },\n",
    "            {\n",
    "                \"or\": [\n",
    "                    {\"course\": [\"CPSC\", \"313\"]},\n",
    "                    {\"course\": [\"CPSC\", \"351\"]},\n",
    "                ]\n",
    "            },\n",
    "            {\n",
    "                \"or\": [\n",
    "                    {\"course\": [\"PHIL\", \"279\"]},\n",
    "                    {\"course\": [\"PHIL\", \"377\"]},\n",
    "                ]\n",
    "            },\n",
    "        ]\n",
    "    },\n",
    "    \"antireq\": {\n",
    "        \"or\": [\n",
    "            {\"course\": [\"CPSC\", \"449\"]},\n",
    "            {\"course\": [\"CPSC\", \"349\"]},\n",
    "        ]\n",
    "    },\n",
    "    \"coreq\": None,\n",
    "}"
   ]
  },
  {
   "cell_type": "code",
   "execution_count": 1169,
   "metadata": {},
   "outputs": [
    {
     "data": {
      "text/plain": [
       "(True, False)"
      ]
     },
     "execution_count": 1169,
     "metadata": {},
     "output_type": "execute_result"
    }
   ],
   "source": [
    "datas[4] = {\n",
    "    \"courses\": [\n",
    "        {\"code\": \"CPSC\", \"number\": \"319\", \"gpv\": 2.7, \"semester\": \"F2023\", \"units\": 3.0, \"faculty\": \"SC\", \"departments\": [\"CPSC\"]},\n",
    "        {\"code\": \"CPSC\", \"number\": \"351\", \"gpv\": 2.7, \"semester\": \"F2023\", \"units\": 3.0, \"faculty\": \"SC\", \"departments\": [\"CPSC\"]},\n",
    "        {\"code\": \"PHIL\", \"number\": \"279\", \"gpv\": 2.7, \"semester\": \"F2023\", \"units\": 3.0, \"faculty\": \"SC\", \"departments\": [\"CPSC\"]},\n",
    "    ],\n",
    "    \"programs\": []\n",
    "}\n",
    "\n",
    "a = jsonLogic(rules[4][\"prereq\"], datas[4], operations=ops)\n",
    "b = jsonLogic(rules[4][\"antireq\"], datas[4], operations=ops)\n",
    "\n",
    "\n",
    "bool(a), bool(b)"
   ]
  },
  {
   "cell_type": "markdown",
   "metadata": {},
   "source": [
    "## Example 6"
   ]
  },
  {
   "cell_type": "code",
   "execution_count": 1170,
   "metadata": {},
   "outputs": [],
   "source": [
    "ors[5] = {\n",
    "    \"cid\": \"107229\",\n",
    "    \"code\": \"CPSC\",\n",
    "    \"number\": \"453\",\n",
    "    \"faculty\": \"SC\",\n",
    "    \"departments\": [\"CPSC\"],\n",
    "    \"units\": 3.0,\n",
    "    \"prereq\": \"CPSC 319 or 331; and MATH 211 or 213; and 3 units from MATH 253, 267, 277, 283 or AMAT 219.\",\n",
    "    \"antireq\": None,\n",
    "    \"coreq\": None,\n",
    "}"
   ]
  },
  {
   "cell_type": "code",
   "execution_count": 1171,
   "metadata": {},
   "outputs": [],
   "source": [
    "rules[5] = {\n",
    "    \"cid\": \"107229\",\n",
    "    \"prereq\": {\n",
    "        \"and\": [\n",
    "            {\n",
    "                \"or\": [\n",
    "                    {\"course\": [\"CPSC\", \"319\"]},\n",
    "                    {\"course\": [\"CPSC\", \"331\"]},\n",
    "                ]\n",
    "            },\n",
    "            {\n",
    "                \"or\": [\n",
    "                    {\"course\": [\"MATH\", \"211\"]},\n",
    "                    {\"course\": [\"MATH\", \"213\"]},\n",
    "                ]\n",
    "            },\n",
    "            {\n",
    "                \">=\": [\n",
    "                    {\n",
    "                        \"units\": [\n",
    "                            {\"course\": [\"MATH\", \"253\"]},\n",
    "                            {\"course\": [\"MATH\", \"267\"]},\n",
    "                            {\"course\": [\"MATH\", \"277\"]},\n",
    "                            {\"course\": [\"MATH\", \"283\"]},\n",
    "                            {\"course\": [\"AMAT\", \"219\"]},\n",
    "                        ]\n",
    "                    },\n",
    "                    3,\n",
    "                ]\n",
    "            },\n",
    "        ]\n",
    "    },\n",
    "    \"antireq\": None,\n",
    "    \"coreq\": None,\n",
    "}"
   ]
  },
  {
   "cell_type": "markdown",
   "metadata": {},
   "source": [
    "## Example 7"
   ]
  },
  {
   "cell_type": "code",
   "execution_count": 1172,
   "metadata": {},
   "outputs": [],
   "source": [
    "ors[6] = {\n",
    "    \"cid\": \"162552\",\n",
    "    \"code\": \"CPSC\",\n",
    "    \"number\": \"502.07\",\n",
    "    \"faculty\": \"SC\",\n",
    "    \"departments\": [\"CPSC\"],\n",
    "    \"units\": 6.0,\n",
    "    \"prereq\": \"Consent of the Department.\",\n",
    "    \"antireq\": \"Credit for both CPSC 502 and any of 503, ENSF 599 or 591 will not be allowed.\",\n",
    "    \"coreq\": None,\n",
    "}"
   ]
  },
  {
   "cell_type": "code",
   "execution_count": 1173,
   "metadata": {},
   "outputs": [],
   "source": [
    "rules[6] = {\n",
    "    \"cid\": \"162552\",\n",
    "    \"prereq\": {\n",
    "        \"consent\": [\"CPSC\"]\n",
    "    },\n",
    "    \"antireq\": {\n",
    "        \"or\": [\n",
    "            {\"course\": [\"CPSC\", \"502\"]},\n",
    "            {\"course\": [\"CPSC\", \"503\"]},\n",
    "            {\"course\": [\"ENSF\", \"599\"]},\n",
    "            {\"course\": [\"ENEL\", \"591\"]},\n",
    "        ]\n",
    "    },\n",
    "    \"coreq\": None,\n",
    "}"
   ]
  },
  {
   "cell_type": "markdown",
   "metadata": {},
   "source": [
    "## Example 8"
   ]
  },
  {
   "cell_type": "code",
   "execution_count": 1174,
   "metadata": {},
   "outputs": [],
   "source": [
    "ors[7] = {\n",
    "    \"cid\": \"107154\",\n",
    "    \"code\": \"CPSC\",\n",
    "    \"number\": \"203\",\n",
    "    \"faculty\": \"SC\",\n",
    "    \"departments\": [\"CPSC\"],\n",
    "    \"units\": 3.0,\n",
    "    \"prereq\": None,\n",
    "    \"antireq\": \"Not open for registration to Computer Science majors.\",\n",
    "    \"coreq\": None,\n",
    "}"
   ]
  },
  {
   "cell_type": "code",
   "execution_count": 1175,
   "metadata": {},
   "outputs": [],
   "source": [
    "rules[7] = {\n",
    "    \"cid\": \"107154\",\n",
    "    \"prereq\": None,\n",
    "    \"antireq\": {\n",
    "        \"program\": [\"CPSC-MAJ\"]\n",
    "    },\n",
    "    \"coreq\": None,\n",
    "}"
   ]
  },
  {
   "cell_type": "code",
   "execution_count": 1176,
   "metadata": {},
   "outputs": [
    {
     "data": {
      "text/plain": [
       "(False, True)"
      ]
     },
     "execution_count": 1176,
     "metadata": {},
     "output_type": "execute_result"
    }
   ],
   "source": [
    "datas[7] = {\n",
    "    \"courses\": [\n",
    "        {\"code\": \"CPSC\", \"number\": \"231\", \"gpv\": 2.7, \"semester\": \"F2023\", \"units\": 3.0, \"faculty\": \"SC\", \"departments\": [\"CPSC\"]}\n",
    "    ],\n",
    "    \"programs\": [\n",
    "        {\"code\": \"CPSCBAH\", \"components\": [\"CPSC-MAJ\", \"CPSC-HON\", \"SENG-CON\"]},\n",
    "        {\"code\": \"DATA-MIN\", \"components\": [\"DATA-MIN\"]},\n",
    "    ],\n",
    "}\n",
    "\n",
    "a = jsonLogic(rules[7][\"prereq\"], datas[7], operations=ops)\n",
    "b = jsonLogic(rules[7][\"antireq\"], datas[7], operations=ops)\n",
    "\n",
    "bool(a), bool(b)"
   ]
  },
  {
   "cell_type": "markdown",
   "metadata": {},
   "source": [
    "## Example 9"
   ]
  },
  {
   "cell_type": "code",
   "execution_count": 1177,
   "metadata": {},
   "outputs": [],
   "source": [
    "ors[8] = {\n",
    "    \"cid\": \"107164\",\n",
    "    \"code\": \"CPSC\",\n",
    "    \"number\": \"231\",\n",
    "    \"faculty\": \"SC\",\n",
    "    \"departments\": [\"CPSC\"],\n",
    "    \"units\": 3.0,\n",
    "    \"prereq\": \"Admission to Computer Science, Bioinformatics, or Natural Science with a primary concentration in Computer Science.\",\n",
    "    \"antireq\": \"Credit for CPSC 231 and any of CPSC 215, 217, 235, DATA 211, ENCM 339, ENGG 233, or ENDG 233 will not be allowed.\",\n",
    "    \"coreq\": None,\n",
    "}"
   ]
  },
  {
   "cell_type": "code",
   "execution_count": 1178,
   "metadata": {},
   "outputs": [],
   "source": [
    "rules[8] = {\n",
    "    \"cid\": \"107164\",\n",
    "    \"prereq\": {\n",
    "        \"or\": [\n",
    "            {\"program\": [\"CPSC-MAJ\"]},\n",
    "            {\"program\": [\"CPSC-MIN\"]},\n",
    "            {\"program\": [\"BINF-MAJ\"]},\n",
    "            {\"program\": [\"BINF-MIN\"]},\n",
    "            {\"program\": [\"NTSC-MAJ\", \"CPSC-CON\"]},\n",
    "        ]\n",
    "    },\n",
    "    \"antireq\": {\n",
    "        \"or\": [\n",
    "            {\"course\": [\"CPSC\", \"231\"]},\n",
    "            {\"course\": [\"CPSC\", \"215\"]},\n",
    "            {\"course\": [\"CPSC\", \"217\"]},\n",
    "            {\"course\": [\"CPSC\", \"235\"]},\n",
    "            {\"course\": [\"DATA\", \"211\"]},\n",
    "            {\"course\": [\"ENCM\", \"339\"]},\n",
    "            {\"course\": [\"ENGG\", \"233\"]},\n",
    "            {\"course\": [\"ENDG\", \"233\"]},\n",
    "        ]\n",
    "    },\n",
    "    \"coreq\": None,\n",
    "}"
   ]
  },
  {
   "cell_type": "code",
   "execution_count": 1179,
   "metadata": {},
   "outputs": [
    {
     "data": {
      "text/plain": [
       "(True, True)"
      ]
     },
     "execution_count": 1179,
     "metadata": {},
     "output_type": "execute_result"
    }
   ],
   "source": [
    "datas[8] = {\n",
    "    \"courses\": [\n",
    "        {\"code\": \"CPSC\", \"number\": \"231\", \"gpv\": 2.7, \"semester\": \"F2023\", \"units\": 3.0, \"faculty\": \"SC\", \"departments\": [\"CPSC\"]}\n",
    "    ],\n",
    "    \"programs\": [\n",
    "        # {\"code\": \"CPSCBAH\", \"components\": [\"CPSC-MAJ\", \"CPSC-HON\", \"SENG-CON\"]},\n",
    "        {\"code\": \"NTSCBAH\", \"components\": [\"NTSC-MAJ\", \"NTSC-HON\", \"CPSC-CON\"]},\n",
    "        {\"code\": \"DATA-MIN\", \"components\": [\"DATA-MIN\"]},\n",
    "    ],\n",
    "}\n",
    "\n",
    "a = jsonLogic(rules[8][\"prereq\"], datas[8], operations=ops)\n",
    "b = jsonLogic(rules[8][\"antireq\"], datas[8], operations=ops)\n",
    "\n",
    "bool(a), bool(b)"
   ]
  },
  {
   "cell_type": "markdown",
   "metadata": {},
   "source": [
    "## Example 10"
   ]
  },
  {
   "cell_type": "code",
   "execution_count": 1180,
   "metadata": {},
   "outputs": [],
   "source": [
    "ors[9] = {\n",
    "    \"cid\": \"107273\",\n",
    "    \"code\": \"CPSC\",\n",
    "    \"number\": \"535\",\n",
    "    \"faculty\": \"SC\",\n",
    "    \"departments\": [\"CPSC\"],\n",
    "    \"units\": 3.0,\n",
    "    \"prereq\": \"One of MATH 311, 313, 353, AMAT 307, 311, PMAT 331.\",\n",
    "    \"antireq\": \"Credit for CPSC 535 and 635 will not be allowed.\",\n",
    "    \"coreq\": None,\n",
    "}"
   ]
  },
  {
   "cell_type": "code",
   "execution_count": 1181,
   "metadata": {},
   "outputs": [],
   "source": [
    "rules[9] = {\n",
    "    \"cid\": \"107273\",\n",
    "    \"prereq\": {\n",
    "        \"or\": [\n",
    "            {\"course\": [\"MATH\", \"311\"]},\n",
    "            {\"course\": [\"MATH\", \"313\"]},\n",
    "            {\"course\": [\"MATH\", \"353\"]},\n",
    "            {\"course\": [\"AMAT\", \"307\"]},\n",
    "            {\"course\": [\"AMAT\", \"311\"]},\n",
    "            {\"course\": [\"PMAT\", \"331\"]},\n",
    "        ]\n",
    "    },\n",
    "    \"antireq\": {\n",
    "        \"or\": [\n",
    "            {\"course\": [\"CPSC\", \"535\"]},\n",
    "            {\"course\": [\"CPSC\", \"635\"]},\n",
    "        ]\n",
    "    },\n",
    "    \"coreq\": None,\n",
    "}"
   ]
  },
  {
   "cell_type": "markdown",
   "metadata": {},
   "source": [
    "# Aggregation"
   ]
  },
  {
   "cell_type": "code",
   "execution_count": 1182,
   "metadata": {},
   "outputs": [],
   "source": [
    "SYSTEM_MESSAGE = {\n",
    "    \"role\": \"system\",\n",
    "    \"content\": \"Nero is a data conversion engine, takes a piece of course json data, and convert `prereq`, `antireq`, `coreq` into json logic rules.\",\n",
    "}"
   ]
  },
  {
   "cell_type": "code",
   "execution_count": 1183,
   "metadata": {},
   "outputs": [],
   "source": [
    "# Write to jsonlines file\n",
    "with jsonlines.open(\"train/train.jsonl\", \"w\") as writer:\n",
    "    for t in range(NUMBER_OF_EXAMPLES):\n",
    "        messages = [SYSTEM_MESSAGE]\n",
    "\n",
    "        messages.append({\n",
    "            \"role\": \"user\",\n",
    "            \"content\": json.dumps(ors[t]),\n",
    "        })\n",
    "\n",
    "        messages.append({\n",
    "            \"role\": \"assistant\",\n",
    "            \"content\": json.dumps(rules[t]),\n",
    "        })\n",
    "\n",
    "        l = {\n",
    "            \"messages\": messages,\n",
    "        }\n",
    "\n",
    "        writer.write(l)\n",
    "    "
   ]
  }
 ],
 "metadata": {
  "kernelspec": {
   "display_name": "Python 3",
   "language": "python",
   "name": "python3"
  },
  "language_info": {
   "codemirror_mode": {
    "name": "ipython",
    "version": 3
   },
   "file_extension": ".py",
   "mimetype": "text/x-python",
   "name": "python",
   "nbconvert_exporter": "python",
   "pygments_lexer": "ipython3",
   "version": "3.11.5"
  }
 },
 "nbformat": 4,
 "nbformat_minor": 2
}
