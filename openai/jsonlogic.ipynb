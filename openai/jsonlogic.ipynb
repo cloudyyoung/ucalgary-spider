{
 "cells": [
  {
   "cell_type": "code",
   "execution_count": 589,
   "metadata": {},
   "outputs": [],
   "source": [
    "import json\n",
    "import jsonlines\n",
    "from json_logic import jsonLogic\n",
    "from json_logic.builtins import BUILTINS, op_var, op_log\n",
    "from functools import reduce"
   ]
  },
  {
   "cell_type": "code",
   "execution_count": 590,
   "metadata": {},
   "outputs": [],
   "source": [
    "def courses(data=None, *_ignored):\n",
    "    return list(filter(None, op_var(data, \"courses\")))\n",
    "\n",
    "\n",
    "def course(data=None, code=\"\", number=\"\", *_ignored):\n",
    "    for course in courses(data):\n",
    "        if course[\"code\"] == code and course[\"number\"] == number:\n",
    "            return course\n",
    "    return None\n",
    "\n",
    "\n",
    "def units(data=None, *courses):\n",
    "    flatten_list = lambda *lists: reduce(lambda a, b: a + b, lists, [])\n",
    "    courses = flatten_list(*courses)\n",
    "    \n",
    "    total = 0\n",
    "    for course in filter(None, courses):\n",
    "        total += course[\"units\"]\n",
    "    return total\n",
    "\n",
    "def consent(data=None, *consenter):\n",
    "    op_log(data, f\"Consent of: {', '.join(consenter) if consenter else 'None'}\")\n",
    "    return True\n",
    "\n",
    "ops = {\n",
    "    **BUILTINS,\n",
    "    \"courses\": courses,\n",
    "    \"course\": course,\n",
    "    \"units\": units,\n",
    "    \"consent\": consent,\n",
    "}"
   ]
  },
  {
   "cell_type": "markdown",
   "metadata": {},
   "source": [
    "# Examples\n"
   ]
  },
  {
   "cell_type": "code",
   "execution_count": 591,
   "metadata": {},
   "outputs": [],
   "source": [
    "NUMBER_OF_EXAMPLES = 5\n",
    "\n",
    "ors = [None] * NUMBER_OF_EXAMPLES\n",
    "rules = [None] * NUMBER_OF_EXAMPLES\n",
    "datas = [None] * NUMBER_OF_EXAMPLES"
   ]
  },
  {
   "cell_type": "markdown",
   "metadata": {},
   "source": [
    "## Example 1"
   ]
  },
  {
   "cell_type": "code",
   "execution_count": 592,
   "metadata": {},
   "outputs": [],
   "source": [
    "ors[0] = {\n",
    "    \"cid\": \"161622\",\n",
    "    \"code\": \"CPSC\",\n",
    "    \"number\": \"530\",\n",
    "    \"faculty\": \"SC\",\n",
    "    \"departments\": [\"CPSC\"],\n",
    "    \"units\": 3.0,\n",
    "    \"prereq\": \"CPSC 351; or 3 units from CPSC 219, 233 or 235 and 3 units from MATH 271, 273, 315 and 3 units from STAT 205, 213, 321.\",\n",
    "    \"antireq\": \"Credit for CPSC 530 and 630 will not be allowed.\",\n",
    "    \"coreq\": None,\n",
    "}"
   ]
  },
  {
   "cell_type": "code",
   "execution_count": 593,
   "metadata": {},
   "outputs": [],
   "source": [
    "rules[0] = {\n",
    "    \"cid\": \"161622\",\n",
    "    \"prereq\": {\n",
    "        \"or\": [\n",
    "            {\"course\": [\"CPSC\", \"351\"]},\n",
    "            {\n",
    "                \"and\": [\n",
    "                    {\n",
    "                        \">=\": [\n",
    "                            {\n",
    "                                \"units\": [\n",
    "                                    {\"course\": [\"CPSC\", \"219\"]},\n",
    "                                    {\"course\": [\"CPSC\", \"233\"]},\n",
    "                                    {\"course\": [\"CPSC\", \"235\"]},\n",
    "                                ]\n",
    "                            },\n",
    "                            3,\n",
    "                        ]\n",
    "                    },\n",
    "                    {\n",
    "                        \">=\": [\n",
    "                            {\n",
    "                                \"units\": [\n",
    "                                    {\"course\": [\"MATH\", \"271\"]},\n",
    "                                    {\"course\": [\"MATH\", \"273\"]},\n",
    "                                    {\"course\": [\"MATH\", \"315\"]},\n",
    "                                ]\n",
    "                            },\n",
    "                            3,\n",
    "                        ]\n",
    "                    },\n",
    "                    {\n",
    "                        \">=\": [\n",
    "                            {\n",
    "                                \"units\": [\n",
    "                                    {\"course\": [\"STAT\", \"205\"]},\n",
    "                                    {\"course\": [\"STAT\", \"213\"]},\n",
    "                                    {\"course\": [\"STAT\", \"321\"]},\n",
    "                                ]\n",
    "                            },\n",
    "                            3,\n",
    "                        ]\n",
    "                    },\n",
    "                ]\n",
    "            },\n",
    "        ]\n",
    "    },\n",
    "    \"antireq\": {\n",
    "        \"or\": [\n",
    "            {\"course\": [\"CPSC\", \"530\"]},\n",
    "            {\"course\": [\"CPSC\", \"630\"]},\n",
    "        ]\n",
    "    },\n",
    "    \"coreq\": None,\n",
    "}"
   ]
  },
  {
   "cell_type": "code",
   "execution_count": 594,
   "metadata": {},
   "outputs": [
    {
     "data": {
      "text/plain": [
       "(True, False)"
      ]
     },
     "execution_count": 594,
     "metadata": {},
     "output_type": "execute_result"
    }
   ],
   "source": [
    "datas[0] = {\n",
    "    \"courses\": [\n",
    "        {\"code\": \"CPSC\", \"number\": \"329\", \"gpv\": 2.7, \"semester\": \"W2023\", \"units\": 3.0, \"faculty\": \"SC\", \"departments\": [\"CPSC\"]},\n",
    "        {\"code\": \"CPSC\", \"number\": \"526\", \"gpv\": 2.7, \"semester\": \"F2023\", \"units\": 6.0, \"faculty\": \"SC\", \"departments\": [\"CPSC\"]},\n",
    "        {\"code\": \"CPSC\", \"number\": \"219\", \"gpv\": 2.7, \"semester\": \"F2023\", \"units\": 3.0, \"faculty\": \"SC\", \"departments\": [\"CPSC\"]},\n",
    "        {\"code\": \"MATH\", \"number\": \"313\", \"gpv\": 2.7, \"semester\": \"F2023\", \"units\": 3.0, \"faculty\": \"SC\", \"departments\": [\"CPSC\"]},\n",
    "        {\"code\": \"MATH\", \"number\": \"271\", \"gpv\": 2.7, \"semester\": \"F2023\", \"units\": 3.0, \"faculty\": \"SC\", \"departments\": [\"CPSC\"]},\n",
    "        {\"code\": \"STAT\", \"number\": \"205\", \"gpv\": 2.7, \"semester\": \"F2023\", \"units\": 3.0, \"faculty\": \"SC\", \"departments\": [\"CPSC\"]},\n",
    "        {\"code\": \"CPSC\", \"number\": \"351\", \"gpv\": 2.7, \"semester\": \"F2023\", \"units\": 3.0, \"faculty\": \"SC\", \"departments\": [\"CPSC\"]},\n",
    "    ],\n",
    "    \"programs\": [\"ANMEBAH\", \"SPAN-MIN\"],\n",
    "}\n",
    "\n",
    "a = jsonLogic(rules[0][\"prereq\"], datas[0], ops)\n",
    "b = jsonLogic(rules[0][\"antireq\"], datas[0], ops)\n",
    "\n",
    "bool(a), bool(b)"
   ]
  },
  {
   "cell_type": "markdown",
   "metadata": {},
   "source": [
    "## Example 2"
   ]
  },
  {
   "cell_type": "code",
   "execution_count": 595,
   "metadata": {},
   "outputs": [],
   "source": [
    "ors[1] = {\n",
    "    \"cid\": \"160417\",\n",
    "    \"code\": \"CPSC\",\n",
    "    \"number\": \"219\",\n",
    "    \"faculty\": \"SC\",\n",
    "    \"departments\": [\"CPSC\"],\n",
    "    \"units\": 3.0,\n",
    "    \"prereq\": \"CPSC 217 or DATA 211.\",\n",
    "    \"antireq\": \"Credit for CPSC 219 and any of 233, 235, ENEL 497 or ENCM 493 will not be allowed.\",\n",
    "    \"coreq\": None,\n",
    "}"
   ]
  },
  {
   "cell_type": "code",
   "execution_count": 596,
   "metadata": {},
   "outputs": [],
   "source": [
    "rules[1] = {\n",
    "    \"cid\": \"160417\",\n",
    "    \"prereq\": {\n",
    "        \"or\": [\n",
    "            {\"course\": [\"CPSC\", \"217\"]}, \n",
    "            {\"course\": [\"DATA\", \"211\"]}\n",
    "        ]\n",
    "    },\n",
    "    \"antireq\": {\n",
    "        \"and\": [\n",
    "            {\"course\": [\"CPSC\", \"219\"]},\n",
    "            {\n",
    "                \"or\": [\n",
    "                    [\n",
    "                        {\"course\": [\"CPSC\", \"233\"]},\n",
    "                        {\"course\": [\"CPSC\", \"235\"]},\n",
    "                        {\"course\": [\"ENEL\", \"497\"]},\n",
    "                        {\"course\": [\"ENCM\", \"493\"]},\n",
    "                    ],\n",
    "                    True\n",
    "                ]\n",
    "            },\n",
    "        ]\n",
    "    },\n",
    "    \"coreq\": None,\n",
    "}"
   ]
  },
  {
   "cell_type": "code",
   "execution_count": 597,
   "metadata": {},
   "outputs": [
    {
     "data": {
      "text/plain": [
       "(True, True)"
      ]
     },
     "execution_count": 597,
     "metadata": {},
     "output_type": "execute_result"
    }
   ],
   "source": [
    "datas[1] = {\n",
    "    \"courses\": [\n",
    "        {\"code\": \"CPSC\", \"number\": \"217\", \"gpv\": 2.7, \"semester\": \"F2023\", \"units\": 3.0, \"faculty\": \"SC\", \"departments\": [\"CPSC\"]},\n",
    "        {\"code\": \"CPSC\", \"number\": \"219\", \"gpv\": 2.7, \"semester\": \"F2023\", \"units\": 3.0, \"faculty\": \"SC\", \"departments\": [\"CPSC\"]},\n",
    "        {\"code\": \"CPSC\", \"number\": \"233\", \"gpv\": 2.7, \"semester\": \"F2023\", \"units\": 6.0, \"faculty\": \"SC\", \"departments\": [\"CPSC\"]},\n",
    "    ],\n",
    "    \"programs\": [\"ANMEBAH\", \"SPAN-MIN\"],\n",
    "}\n",
    "\n",
    "a = jsonLogic(rules[1][\"prereq\"], datas[1], operations=ops)\n",
    "b = jsonLogic(rules[1][\"antireq\"], datas[1], operations=ops)\n",
    "\n",
    "bool(a), bool(b)"
   ]
  },
  {
   "cell_type": "markdown",
   "metadata": {},
   "source": [
    "## Example 3"
   ]
  },
  {
   "cell_type": "code",
   "execution_count": 598,
   "metadata": {},
   "outputs": [],
   "source": [
    "ors[2] = {\n",
    "    \"cid\": \"164005\",\n",
    "    \"code\": \"CPSC\",\n",
    "    \"number\": \"405\",\n",
    "    \"faculty\": \"SC\",\n",
    "    \"departments\": [\"CPSC\"],\n",
    "    \"units\": 3.0,\n",
    "    \"prereq\": \"SENG 300 or 301.\",\n",
    "    \"antireq\": \"Credit for CPSC 405 and ENTI 415 will not be allowed.\",\n",
    "    \"coreq\": None,\n",
    "}"
   ]
  },
  {
   "cell_type": "code",
   "execution_count": 599,
   "metadata": {},
   "outputs": [],
   "source": [
    "rules[2] = {\n",
    "    \"cid\": \"164005\",\n",
    "    \"prereq\": {\n",
    "        \"or\": [\n",
    "            {\"course\": [\"SENG\", \"300\"]}, \n",
    "            {\"course\": [\"SENG\", \"301\"]}\n",
    "        ]\n",
    "    },\n",
    "    \"antireq\": {\n",
    "        \"or\": [\n",
    "            {\"course\": [\"CPSC\", \"405\"]},\n",
    "            {\"course\": [\"ENTI\", \"415\"]},\n",
    "        ]\n",
    "    },\n",
    "    \"coreq\": None,\n",
    "}"
   ]
  },
  {
   "cell_type": "code",
   "execution_count": 600,
   "metadata": {},
   "outputs": [
    {
     "data": {
      "text/plain": [
       "(True, True)"
      ]
     },
     "execution_count": 600,
     "metadata": {},
     "output_type": "execute_result"
    }
   ],
   "source": [
    "datas[2] = {\n",
    "    \"courses\": [\n",
    "        {\"code\": \"SENG\", \"number\": \"300\", \"gpv\": 2.7, \"semester\": \"F2023\", \"units\": 3.0, \"faculty\": \"SC\", \"departments\": [\"CPSC\"]},\n",
    "        {\"code\": \"CPSC\", \"number\": \"405\", \"gpv\": 2.7, \"semester\": \"F2023\", \"units\": 3.0, \"faculty\": \"SC\", \"departments\": [\"CPSC\"]},\n",
    "    ],\n",
    "    \"programs\": [\"ANMEBAH\", \"SPAN-MIN\"],\n",
    "}\n",
    "\n",
    "a = jsonLogic(rules[2][\"prereq\"], datas[2], operations=ops)\n",
    "b = jsonLogic(rules[2][\"antireq\"], datas[2], operations=ops)\n",
    "\n",
    "\n",
    "bool(a), bool(b)"
   ]
  },
  {
   "cell_type": "markdown",
   "metadata": {},
   "source": [
    "## Example 4"
   ]
  },
  {
   "cell_type": "code",
   "execution_count": 601,
   "metadata": {},
   "outputs": [],
   "source": [
    "ors[3] = {\n",
    "    \"cid\": \"107275\",\n",
    "    \"code\": \"CPSC\",\n",
    "    \"number\": \"550B\",\n",
    "    \"faculty\": \"SC\",\n",
    "    \"departments\": [\"CPSC\"],\n",
    "    \"units\": 6.0,\n",
    "    \"prereq\": \"CPSC 441, 457 and consent of the Department.\",\n",
    "    \"antireq\": None,\n",
    "    \"coreq\": None,\n",
    "}"
   ]
  },
  {
   "cell_type": "code",
   "execution_count": 602,
   "metadata": {},
   "outputs": [],
   "source": [
    "rules[3] = {\n",
    "    \"cid\": \"107275\",\n",
    "    \"prereq\": {\n",
    "        \"and\": [\n",
    "            {\"course\": [\"CPSC\", \"441\"]},\n",
    "            {\"course\": [\"CPSC\", \"457\"]},\n",
    "            {\"consent\": [\"CPSC\"]},\n",
    "        ]\n",
    "    },\n",
    "    \"antireq\": None,\n",
    "    \"coreq\": None,\n",
    "}"
   ]
  },
  {
   "cell_type": "code",
   "execution_count": 603,
   "metadata": {},
   "outputs": [
    {
     "name": "stdout",
     "output_type": "stream",
     "text": [
      "\"Consent of: CPSC\"\n"
     ]
    },
    {
     "data": {
      "text/plain": [
       "(True, False)"
      ]
     },
     "execution_count": 603,
     "metadata": {},
     "output_type": "execute_result"
    }
   ],
   "source": [
    "datas[3] = {\n",
    "    \"courses\": [\n",
    "        {\"code\": \"CPSC\", \"number\": \"441\", \"gpv\": 2.7, \"semester\": \"F2023\", \"units\": 3.0, \"faculty\": \"SC\", \"departments\": [\"CPSC\"]},\n",
    "        {\"code\": \"CPSC\", \"number\": \"457\", \"gpv\": 2.7, \"semester\": \"F2023\", \"units\": 3.0, \"faculty\": \"SC\", \"departments\": [\"CPSC\"]},\n",
    "    ],\n",
    "    \"programs\": [\"ANMEBAH\", \"SPAN-MIN\"],\n",
    "}\n",
    "\n",
    "a = jsonLogic(rules[3][\"prereq\"], datas[3], operations=ops)\n",
    "b = jsonLogic(rules[3][\"antireq\"], datas[3], operations=ops)\n",
    "\n",
    "\n",
    "bool(a), bool(b)"
   ]
  },
  {
   "cell_type": "markdown",
   "metadata": {},
   "source": [
    "## Example 5"
   ]
  },
  {
   "cell_type": "code",
   "execution_count": 604,
   "metadata": {},
   "outputs": [],
   "source": [
    "ors[4] = {\n",
    "    \"cid\": \"161195\",\n",
    "    \"code\": \"CPSC\",\n",
    "    \"number\": \"449\",\n",
    "    \"faculty\": \"SC\",\n",
    "    \"departments\": [\"CPSC\"],\n",
    "    \"units\": 3.0,\n",
    "    \"prereq\": \"CPSC 319 or 331; CPSC 313 or 351; and PHIL 279 or 377.\",\n",
    "    \"antireq\": \"Credit for CPSC 449 and 349 will not be allowed.\",\n",
    "    \"coreq\": None,\n",
    "}"
   ]
  },
  {
   "cell_type": "code",
   "execution_count": 605,
   "metadata": {},
   "outputs": [],
   "source": [
    "rules[4] = {\n",
    "    \"cid\": \"161195\",\n",
    "    \"prereq\": {\n",
    "        \"and\": [\n",
    "            {\n",
    "                \"or\": [\n",
    "                    {\"course\": [\"CPSC\", \"319\"]},\n",
    "                    {\"course\": [\"CPSC\", \"331\"]},\n",
    "                ]\n",
    "            },\n",
    "            {\n",
    "                \"or\": [\n",
    "                    {\"course\": [\"CPSC\", \"313\"]},\n",
    "                    {\"course\": [\"CPSC\", \"351\"]},\n",
    "                ]\n",
    "            },\n",
    "            {\n",
    "                \"or\": [\n",
    "                    {\"course\": [\"PHIL\", \"279\"]},\n",
    "                    {\"course\": [\"PHIL\", \"377\"]},\n",
    "                ]\n",
    "            },\n",
    "        ]\n",
    "    },\n",
    "    \"antireq\": {\n",
    "        \"or\": [\n",
    "            {\"course\": [\"CPSC\", \"449\"]},\n",
    "            {\"course\": [\"CPSC\", \"349\"]},\n",
    "        ]\n",
    "    },\n",
    "    \"coreq\": None,\n",
    "}"
   ]
  },
  {
   "cell_type": "code",
   "execution_count": 606,
   "metadata": {},
   "outputs": [
    {
     "data": {
      "text/plain": [
       "(True, False)"
      ]
     },
     "execution_count": 606,
     "metadata": {},
     "output_type": "execute_result"
    }
   ],
   "source": [
    "datas[4] = {\n",
    "    \"courses\": [\n",
    "        {\"code\": \"CPSC\", \"number\": \"319\", \"gpv\": 2.7, \"semester\": \"F2023\", \"units\": 3.0, \"faculty\": \"SC\", \"departments\": [\"CPSC\"]},\n",
    "        {\"code\": \"CPSC\", \"number\": \"351\", \"gpv\": 2.7, \"semester\": \"F2023\", \"units\": 3.0, \"faculty\": \"SC\", \"departments\": [\"CPSC\"]},\n",
    "        {\"code\": \"PHIL\", \"number\": \"279\", \"gpv\": 2.7, \"semester\": \"F2023\", \"units\": 3.0, \"faculty\": \"SC\", \"departments\": [\"CPSC\"]},\n",
    "    ],\n",
    "    \"programs\": [\"ANMEBAH\", \"SPAN-MIN\"],\n",
    "}\n",
    "\n",
    "a = jsonLogic(rules[4][\"prereq\"], datas[4], operations=ops)\n",
    "b = jsonLogic(rules[4][\"antireq\"], datas[4], operations=ops)\n",
    "\n",
    "\n",
    "bool(a), bool(b)"
   ]
  },
  {
   "cell_type": "markdown",
   "metadata": {},
   "source": [
    "# Aggregation"
   ]
  },
  {
   "cell_type": "code",
   "execution_count": 607,
   "metadata": {},
   "outputs": [],
   "source": [
    "SYSTEM_MESSAGE = {\n",
    "    \"role\": \"system\",\n",
    "    \"content\": \"Nero is a data conversion engine, from textual to structural.\",\n",
    "}"
   ]
  },
  {
   "cell_type": "code",
   "execution_count": 608,
   "metadata": {},
   "outputs": [],
   "source": [
    "# Write to jsonlines file\n",
    "with jsonlines.open(\"train/train.jsonl\", \"w\") as writer:\n",
    "    for t in range(NUMBER_OF_EXAMPLES):\n",
    "        messages = [SYSTEM_MESSAGE]\n",
    "\n",
    "        messages.append({\n",
    "            \"role\": \"user\",\n",
    "            \"content\": json.dumps(ors[t]),\n",
    "        })\n",
    "\n",
    "        messages.append({\n",
    "            \"role\": \"assistant\",\n",
    "            \"content\": json.dumps(rules[t]),\n",
    "        })\n",
    "\n",
    "        l = {\n",
    "            \"messages\": messages,\n",
    "        }\n",
    "\n",
    "        writer.write(l)\n",
    "    "
   ]
  }
 ],
 "metadata": {
  "kernelspec": {
   "display_name": "Python 3",
   "language": "python",
   "name": "python3"
  },
  "language_info": {
   "codemirror_mode": {
    "name": "ipython",
    "version": 3
   },
   "file_extension": ".py",
   "mimetype": "text/x-python",
   "name": "python",
   "nbconvert_exporter": "python",
   "pygments_lexer": "ipython3",
   "version": "3.11.5"
  }
 },
 "nbformat": 4,
 "nbformat_minor": 2
}
