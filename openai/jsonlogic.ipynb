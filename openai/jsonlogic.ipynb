{
 "cells": [
  {
   "cell_type": "code",
   "execution_count": 71,
   "metadata": {},
   "outputs": [],
   "source": [
    "from json_logic import jsonLogic\n",
    "from json_logic.builtins import BUILTINS, op_var\n",
    "from functools import reduce"
   ]
  },
  {
   "cell_type": "code",
   "execution_count": 72,
   "metadata": {},
   "outputs": [],
   "source": [
    "data = {\n",
    "    \"courses\": [\n",
    "        {\"code\": \"CPSC\", \"number\": \"329\", \"gpv\": 2.7, \"semester\": \"W2023\", \"units\": 3},\n",
    "        {\"code\": \"CPSC\", \"number\": \"526\", \"gpv\": 2.7, \"semester\": \"F2023\", \"units\": 6},\n",
    "        {\"code\": \"MATH\", \"number\": \"313\", \"gpv\": 2.7, \"semester\": \"F2023\", \"units\": 3},\n",
    "        {\"code\": \"CPSC\", \"number\": \"219\", \"gpv\": 2.7, \"semester\": \"F2023\", \"units\": 3},\n",
    "        {\"code\": \"MATH\", \"number\": \"271\", \"gpv\": 2.7, \"semester\": \"F2023\", \"units\": 3},\n",
    "        # {\"code\": \"STAT\", \"number\": \"205\", \"gpv\": 2.7, \"semester\": \"F2023\", \"units\": 3},\n",
    "        # {\"code\": \"CPSC\", \"number\": \"351\", \"gpv\": 2.7, \"semester\": \"F2023\", \"units\": 3},\n",
    "    ],\n",
    "    \"programs\": [\"ANMEBAH\", \"SPAN-MIN\"],\n",
    "}"
   ]
  },
  {
   "cell_type": "code",
   "execution_count": 73,
   "metadata": {},
   "outputs": [],
   "source": [
    "rule = {\n",
    "    \"or\": [\n",
    "        {\"course\": [\"CPSC\", \"351\"]},\n",
    "        {\n",
    "            \"and\": [\n",
    "                {\n",
    "                    \">=\": [\n",
    "                        {\n",
    "                            \"units\": [\n",
    "                                {\"course\": [\"CPSC\", \"219\"]},\n",
    "                                {\"course\": [\"CPSC\", \"233\"]},\n",
    "                                {\"course\": [\"CPSC\", \"235\"]},\n",
    "                            ]\n",
    "                        },\n",
    "                        3,\n",
    "                    ]\n",
    "                },\n",
    "                {\n",
    "                    \">=\": [\n",
    "                        {\n",
    "                            \"units\": [\n",
    "                                {\"course\": [\"MATH\", \"271\"]},\n",
    "                                {\"course\": [\"MATH\", \"273\"]},\n",
    "                                {\"course\": [\"MATH\", \"315\"]},\n",
    "                            ]\n",
    "                        },\n",
    "                        3,\n",
    "                    ]\n",
    "                },\n",
    "                {\n",
    "                    \">=\": [\n",
    "                        {\n",
    "                            \"units\": [\n",
    "                                {\"course\": [\"STAT\", \"205\"]},\n",
    "                                {\"course\": [\"STAT\", \"213\"]},\n",
    "                                {\"course\": [\"STAT\", \"321\"]},\n",
    "                            ]\n",
    "                        },\n",
    "                        3,\n",
    "                    ]\n",
    "                },\n",
    "            ]\n",
    "        },\n",
    "    ]\n",
    "}"
   ]
  },
  {
   "cell_type": "code",
   "execution_count": 74,
   "metadata": {},
   "outputs": [],
   "source": [
    "def course(data=None, code=\"\", number=\"\"):\n",
    "    courses = op_var(data, \"courses\")\n",
    "    for course in courses:\n",
    "        if course[\"code\"] == code and course[\"number\"] == number:\n",
    "            return course\n",
    "    return None\n",
    "\n",
    "\n",
    "def units(data=None, *courses):\n",
    "    total = 0\n",
    "    for course in filter(None, courses):\n",
    "        total += course[\"units\"]\n",
    "    return total\n",
    "\n",
    "\n",
    "ops = {\n",
    "    **BUILTINS,\n",
    "    \"some\": lambda data=None, *args: any(args),\n",
    "    \"all\": lambda data=None, *args: all(args),\n",
    "    \"none\": lambda data=None, *args: not any(args),\n",
    "    \"map\": lambda data=None, *args: list(map(*args)),\n",
    "    \"reduce\": lambda data=None, *args: list(reduce(*args)),\n",
    "    \"filter\": lambda data=None, *args: list(filter(*args)),\n",
    "    \"course\": course,\n",
    "    \"units\": units,\n",
    "}"
   ]
  },
  {
   "cell_type": "code",
   "execution_count": 75,
   "metadata": {},
   "outputs": [
    {
     "data": {
      "text/plain": [
       "False"
      ]
     },
     "execution_count": 75,
     "metadata": {},
     "output_type": "execute_result"
    }
   ],
   "source": [
    "jsonLogic(rule, data, ops)"
   ]
  },
  {
   "cell_type": "code",
   "execution_count": 76,
   "metadata": {},
   "outputs": [
    {
     "data": {
      "text/plain": [
       "9"
      ]
     },
     "execution_count": 76,
     "metadata": {},
     "output_type": "execute_result"
    }
   ],
   "source": [
    "rule = {\n",
    "    \"units\": [\n",
    "        {\"course\": [\"CPSC\", \"219\"]},\n",
    "        {\"course\": [\"CPSC\", \"526\"]},\n",
    "    ]\n",
    "}\n",
    "\n",
    "jsonLogic(rule, data, operations=ops)"
   ]
  }
 ],
 "metadata": {
  "kernelspec": {
   "display_name": "Python 3",
   "language": "python",
   "name": "python3"
  },
  "language_info": {
   "codemirror_mode": {
    "name": "ipython",
    "version": 3
   },
   "file_extension": ".py",
   "mimetype": "text/x-python",
   "name": "python",
   "nbconvert_exporter": "python",
   "pygments_lexer": "ipython3",
   "version": "3.11.5"
  }
 },
 "nbformat": 4,
 "nbformat_minor": 2
}
