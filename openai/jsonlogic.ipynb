{
 "cells": [
  {
   "cell_type": "code",
   "execution_count": 140,
   "metadata": {},
   "outputs": [],
   "source": [
    "from json_logic import jsonLogic\n",
    "from json_logic.builtins import BUILTINS, op_var\n",
    "from functools import reduce"
   ]
  },
  {
   "cell_type": "code",
   "execution_count": 141,
   "metadata": {},
   "outputs": [],
   "source": [
    "data = {\n",
    "    \"courses\": [\n",
    "        {\"code\": \"CPSC\", \"number\": \"329\", \"gpv\": 2.7, \"semester\": \"W2023\", \"units\": 3.0, \"faculty\": \"SC - Faculty of Science\", \"departments\": [\"CPSC\"]},\n",
    "        {\"code\": \"CPSC\", \"number\": \"526\", \"gpv\": 2.7, \"semester\": \"F2023\", \"units\": 6.0, \"faculty\": \"SC - Faculty of Science\", \"departments\": [\"CPSC\"]},\n",
    "        {\"code\": \"MATH\", \"number\": \"313\", \"gpv\": 2.7, \"semester\": \"F2023\", \"units\": 3.0, \"faculty\": \"SC - Faculty of Science\", \"departments\": [\"CPSC\"]},\n",
    "        {\"code\": \"CPSC\", \"number\": \"219\", \"gpv\": 2.7, \"semester\": \"F2023\", \"units\": 3.0, \"faculty\": \"SC - Faculty of Science\", \"departments\": [\"CPSC\"]},\n",
    "        {\"code\": \"MATH\", \"number\": \"271\", \"gpv\": 2.7, \"semester\": \"F2023\", \"units\": 3.0, \"faculty\": \"SC - Faculty of Science\", \"departments\": [\"CPSC\"]},\n",
    "        {\"code\": \"STAT\", \"number\": \"205\", \"gpv\": 2.7, \"semester\": \"F2023\", \"units\": 3.0, \"faculty\": \"SC - Faculty of Science\", \"departments\": [\"CPSC\"]},\n",
    "        # {\"code\": \"CPSC\", \"number\": \"351\", \"gpv\": 2.7, \"semester\": \"F2023\", \"units\": 3.0, \"faculty\": \"SC - Faculty of Science\", \"departments\": [\"CPSC\"]},\n",
    "    ],\n",
    "    \"programs\": [\"ANMEBAH\", \"SPAN-MIN\"],\n",
    "}"
   ]
  },
  {
   "cell_type": "code",
   "execution_count": 142,
   "metadata": {},
   "outputs": [],
   "source": [
    "rule = {\n",
    "    \"some\": [\n",
    "        {\"course\": [\"CPSC\", \"351\"]},\n",
    "        {\n",
    "            \"all\": [\n",
    "                {\n",
    "                    \">=\": [\n",
    "                        {\n",
    "                            \"units\": [\n",
    "                                {\"course\": [\"CPSC\", \"219\"]},\n",
    "                                {\"course\": [\"CPSC\", \"233\"]},\n",
    "                                {\"course\": [\"CPSC\", \"235\"]},\n",
    "                            ]\n",
    "                        },\n",
    "                        3,\n",
    "                    ]\n",
    "                },\n",
    "                {\n",
    "                    \">=\": [\n",
    "                        {\n",
    "                            \"units\": [\n",
    "                                {\"course\": [\"MATH\", \"271\"]},\n",
    "                                {\"course\": [\"MATH\", \"273\"]},\n",
    "                                {\"course\": [\"MATH\", \"315\"]},\n",
    "                            ]\n",
    "                        },\n",
    "                        3,\n",
    "                    ]\n",
    "                },\n",
    "                {\n",
    "                    \">=\": [\n",
    "                        {\n",
    "                            \"units\": [\n",
    "                                {\"course\": [\"STAT\", \"205\"]},\n",
    "                                {\"course\": [\"STAT\", \"213\"]},\n",
    "                                {\"course\": [\"STAT\", \"321\"]},\n",
    "                            ]\n",
    "                        },\n",
    "                        3,\n",
    "                    ]\n",
    "                },\n",
    "            ]\n",
    "        },\n",
    "    ]\n",
    "}"
   ]
  },
  {
   "cell_type": "code",
   "execution_count": 143,
   "metadata": {},
   "outputs": [],
   "source": [
    "def courses(data=None, *_ignored):\n",
    "    return list(filter(None, data[\"courses\"]))\n",
    "\n",
    "\n",
    "def course(data=None, code=\"\", number=\"\", *_ignored):\n",
    "    for course in courses(data):\n",
    "        if course[\"code\"] == code and course[\"number\"] == number:\n",
    "            return course\n",
    "    return None\n",
    "\n",
    "\n",
    "def units(data=None, *courses):\n",
    "    total = 0\n",
    "    for course in filter(None, courses):\n",
    "        total += course[\"units\"]\n",
    "    return total\n",
    "\n",
    "\n",
    "ops = {\n",
    "    **BUILTINS,\n",
    "    \"courses\": courses,\n",
    "    \"course\": course,\n",
    "    \"units\": units,\n",
    "}"
   ]
  },
  {
   "cell_type": "code",
   "execution_count": 144,
   "metadata": {},
   "outputs": [
    {
     "data": {
      "text/plain": [
       "False"
      ]
     },
     "execution_count": 144,
     "metadata": {},
     "output_type": "execute_result"
    }
   ],
   "source": [
    "jsonLogic(rule, data, ops)"
   ]
  },
  {
   "cell_type": "code",
   "execution_count": 145,
   "metadata": {},
   "outputs": [
    {
     "data": {
      "text/plain": [
       "9.0"
      ]
     },
     "execution_count": 145,
     "metadata": {},
     "output_type": "execute_result"
    }
   ],
   "source": [
    "rule = {\n",
    "    \"units\": [\n",
    "        {\"course\": [\"CPSC\", \"219\"]},\n",
    "        {\"course\": [\"CPSC\", \"526\"]},\n",
    "    ]\n",
    "}\n",
    "\n",
    "jsonLogic(rule, data, operations=ops)"
   ]
  }
 ],
 "metadata": {
  "kernelspec": {
   "display_name": "Python 3",
   "language": "python",
   "name": "python3"
  },
  "language_info": {
   "codemirror_mode": {
    "name": "ipython",
    "version": 3
   },
   "file_extension": ".py",
   "mimetype": "text/x-python",
   "name": "python",
   "nbconvert_exporter": "python",
   "pygments_lexer": "ipython3",
   "version": "3.11.5"
  }
 },
 "nbformat": 4,
 "nbformat_minor": 2
}
