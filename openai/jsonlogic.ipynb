{
 "cells": [
  {
   "cell_type": "code",
   "execution_count": 102,
   "metadata": {},
   "outputs": [],
   "source": [
    "from json_logic import jsonLogic\n",
    "from json_logic.builtins import BUILTINS"
   ]
  },
  {
   "cell_type": "code",
   "execution_count": 103,
   "metadata": {},
   "outputs": [
    {
     "data": {
      "text/plain": [
       "True"
      ]
     },
     "execution_count": 103,
     "metadata": {},
     "output_type": "execute_result"
    }
   ],
   "source": [
    "\n",
    "jsonLogic({\"==\": [1, 1]})\n",
    "jsonLogic({\"==\": [{\"var\": \"a\"}, {\"var\": \"b\"}]}, {\"a\": 1, \"b\": 1})\n",
    "jsonLogic(\n",
    "    {\"in\": [\n",
    "        {\"code\": \"CPSC\", \"number\": \"526\"}, \n",
    "        {\"var\": \"courses\"}\n",
    "    ]},\n",
    "    {\"courses\": [{\"code\": \"CPSC\", \"number\": \"526\"}]},\n",
    ")"
   ]
  },
  {
   "cell_type": "code",
   "execution_count": 104,
   "metadata": {},
   "outputs": [],
   "source": [
    "def _check_course_number(number_rule: str, number_data: str):\n",
    "    # For rules like \"400+\"\n",
    "    if number_rule.endswith(\"+\"):\n",
    "        number_rule_actual = int(number_rule[:-1])\n",
    "        number_data_actual = int(number_data)\n",
    "        return number_data_actual >= number_rule_actual\n",
    "    \n",
    "    number_rule_actual = int(number_rule)\n",
    "    number_data_actual = int(number_data)\n",
    "    return number_data_actual == number_rule_actual\n",
    "\n",
    "def _find_taken_courses(taken_courses: list, code: str, number: str):\n",
    "    for course in taken_courses:\n",
    "        if course[\"code\"] == code and _check_course_number(number, course[\"number\"]):\n",
    "            return course\n",
    "    return None\n",
    "\n",
    "def taken(data: dict, code, number):\n",
    "    courses = data.get(\"courses\", [])\n",
    "\n",
    "    if _find_taken_courses(courses, code, number):\n",
    "        return True\n",
    "    return False\n",
    "\n",
    "def units(data: dict, config: dict):\n",
    "    # Rule\n",
    "    required_units = config.get(\"required\", 0)\n",
    "    from_courses = config.get(\"from\", [])\n",
    "\n",
    "    # Data\n",
    "    courses = data.get(\"courses\", [])\n",
    "\n",
    "    taken_units = 0\n",
    "    for code, number in from_courses:\n",
    "        course = _find_taken_courses(courses, code, number)\n",
    "        if course:\n",
    "            taken_units += course[\"units\"]\n",
    "\n",
    "    return taken_units >= required_units\n",
    "\n",
    "def consent(data: dict, type: str, code: str):\n",
    "    return True\n",
    "\n",
    "ops = {**BUILTINS, \"taken\": taken, \"units\": units, \"consent\": consent}"
   ]
  },
  {
   "cell_type": "code",
   "execution_count": 105,
   "metadata": {},
   "outputs": [
    {
     "data": {
      "text/plain": [
       "True"
      ]
     },
     "execution_count": 105,
     "metadata": {},
     "output_type": "execute_result"
    }
   ],
   "source": [
    "# CPSC 219: CPSC 217 or DATA 211.\n",
    "rule = {\n",
    "    \"or\": [\n",
    "        {\"taken\": [\"CPSC\", \"217\"]},\n",
    "        {\"taken\": [\"DATA\", \"211\"]}\n",
    "    ]\n",
    "}\n",
    "data = {\"courses\": [{\"code\": \"CPSC\", \"number\": \"217\", \"units\": 3}]}\n",
    "jsonLogic(rule, data, ops)"
   ]
  },
  {
   "cell_type": "code",
   "execution_count": 106,
   "metadata": {},
   "outputs": [
    {
     "data": {
      "text/plain": [
       "True"
      ]
     },
     "execution_count": 106,
     "metadata": {},
     "output_type": "execute_result"
    }
   ],
   "source": [
    "# CPSC 313: MATH 271 or 273; and PHIL 279 or 377; and 3 units from CPSC 219, 233 or 235.\n",
    "rule = {\n",
    "    \"and\": [\n",
    "        {\"or\": [{\"taken\": [\"MATH\", \"271\"]}, {\"taken\": [\"MATH\", \"273\"]}]},\n",
    "        {\"or\": [{\"taken\": [\"PHIL\", \"279\"]}, {\"taken\": [\"PHIL\", \"377\"]}]},\n",
    "        {\n",
    "            \"units\": {\n",
    "                \"required\": 3,\n",
    "                \"from\": [\n",
    "                    [\"CPSC\", \"219\"],\n",
    "                    [\"CPSC\", \"233\"],\n",
    "                    [\"CPSC\", \"235\"]\n",
    "                ]\n",
    "            }\n",
    "        },\n",
    "    ]\n",
    "}\n",
    "data = {\n",
    "    \"courses\": [\n",
    "        {\"code\": \"MATH\", \"number\": \"271\", \"units\": 3},\n",
    "        {\"code\": \"PHIL\", \"number\": \"279\", \"units\": 3},\n",
    "        {\"code\": \"CPSC\", \"number\": \"219\", \"units\": 3},\n",
    "    ]\n",
    "}\n",
    "jsonLogic(rule, data, ops)"
   ]
  },
  {
   "cell_type": "code",
   "execution_count": 107,
   "metadata": {},
   "outputs": [
    {
     "data": {
      "text/plain": [
       "True"
      ]
     },
     "execution_count": 107,
     "metadata": {},
     "output_type": "execute_result"
    }
   ],
   "source": [
    "# CPSC 359: CPSC 355 and PHIL 279 or 377.\n",
    "rule = {\n",
    "    \"and\": [\n",
    "        {\"taken\": [\"CPSC\", \"355\"]},\n",
    "        {\"or\": [{\"taken\": [\"PHIL\", \"279\"]}, {\"taken\": [\"PHIL\", \"377\"]}]},\n",
    "    ]\n",
    "}\n",
    "data = {\n",
    "    \"courses\": [\n",
    "        {\"code\": \"CPSC\", \"number\": \"355\", \"units\": 3},\n",
    "        {\"code\": \"PHIL\", \"number\": \"279\", \"units\": 3},\n",
    "    ]\n",
    "}\n",
    "jsonLogic(rule, data, ops)"
   ]
  },
  {
   "cell_type": "code",
   "execution_count": 108,
   "metadata": {},
   "outputs": [
    {
     "data": {
      "text/plain": [
       "True"
      ]
     },
     "execution_count": 108,
     "metadata": {},
     "output_type": "execute_result"
    }
   ],
   "source": [
    "# DATA 433: CPSC 217, MATH 267 and 311.\n",
    "rule = {\n",
    "    \"and\": [\n",
    "        {\"taken\": [\"CPSC\", \"217\"]},\n",
    "        {\"taken\": [\"MATH\", \"267\"]},\n",
    "        {\"taken\": [\"MATH\", \"311\"]},\n",
    "    ]\n",
    "}\n",
    "data = {\n",
    "    \"courses\": [\n",
    "        {\"code\": \"CPSC\", \"number\": \"217\", \"units\": 3},\n",
    "        {\"code\": \"MATH\", \"number\": \"267\", \"units\": 3},\n",
    "        {\"code\": \"MATH\", \"number\": \"311\", \"units\": 3},\n",
    "    ]\n",
    "}\n",
    "jsonLogic(rule, data, ops)"
   ]
  },
  {
   "cell_type": "code",
   "execution_count": 109,
   "metadata": {},
   "outputs": [
    {
     "data": {
      "text/plain": [
       "True"
      ]
     },
     "execution_count": 109,
     "metadata": {},
     "output_type": "execute_result"
    }
   ],
   "source": [
    "# CPSC 233: CPSC 231 and admission to Computer Science, Bioinformatics, or Natural Science with a primary concentration in Computer Science.\n",
    "rule = {\n",
    "    \"and\": [\n",
    "        {\"taken\": [\"CPSC\", \"231\"]},\n",
    "    ]\n",
    "}\n",
    "data = {\n",
    "    \"courses\": [\n",
    "        {\"code\": \"CPSC\", \"number\": \"231\", \"units\": 3},\n",
    "    ]\n",
    "}\n",
    "jsonLogic(rule, data, ops)"
   ]
  },
  {
   "cell_type": "code",
   "execution_count": 110,
   "metadata": {},
   "outputs": [
    {
     "data": {
      "text/plain": [
       "True"
      ]
     },
     "execution_count": 110,
     "metadata": {},
     "output_type": "execute_result"
    }
   ],
   "source": [
    "# CPSC 399: Consent of the Department.\n",
    "rule = {\n",
    "    \"consent\": [\"Department\", \"CPSC\"]\n",
    "}\n",
    "data = {}\n",
    "jsonLogic(rule, data, ops)"
   ]
  },
  {
   "cell_type": "code",
   "execution_count": 111,
   "metadata": {},
   "outputs": [
    {
     "data": {
      "text/plain": [
       "True"
      ]
     },
     "execution_count": 111,
     "metadata": {},
     "output_type": "execute_result"
    }
   ],
   "source": [
    "# DATA 599: Consent of the Faculty.\n",
    "rule = {\n",
    "    \"consent\": [\"Faculty\", \"SC\"]\n",
    "}\n",
    "data = {}\n",
    "jsonLogic(rule, data, ops)"
   ]
  }
 ],
 "metadata": {
  "language_info": {
   "name": "python"
  }
 },
 "nbformat": 4,
 "nbformat_minor": 2
}
