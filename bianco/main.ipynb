{
 "cells": [
  {
   "cell_type": "code",
   "execution_count": 1,
   "metadata": {},
   "outputs": [
    {
     "name": "stdout",
     "output_type": "stream",
     "text": [
      "['tok2vec', 'tagger', 'parser', 'attribute_ruler', 'lemmatizer', 'merge_complex_course_number', 'fix_ent_head', 'expand_course_code', 'detect_entity', 'detect_entity', 'merge_entity_spans', 'constitute_requisite', 'detect_entity_2', 'detect_entity_2', 'constitute_structure_minor', 'detect_entity_3', 'detect_entity_3', 'constitute_structure_major', 'detect_entity_4', 'detect_entity_4']\n",
      "HTST 300 and one of EAST 331, EAST 333, HTST 209, HTST 301, HTST 315, HTST 317, HTST 405, HTST 407.01, HTST 407.02, HTST 407.03, or consent of the Department.\n",
      "RQ D\n",
      "\n",
      "RQ A -> one of EAST 331, EAST 333, HTST 209, HTST 301, HTST 315, HTST 317, HTST 405, HTST 407.01, HTST 407.02, HTST 407.03\n",
      "RQ B -> consent of the Department.\n",
      "RQ C -> HTST 300 and RQ A,\n",
      "RQ D -> RQ C or RQ B\n",
      "\n",
      "one of EAST 331, EAST 333, HTST 209, HTST 301, HTST 315, HTST 317, HTST 405, HTST 407.01, HTST 407.02, HTST 407.03 -> {'courses': {'required': 1, 'from': [{'course': 'EAST 331'}, {'course': 'EAST 333'}, {'course': 'HTST 209'}, {'course': 'HTST 301'}, {'course': 'HTST 315'}, {'course': 'HTST 317'}, {'course': 'HTST 405'}, {'course': 'HTST 407.01'}, {'course': 'HTST 407.02'}, {'course': 'HTST 407.03'}]}}\n",
      "consent of the Department. -> {'consent': 'the Department'}\n",
      "HTST 300 and RQ A, -> {'and': [{'course': 'HTST 300'}, {'courses': {'required': 1, 'from': [{'course': 'EAST 331'}, {'course': 'EAST 333'}, {'course': 'HTST 209'}, {'course': 'HTST 301'}, {'course': 'HTST 315'}, {'course': 'HTST 317'}, {'course': 'HTST 405'}, {'course': 'HTST 407.01'}, {'course': 'HTST 407.02'}, {'course': 'HTST 407.03'}]}}]}\n",
      "RQ C or RQ B -> {'or': [{'and': [{'course': 'HTST 300'}, {'courses': {'required': 1, 'from': [{'course': 'EAST 331'}, {'course': 'EAST 333'}, {'course': 'HTST 209'}, {'course': 'HTST 301'}, {'course': 'HTST 315'}, {'course': 'HTST 317'}, {'course': 'HTST 405'}, {'course': 'HTST 407.01'}, {'course': 'HTST 407.02'}, {'course': 'HTST 407.03'}]}}]}, {'consent': 'the Department'}]}\n",
      "\n",
      "{ 'or': [ { 'and': [ {'course': 'HTST 300'},\n",
      "                     { 'courses': { 'from': [ {'course': 'EAST 331'},\n",
      "                                              {'course': 'EAST 333'},\n",
      "                                              {'course': 'HTST 209'},\n",
      "                                              {'course': 'HTST 301'},\n",
      "                                              {'course': 'HTST 315'},\n",
      "                                              {'course': 'HTST 317'},\n",
      "                                              {'course': 'HTST 405'},\n",
      "                                              {'course': 'HTST 407.01'},\n",
      "                                              {'course': 'HTST 407.02'},\n",
      "                                              {'course': 'HTST 407.03'}],\n",
      "                                    'required': 1}}]},\n",
      "          {'consent': 'the Department'}]}\n"
     ]
    },
    {
     "data": {
      "text/html": [
       "<span class=\"tex2jax_ignore\"><div class=\"entities\" style=\"line-height: 2.5; direction: ltr\">\n",
       "<mark class=\"entity\" style=\"background: #ddd; padding: 0.45em 0.6em; margin: 0 0.25em; line-height: 1; border-radius: 0.35em;\">\n",
       "    HTST 300 and one of EAST 331, EAST 333, HTST 209, HTST 301, HTST 315, HTST 317, HTST 405, HTST 407.01, HTST 407.02, HTST 407.03, or consent of the Department.\n",
       "    <span style=\"font-size: 0.8em; font-weight: bold; line-height: 1; border-radius: 0.35em; vertical-align: middle; margin-left: 0.5rem\">REQUISITE</span>\n",
       "</mark>\n",
       "</div></span>"
      ],
      "text/plain": [
       "<IPython.core.display.HTML object>"
      ]
     },
     "metadata": {},
     "output_type": "display_data"
    },
    {
     "data": {
      "text/html": [
       "<span class=\"tex2jax_ignore\"><svg xmlns=\"http://www.w3.org/2000/svg\" xmlns:xlink=\"http://www.w3.org/1999/xlink\" xml:lang=\"en\" id=\"c9be4651e60741fb881d6ea3ee54448b-0\" class=\"displacy\" width=\"200\" height=\"137.0\" direction=\"ltr\" style=\"max-width: none; height: 137.0px; color: #000000; background: #ffffff; font-family: Arial; direction: ltr\">\n",
       "<text class=\"displacy-token\" fill=\"currentColor\" text-anchor=\"middle\" y=\"47.0\">\n",
       "    <tspan class=\"displacy-word\" fill=\"currentColor\" x=\"50\">HTST 300 and one of EAST 331, EAST 333, HTST 209, HTST 301, HTST 315, HTST 317, HTST 405, HTST 407.01, HTST 407.02, HTST 407.03, or consent of the Department.</tspan>\n",
       "    <tspan class=\"displacy-tag\" dy=\"2em\" fill=\"currentColor\" x=\"50\">PROPN</tspan>\n",
       "</text>\n",
       "</svg></span>"
      ],
      "text/plain": [
       "<IPython.core.display.HTML object>"
      ]
     },
     "metadata": {},
     "output_type": "display_data"
    }
   ],
   "source": [
    "from pprint import pprint\n",
    "from spacy import displacy\n",
    "from requisites.methods import try_nlp\n",
    "\n",
    "# sent = \"Software Engineering for Engineers 300; and 3 units from Engineering 319, Digital Engineering 319 or Electrical Engineering 419; and 3 units from Software Engineering for Engineers 337, Computer Engineering 335, 339, or Geomatics Engineering 333.\"\n",
    "# sent = \"Biology 30 or 212; Chemistry 30 or 212; and Mathematics 30-1 or 212.\"\n",
    "# sent = \"Computer Science 219, 233 or Data Science 311 and enrolment in one of the Majors in Computer Science, Bioinformatics, Electrical Engineering, Software Engineering, Computer Engineering, Natural Sciences with a primary concentration in Computer Science.\"\n",
    "sent = \"History 300 and one of East Asian Studies 331, 333, History 209, 301, 315, 317, 405, 407.01, 407.02, 407.03, or consent of the Department.\"\n",
    "\n",
    "doc, j = try_nlp({}, sent)\n",
    "print(doc)\n",
    "\n",
    "for token in doc:\n",
    "    print(token.lemma_, end=token.whitespace_)\n",
    "\n",
    "\n",
    "print(\"\")\n",
    "print(\"\")\n",
    "\n",
    "for key, replacement in doc._.replacements:\n",
    "    print(f\"{key} -> {replacement.lemma_}\")\n",
    "\n",
    "print(\"\")\n",
    "\n",
    "for key, json_logic in doc._.json_logics:\n",
    "    print(f\"{key.lemma_} -> {json_logic}\")\n",
    "\n",
    "print(\"\")\n",
    "\n",
    "pprint(j, indent=2, depth=10)\n",
    "\n",
    "displacy.render(doc, style=\"ent\", jupyter=True, options={\"compact\": True, \"distance\": 100})\n",
    "displacy.render(doc, style=\"dep\", jupyter=True, options={\"compact\": True})"
   ]
  }
 ],
 "metadata": {
  "kernelspec": {
   "display_name": ".venv",
   "language": "python",
   "name": "python3"
  },
  "language_info": {
   "codemirror_mode": {
    "name": "ipython",
    "version": 3
   },
   "file_extension": ".py",
   "mimetype": "text/x-python",
   "name": "python",
   "nbconvert_exporter": "python",
   "pygments_lexer": "ipython3",
   "version": "3.12.3"
  }
 },
 "nbformat": 4,
 "nbformat_minor": 2
}
