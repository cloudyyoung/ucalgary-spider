{
 "cells": [
  {
   "cell_type": "code",
   "execution_count": 4,
   "metadata": {},
   "outputs": [],
   "source": [
    "from pprint import pprint\n",
    "from spacy import displacy\n",
    "from bianco.requisites.methods import try_nlp, Mode"
   ]
  },
  {
   "cell_type": "code",
   "execution_count": 5,
   "metadata": {},
   "outputs": [],
   "source": [
    "# sent = \"Actuarial Science 327; Statistics 323; 3 units from Mathematics 311, 313, 367 or 375; and 3 units from Computer Science 217, 231, 235 or Data Science 211.\"\n",
    "# sent = \"CPSC 457 and 3 units from SENG 300, 301 or ENSF 480; and admission to the Schulich School of Engineering.\"\n",
    "# sent = \"SGMA 395 or ENTI 317 or 381.\"\n",
    "# sent = \"One of FILM 321 or 323 and one of FILM 331 or 333.\"\n",
    "# sent = \"FILM 331 or 333.\"\n",
    "# sent = \"ENCI 473; and ENGG 319 or ENDG 319.\"\n",
    "# sent = \"3 units from ENCI 481, ENEE 377 or 519.09.\"\n",
    "# sent = \"ENEL 341, BMEN 327 or ENGG 225.\"\n",
    "# sent = \"ENEL 471; and one of BMEN 319 or ENGG 319 or ENEL 419.\"\n",
    "# sent = \"3 units from ENGG 319, ENDG 319 or ENEL 419.\"\n",
    "# sent = \"FILM 201 and 3 units from 305 or 321.\"\n",
    "# sent = \"INDG 201 and 3 units from INDG 303 or 345.\"\n",
    "# sent = \"One of GEOG 211, 251, 253, UBST 253, GLGY 201, 209; and consent of the Department.\"\n",
    "# sent = \"STAT 205 or 213; and admission to the Kinesiology Honours program; and consent of the Faculty.\"\n",
    "# sent = \"MATH 209 and admission to the Energy Engineering program.\"\n",
    "# sent = \"Both MATH 349 and 353; or both MATH 283 and 381; or MATH 267.\"\n",
    "# sent = \"MATH 431 or PMAT 431; MATH 429 or PMAT 429 or MATH 327 or PMAT 427.\"\n",
    "# sent = \"MATH 445 or 447; 3 units of Mathematics in the Field of Mathematics at the 400 level or above.\"\n",
    "# sent = \"MATH 383; and 6 units of Mathematics in the Field of Mathematics at the 400 level or above.\"\n",
    "# sent = \"MRSC 451 and consent of the Department.\"\n",
    "# sent = \"Admission to the Haskayne School of Business and OBHR 317.\"\n",
    "# sent = \"PHYS 211 or 221 or 227.\"\n",
    "# sent = \"MATH 277 and PHYS 259 and admission to a program in Engineering.\"\n",
    "# sent = \"PHYS 341; and 3 units from CPSC 217, 231 or DATA 211.\"\n",
    "# sent = \"ACSC 327; and MATH 323 or STAT 323.\"\n",
    "# sent = \"ANTH 203.\"\n",
    "# sent = (\n",
    "#     \"One of GEOG 211, 251, 253, UBST 253, GLGY 201, 209; and consent of the Department.\"\n",
    "# )\n",
    "# sent = \"One of CORE 209, 435, KNES 355, NURS 303, 305, PSYC 203, 205, SOWK 300, 302, 304, 306, 363 or consent of the instructor(s).\"\n",
    "\n",
    "# Problematic sentences\n",
    "# sent = \"History 300 and one of East Asian Studies 331, 333, History 209, 301, 315, 317, 405, 407.01, 407.02, 407.03, or consent of the Department.\"\n",
    "# sent = \"Kinesiology 203, 213, 323 and admission to the Faculty of Kinesiology.\"\n",
    "# sent = \"Mathematics 30-1, Mathematics 30-2, or Mathematics 31.\"\n",
    "# sent = \"Admission to the Psychology major or Honours program and Psychology 300, 301, 369.\"\n",
    "# sent = \"Computer Science 219, 233 or Data Science 311 and enrolment in one of the Majors in Computer Science, Bioinformatics, Electrical Engineering, Software Engineering, Computer Engineering, Natural Sciences with a primary concentration in Computer Science.\"\n",
    "# sent = \"Computer Science 219, 233 or Data Science 311 and enrolment in one of the Majors in Computer Science, Bioinformatics, Electrical Engineering, Software Engineering, Computer Engineering, Natural Sciences with a primary concentration in Computer Science.\"\n",
    "# sent = \"Admission to the Haskayne School of Business, and 54 units including Accounting 217.\"\n",
    "# sent = \"3 units from Engineering 204, Chemistry 201, 209 or 211; and Chemistry 203 or 213; and 3 units from Mathematics 249, 265, 275.\"\n",
    "# sent = \"Software Engineering for Engineers 300; and 3 units from Engineering 319, Digital Engineering 319 or Electrical Engineering 419; and 3 units from Software Engineering for Engineers 337, Computer Engineering 335, 339, or Geomatics Engineering 333.\"\n",
    "# sent = \"3 units from Computer Science 219, 233 or 235; and Computer Science 251 or Statistics 213; and Mathematics 271 or 273; and 3 units from Mathematics 249, 265 or 275; and Philosophy 279 or 377.\"\n",
    "# sent = \"Psychology 200, 201, and admission to the International Indigenous Studies major.\"\n",
    "# sent = \"Geology 201 and 202; and Mathematics 267 or 277; and Physics 211 or 221, and 223.\"\n",
    "# sent = \"Physics 481; and Mathematics 433, Physics 435 or Physics Engineering 435.\"\n",
    "# sent = \"Chemistry 333 or 433; and one of 353 or 355; or Chemistry 357 and 409.\"\n",
    "# sent = \"Software Engineering for Engineers 300; and 3 units from Engineering 319, Digital Engineering 319 or Electrical Engineering 419; and 3 units from Software Engineering for Engineers 337, Computer Engineering 335, 339, or Geomatics Engineering 333.\"\n",
    "# sent = \"Medical Science 301 or 401: and Statistics 321.\"\n",
    "# sent = \"Biology 30 or 212; Chemistry 30 or 212; and Mathematics 30-1 or 212.\"\n",
    "# sent = \"60 units.\"\n",
    "# sent = \"Biology 315, 72 units and consent of the Department.\"\n",
    "# sent = \"Biology 315, 327, 233 or 244.72, 72 units and consent of the Department.\"\n",
    "# sent = \"Chemistry 351; Chemistry 353, or 355.\"\n",
    "# sent = \"Chemistry 351, and one of 353 or 355.\"\n",
    "# sent = \"Film 201 and 3 units from 305 or 321.\"\n",
    "# sent = \"Engineering Energy and Environment 355.\"\n",
    "# sent = \"Chemistry 201 or 211; and 203 or 213;, and 351.\"\n",
    "# sent = \"Medical Science 301 or 401: and Statistics 321.\"\n",
    "# sent = \"Nursing 301,302,303,305,401,402,403 and 404\"\n",
    "# sent = \"Medical Science 301 or 401: and Statistics 321.\"\n",
    "# sent = \"Completion of 60 units including 3 units from Political Science 321, 426, 427, 428.\"\n",
    "# sent = \"Dance 231 and 247 or 267.\"\n",
    "# sent = \"6 units of courses labelled Biochemistry.\"\n",
    "# sent = \"Biology 311, 331, Cellular, Molecular and Microbial Biology 343; and 3 units from Cellular, Molecular and Microbial Biology 411, Biochemistry 431 or 443.\"\n",
    "sent = \"Nursing 485, 488, and 489.\"\n",
    "sent = \"Credit for Data Science 211 and any one of Computer Science 215, 217, 231, 235, Computer Engineering 339, Engineering 233 and Digital Engineering 233 will not be allowed.\"\n",
    "\n",
    "\n",
    "# sent = \"Credit for Mathematics 583 and 683 will not be allowed.\"\n",
    "# sent = \"Credit for Nursing 222 and either Zoology 269 or Kinesiology 260 will not be allowed.\"\n",
    "# sent = \"Credit for Computer Science 572 and either 599.77 and 672 will not be allowed.\"\n",
    "# sent = \"Credit for Data Science 211 and any one of Computer Science 215, 217, 231, 235, Computer Engineering 339, Engineering 233 and Digital Engineering 233 will not be allowed.\"\n",
    "# sent = \"Credit for both Computer Science 503 and either 502 or Software Engineering for Engineers 599 will not be allowed.\""
   ]
  },
  {
   "cell_type": "code",
   "execution_count": 6,
   "metadata": {},
   "outputs": [
    {
     "name": "stdout",
     "output_type": "stream",
     "text": [
      "DATA 211 or one of CPSC 215, CPSC 217, CPSC 231, CPSC 235, ENCM 339, ENGG 233 or ENDG 233.\n",
      "RQ D.\n",
      "\n",
      "token DATA 211 or one of CPSC 215, CPSC 217, CPSC 231, CPSC 235, ENCM 339, ENGG 233 or ENDG 233 RQ D PROPN ROOT DATA 211 or one of CPSC 215, CPSC 217, CPSC 231, CPSC 235, ENCM 339, ENGG 233 or ENDG 233 []\n",
      "token . . PUNCT punct . []\n",
      "\n",
      "RQ C -> one of CPSC215, CPSC217, CPSC231, CPSC235, ENCM339, ENGG233 or ENDG233\n",
      "RQ D -> DATA211 or RQ C\n",
      "\n",
      "one of CPSC215, CPSC217, CPSC231, CPSC235, ENCM339, ENGG233 or ENDG233 -> {'courses': {'required': 1, 'from': [{'course': 'CPSC215'}, {'course': 'CPSC217'}, {'course': 'CPSC231'}, {'course': 'CPSC235'}, {'course': 'ENCM339'}, {'course': 'ENGG233'}, {'course': 'ENDG233'}]}}\n",
      "DATA211 or RQ C -> {'or': [{'course': 'DATA211'}, {'courses': {'required': 1, 'from': [{'course': 'CPSC215'}, {'course': 'CPSC217'}, {'course': 'CPSC231'}, {'course': 'CPSC235'}, {'course': 'ENCM339'}, {'course': 'ENGG233'}, {'course': 'ENDG233'}]}}]}\n",
      "\n",
      "{ 'or': [ {'course': 'DATA211'},\n",
      "          { 'courses': { 'from': [ {'course': 'CPSC215'},\n",
      "                                   {'course': 'CPSC217'},\n",
      "                                   {'course': 'CPSC231'},\n",
      "                                   {'course': 'CPSC235'},\n",
      "                                   {'course': 'ENCM339'},\n",
      "                                   {'course': 'ENGG233'},\n",
      "                                   {'course': 'ENDG233'}],\n",
      "                         'required': 1}}]}\n"
     ]
    },
    {
     "data": {
      "text/html": [
       "<span class=\"tex2jax_ignore\"><div class=\"entities\" style=\"line-height: 2.5; direction: ltr\">\n",
       "<mark class=\"entity\" style=\"background: #ddd; padding: 0.45em 0.6em; margin: 0 0.25em; line-height: 1; border-radius: 0.35em;\">\n",
       "    DATA 211 or one of CPSC 215, CPSC 217, CPSC 231, CPSC 235, ENCM 339, ENGG 233 or ENDG 233\n",
       "    <span style=\"font-size: 0.8em; font-weight: bold; line-height: 1; border-radius: 0.35em; vertical-align: middle; margin-left: 0.5rem\">REQUISITE</span>\n",
       "</mark>\n",
       ".</div></span>"
      ],
      "text/plain": [
       "<IPython.core.display.HTML object>"
      ]
     },
     "metadata": {},
     "output_type": "display_data"
    },
    {
     "data": {
      "text/html": [
       "<span class=\"tex2jax_ignore\"><svg xmlns=\"http://www.w3.org/2000/svg\" xmlns:xlink=\"http://www.w3.org/1999/xlink\" xml:lang=\"en\" id=\"1313c79b777843c4a383aa8e7e00da9a-0\" class=\"displacy\" width=\"200\" height=\"137.0\" direction=\"ltr\" style=\"max-width: none; height: 137.0px; color: #000000; background: #ffffff; font-family: Arial; direction: ltr\">\n",
       "<text class=\"displacy-token\" fill=\"currentColor\" text-anchor=\"middle\" y=\"47.0\">\n",
       "    <tspan class=\"displacy-word\" fill=\"currentColor\" x=\"50\">DATA 211 or one of CPSC 215, CPSC 217, CPSC 231, CPSC 235, ENCM 339, ENGG 233 or ENDG 233.</tspan>\n",
       "    <tspan class=\"displacy-tag\" dy=\"2em\" fill=\"currentColor\" x=\"50\">PROPN</tspan>\n",
       "</text>\n",
       "</svg></span>"
      ],
      "text/plain": [
       "<IPython.core.display.HTML object>"
      ]
     },
     "metadata": {},
     "output_type": "display_data"
    }
   ],
   "source": [
    "doc, j = try_nlp({}, sent, Mode.ANTIREQ)\n",
    "print(doc)\n",
    "\n",
    "for token in doc:\n",
    "    print(token.lemma_, end=token.whitespace_)\n",
    "\n",
    "\n",
    "print(\"\")\n",
    "print(\"\")\n",
    "\n",
    "for token in doc:\n",
    "    print(\"token\", token.text, token.lemma_, token.pos_, token.dep_, token.head, list(token.ancestors))\n",
    "\n",
    "print(\"\")\n",
    "\n",
    "\n",
    "for key, replacement in doc._.replacements:\n",
    "    print(f\"{key} -> {replacement.lemma_}\")\n",
    "\n",
    "print(\"\")\n",
    "\n",
    "for key, json_logic in doc._.json_logics:\n",
    "    print(f\"{key.lemma_} -> {json_logic}\")\n",
    "\n",
    "print(\"\")\n",
    "\n",
    "pprint(j, indent=2, depth=10)\n",
    "\n",
    "displacy.render(doc, style=\"ent\", jupyter=True, options={\"compact\": True, \"distance\": 100})\n",
    "displacy.render(doc, style=\"dep\", jupyter=True, options={\"compact\": True})"
   ]
  }
 ],
 "metadata": {
  "kernelspec": {
   "display_name": ".venv",
   "language": "python",
   "name": "python3"
  },
  "language_info": {
   "codemirror_mode": {
    "name": "ipython",
    "version": 3
   },
   "file_extension": ".py",
   "mimetype": "text/x-python",
   "name": "python",
   "nbconvert_exporter": "python",
   "pygments_lexer": "ipython3",
   "version": "3.12.3"
  }
 },
 "nbformat": 4,
 "nbformat_minor": 2
}
