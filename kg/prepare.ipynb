{
 "cells": [
  {
   "cell_type": "code",
   "execution_count": 5,
   "metadata": {},
   "outputs": [],
   "source": [
    "import jsonlines\n",
    "from bs4 import BeautifulSoup"
   ]
  },
  {
   "cell_type": "code",
   "execution_count": 6,
   "metadata": {},
   "outputs": [
    {
     "name": "stderr",
     "output_type": "stream",
     "text": [
      "/var/folders/qc/sbvdf6nd0fsfx20ljtyxr52m0000gn/T/ipykernel_22050/2800918367.py:13: MarkupResemblesLocatorWarning: The input looks more like a filename than markup. You may want to open this file and pass the filehandle into Beautiful Soup.\n",
      "  prereq = BeautifulSoup(prereq).get_text()\n"
     ]
    }
   ],
   "source": [
    "with jsonlines.open('../data/course-info.jsonlines', 'r') as jsonl_f:\n",
    "    lst = [obj for obj in jsonl_f]\n",
    "    \n",
    "    prereqs = []\n",
    "    antireqs = []\n",
    "    coreqs = []\n",
    "\n",
    "    for obj in lst:\n",
    "        \n",
    "        # Prerequisites\n",
    "        prereq = obj[\"prereq\"]\n",
    "        if prereq: \n",
    "            prereq = BeautifulSoup(prereq).get_text()\n",
    "            prereqs.append(prereq)\n",
    "            \n",
    "        # Anti-requisite\n",
    "        antireq = obj[\"antireq\"]\n",
    "        if antireq: \n",
    "            antireq = BeautifulSoup(antireq).get_text()\n",
    "            antireqs.append(antireq)\n",
    "            \n",
    "        # Corequisite\n",
    "        coreq = obj[\"coreq\"]\n",
    "        if coreq: \n",
    "            coreq = BeautifulSoup(coreq).get_text()\n",
    "            coreqs.append(coreq)\n"
   ]
  },
  {
   "cell_type": "code",
   "execution_count": 8,
   "metadata": {},
   "outputs": [],
   "source": [
    "# Write to file\n",
    "with open('data/prereqs.txt', 'w') as f:\n",
    "    for item in prereqs:\n",
    "        f.write(item + \"\\n\")\n",
    "        \n",
    "with open('data/antireqs.txt', 'w') as f:\n",
    "    for item in antireqs:\n",
    "        f.write(item + \"\\n\")\n",
    "        \n",
    "with open('data/coreqs.txt', 'w') as f:\n",
    "    for item in coreqs:\n",
    "        f.write(item + \"\\n\")\n"
   ]
  }
 ],
 "metadata": {
  "kernelspec": {
   "display_name": "Python 3.9.7 64-bit",
   "language": "python",
   "name": "python3"
  },
  "language_info": {
   "codemirror_mode": {
    "name": "ipython",
    "version": 3
   },
   "file_extension": ".py",
   "mimetype": "text/x-python",
   "name": "python",
   "nbconvert_exporter": "python",
   "pygments_lexer": "ipython3",
   "version": "3.11.5"
  },
  "orig_nbformat": 4,
  "vscode": {
   "interpreter": {
    "hash": "fd7a121677b105cad07a52a64a97694d106127d4ba2c3ddf73d8fbcdae73d31e"
   }
  }
 },
 "nbformat": 4,
 "nbformat_minor": 2
}
